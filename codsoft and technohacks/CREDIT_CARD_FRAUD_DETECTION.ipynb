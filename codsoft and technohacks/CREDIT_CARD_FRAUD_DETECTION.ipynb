{
  "cells": [
    {
      "cell_type": "markdown",
      "metadata": {
        "id": "view-in-github",
        "colab_type": "text"
      },
      "source": [
        "<a href=\"https://colab.research.google.com/github/poiuyytee/CODSOFT/blob/main/CREDIT_CARD_FRAUD_DETECTION.ipynb\" target=\"_parent\"><img src=\"https://colab.research.google.com/assets/colab-badge.svg\" alt=\"Open In Colab\"/></a>"
      ]
    },
    {
      "cell_type": "code",
      "execution_count": 20,
      "id": "674d7717",
      "metadata": {
        "execution": {
          "iopub.execute_input": "2024-05-22T14:16:26.444927Z",
          "iopub.status.busy": "2024-05-22T14:16:26.443911Z",
          "iopub.status.idle": "2024-05-22T14:16:27.419491Z",
          "shell.execute_reply": "2024-05-22T14:16:27.418222Z"
        },
        "papermill": {
          "duration": 0.999542,
          "end_time": "2024-05-22T14:16:27.422565",
          "exception": false,
          "start_time": "2024-05-22T14:16:26.423023",
          "status": "completed"
        },
        "tags": [],
        "id": "674d7717"
      },
      "outputs": [],
      "source": [
        "import numpy as np\n",
        "import pandas as pd"
      ]
    },
    {
      "cell_type": "code",
      "execution_count": 21,
      "id": "759dc49c",
      "metadata": {
        "execution": {
          "iopub.execute_input": "2024-05-22T14:16:27.465957Z",
          "iopub.status.busy": "2024-05-22T14:16:27.465069Z",
          "iopub.status.idle": "2024-05-22T14:16:46.411407Z",
          "shell.execute_reply": "2024-05-22T14:16:46.410229Z"
        },
        "papermill": {
          "duration": 18.971128,
          "end_time": "2024-05-22T14:16:46.414440",
          "exception": false,
          "start_time": "2024-05-22T14:16:27.443312",
          "status": "completed"
        },
        "tags": [],
        "id": "759dc49c"
      },
      "outputs": [],
      "source": [
        "df_test =  pd.read_csv('/content/fraudTest.csv')\n",
        "df_train =  pd.read_csv('/content/fraudTrain.csv')"
      ]
    },
    {
      "cell_type": "code",
      "execution_count": 22,
      "id": "9e462cab",
      "metadata": {
        "execution": {
          "iopub.execute_input": "2024-05-22T14:16:46.455450Z",
          "iopub.status.busy": "2024-05-22T14:16:46.454359Z",
          "iopub.status.idle": "2024-05-22T14:16:46.460421Z",
          "shell.execute_reply": "2024-05-22T14:16:46.459373Z"
        },
        "papermill": {
          "duration": 0.029791,
          "end_time": "2024-05-22T14:16:46.463465",
          "exception": false,
          "start_time": "2024-05-22T14:16:46.433674",
          "status": "completed"
        },
        "tags": [],
        "colab": {
          "base_uri": "https://localhost:8080/"
        },
        "id": "9e462cab",
        "outputId": "8c1f187b-20d4-4013-97aa-70d1fced243c"
      },
      "outputs": [
        {
          "output_type": "stream",
          "name": "stdout",
          "text": [
            "128241 128200\n"
          ]
        }
      ],
      "source": [
        "print(len(df_train), len(df_test))"
      ]
    },
    {
      "cell_type": "markdown",
      "id": "1a0121ae",
      "metadata": {
        "papermill": {
          "duration": 0.018672,
          "end_time": "2024-05-22T14:16:46.501762",
          "exception": false,
          "start_time": "2024-05-22T14:16:46.483090",
          "status": "completed"
        },
        "tags": [],
        "id": "1a0121ae"
      },
      "source": [
        "I'm goint to use both dataframes, test and train, into one, with union operation"
      ]
    },
    {
      "cell_type": "code",
      "execution_count": 23,
      "id": "47e3748a",
      "metadata": {
        "execution": {
          "iopub.execute_input": "2024-05-22T14:16:46.542569Z",
          "iopub.status.busy": "2024-05-22T14:16:46.542139Z",
          "iopub.status.idle": "2024-05-22T14:16:47.010120Z",
          "shell.execute_reply": "2024-05-22T14:16:47.008951Z"
        },
        "papermill": {
          "duration": 0.491861,
          "end_time": "2024-05-22T14:16:47.012603",
          "exception": false,
          "start_time": "2024-05-22T14:16:46.520742",
          "status": "completed"
        },
        "tags": [],
        "colab": {
          "base_uri": "https://localhost:8080/"
        },
        "id": "47e3748a",
        "outputId": "66657134-92df-4048-c00e-fcfb71eb4487"
      },
      "outputs": [
        {
          "output_type": "execute_result",
          "data": {
            "text/plain": [
              "256441"
            ]
          },
          "metadata": {},
          "execution_count": 23
        }
      ],
      "source": [
        "df_complete = pd.concat([df_train, df_test])\n",
        "len(df_complete)"
      ]
    },
    {
      "cell_type": "code",
      "execution_count": 24,
      "id": "0685018f",
      "metadata": {
        "execution": {
          "iopub.execute_input": "2024-05-22T14:16:47.054150Z",
          "iopub.status.busy": "2024-05-22T14:16:47.053213Z",
          "iopub.status.idle": "2024-05-22T14:16:47.098550Z",
          "shell.execute_reply": "2024-05-22T14:16:47.097371Z"
        },
        "papermill": {
          "duration": 0.069041,
          "end_time": "2024-05-22T14:16:47.101268",
          "exception": false,
          "start_time": "2024-05-22T14:16:47.032227",
          "status": "completed"
        },
        "tags": [],
        "colab": {
          "base_uri": "https://localhost:8080/",
          "height": 550
        },
        "id": "0685018f",
        "outputId": "cbf45533-e06e-4fed-f826-9ea14c442d0a"
      },
      "outputs": [
        {
          "output_type": "execute_result",
          "data": {
            "text/plain": [
              "   Unnamed: 0 trans_date_trans_time        cc_num  \\\n",
              "0           0   2019-01-01 00:00:18  2.703186e+15   \n",
              "1           1   2019-01-01 00:00:44  6.304233e+11   \n",
              "2           2   2019-01-01 00:00:51  3.885949e+13   \n",
              "3           3   2019-01-01 00:01:16  3.534094e+15   \n",
              "4           4   2019-01-01 00:03:06  3.755342e+14   \n",
              "\n",
              "                             merchant       category     amt      first  \\\n",
              "0          fraud_Rippin, Kub and Mann       misc_net    4.97   Jennifer   \n",
              "1     fraud_Heller, Gutmann and Zieme    grocery_pos  107.23  Stephanie   \n",
              "2                fraud_Lind-Buckridge  entertainment  220.11     Edward   \n",
              "3  fraud_Kutch, Hermiston and Farrell  gas_transport   45.00     Jeremy   \n",
              "4                 fraud_Keeling-Crist       misc_pos   41.96      Tyler   \n",
              "\n",
              "      last gender                        street  ...      lat      long  \\\n",
              "0    Banks      F                561 Perry Cove  ...  36.0788  -81.1781   \n",
              "1     Gill      F  43039 Riley Greens Suite 393  ...  48.8878 -118.2105   \n",
              "2  Sanchez      M      594 White Dale Suite 530  ...  42.1808 -112.2620   \n",
              "3    White      M   9443 Cynthia Court Apt. 038  ...  46.2306 -112.1138   \n",
              "4   Garcia      M              408 Bradley Rest  ...  38.4207  -79.4629   \n",
              "\n",
              "   city_pop                                job         dob  \\\n",
              "0    3495.0          Psychologist, counselling  1988-03-09   \n",
              "1     149.0  Special educational needs teacher  1978-06-21   \n",
              "2    4154.0        Nature conservation officer  1962-01-19   \n",
              "3    1939.0                    Patent attorney  1967-01-12   \n",
              "4      99.0     Dance movement psychotherapist  1986-03-28   \n",
              "\n",
              "                          trans_num     unix_time  merch_lat  merch_long  \\\n",
              "0  0b242abb623afc578575680df30655b9  1.325376e+09  36.011293  -82.048315   \n",
              "1  1f76529f8574734946361c461b024d99  1.325376e+09  49.159047 -118.186462   \n",
              "2  a1a22d70485983eac12b5b88dad1cf95  1.325376e+09  43.150704 -112.154481   \n",
              "3  6b849c168bdad6f867558c3793159a81  1.325376e+09  47.034331 -112.561071   \n",
              "4  a41d7549acf90789359a9aa5346dcb46  1.325376e+09  38.674999  -78.632459   \n",
              "\n",
              "   is_fraud  \n",
              "0       0.0  \n",
              "1       0.0  \n",
              "2       0.0  \n",
              "3       0.0  \n",
              "4       0.0  \n",
              "\n",
              "[5 rows x 23 columns]"
            ],
            "text/html": [
              "\n",
              "  <div id=\"df-c8e84a64-8184-4335-a8e9-67b9684910fe\" class=\"colab-df-container\">\n",
              "    <div>\n",
              "<style scoped>\n",
              "    .dataframe tbody tr th:only-of-type {\n",
              "        vertical-align: middle;\n",
              "    }\n",
              "\n",
              "    .dataframe tbody tr th {\n",
              "        vertical-align: top;\n",
              "    }\n",
              "\n",
              "    .dataframe thead th {\n",
              "        text-align: right;\n",
              "    }\n",
              "</style>\n",
              "<table border=\"1\" class=\"dataframe\">\n",
              "  <thead>\n",
              "    <tr style=\"text-align: right;\">\n",
              "      <th></th>\n",
              "      <th>Unnamed: 0</th>\n",
              "      <th>trans_date_trans_time</th>\n",
              "      <th>cc_num</th>\n",
              "      <th>merchant</th>\n",
              "      <th>category</th>\n",
              "      <th>amt</th>\n",
              "      <th>first</th>\n",
              "      <th>last</th>\n",
              "      <th>gender</th>\n",
              "      <th>street</th>\n",
              "      <th>...</th>\n",
              "      <th>lat</th>\n",
              "      <th>long</th>\n",
              "      <th>city_pop</th>\n",
              "      <th>job</th>\n",
              "      <th>dob</th>\n",
              "      <th>trans_num</th>\n",
              "      <th>unix_time</th>\n",
              "      <th>merch_lat</th>\n",
              "      <th>merch_long</th>\n",
              "      <th>is_fraud</th>\n",
              "    </tr>\n",
              "  </thead>\n",
              "  <tbody>\n",
              "    <tr>\n",
              "      <th>0</th>\n",
              "      <td>0</td>\n",
              "      <td>2019-01-01 00:00:18</td>\n",
              "      <td>2.703186e+15</td>\n",
              "      <td>fraud_Rippin, Kub and Mann</td>\n",
              "      <td>misc_net</td>\n",
              "      <td>4.97</td>\n",
              "      <td>Jennifer</td>\n",
              "      <td>Banks</td>\n",
              "      <td>F</td>\n",
              "      <td>561 Perry Cove</td>\n",
              "      <td>...</td>\n",
              "      <td>36.0788</td>\n",
              "      <td>-81.1781</td>\n",
              "      <td>3495.0</td>\n",
              "      <td>Psychologist, counselling</td>\n",
              "      <td>1988-03-09</td>\n",
              "      <td>0b242abb623afc578575680df30655b9</td>\n",
              "      <td>1.325376e+09</td>\n",
              "      <td>36.011293</td>\n",
              "      <td>-82.048315</td>\n",
              "      <td>0.0</td>\n",
              "    </tr>\n",
              "    <tr>\n",
              "      <th>1</th>\n",
              "      <td>1</td>\n",
              "      <td>2019-01-01 00:00:44</td>\n",
              "      <td>6.304233e+11</td>\n",
              "      <td>fraud_Heller, Gutmann and Zieme</td>\n",
              "      <td>grocery_pos</td>\n",
              "      <td>107.23</td>\n",
              "      <td>Stephanie</td>\n",
              "      <td>Gill</td>\n",
              "      <td>F</td>\n",
              "      <td>43039 Riley Greens Suite 393</td>\n",
              "      <td>...</td>\n",
              "      <td>48.8878</td>\n",
              "      <td>-118.2105</td>\n",
              "      <td>149.0</td>\n",
              "      <td>Special educational needs teacher</td>\n",
              "      <td>1978-06-21</td>\n",
              "      <td>1f76529f8574734946361c461b024d99</td>\n",
              "      <td>1.325376e+09</td>\n",
              "      <td>49.159047</td>\n",
              "      <td>-118.186462</td>\n",
              "      <td>0.0</td>\n",
              "    </tr>\n",
              "    <tr>\n",
              "      <th>2</th>\n",
              "      <td>2</td>\n",
              "      <td>2019-01-01 00:00:51</td>\n",
              "      <td>3.885949e+13</td>\n",
              "      <td>fraud_Lind-Buckridge</td>\n",
              "      <td>entertainment</td>\n",
              "      <td>220.11</td>\n",
              "      <td>Edward</td>\n",
              "      <td>Sanchez</td>\n",
              "      <td>M</td>\n",
              "      <td>594 White Dale Suite 530</td>\n",
              "      <td>...</td>\n",
              "      <td>42.1808</td>\n",
              "      <td>-112.2620</td>\n",
              "      <td>4154.0</td>\n",
              "      <td>Nature conservation officer</td>\n",
              "      <td>1962-01-19</td>\n",
              "      <td>a1a22d70485983eac12b5b88dad1cf95</td>\n",
              "      <td>1.325376e+09</td>\n",
              "      <td>43.150704</td>\n",
              "      <td>-112.154481</td>\n",
              "      <td>0.0</td>\n",
              "    </tr>\n",
              "    <tr>\n",
              "      <th>3</th>\n",
              "      <td>3</td>\n",
              "      <td>2019-01-01 00:01:16</td>\n",
              "      <td>3.534094e+15</td>\n",
              "      <td>fraud_Kutch, Hermiston and Farrell</td>\n",
              "      <td>gas_transport</td>\n",
              "      <td>45.00</td>\n",
              "      <td>Jeremy</td>\n",
              "      <td>White</td>\n",
              "      <td>M</td>\n",
              "      <td>9443 Cynthia Court Apt. 038</td>\n",
              "      <td>...</td>\n",
              "      <td>46.2306</td>\n",
              "      <td>-112.1138</td>\n",
              "      <td>1939.0</td>\n",
              "      <td>Patent attorney</td>\n",
              "      <td>1967-01-12</td>\n",
              "      <td>6b849c168bdad6f867558c3793159a81</td>\n",
              "      <td>1.325376e+09</td>\n",
              "      <td>47.034331</td>\n",
              "      <td>-112.561071</td>\n",
              "      <td>0.0</td>\n",
              "    </tr>\n",
              "    <tr>\n",
              "      <th>4</th>\n",
              "      <td>4</td>\n",
              "      <td>2019-01-01 00:03:06</td>\n",
              "      <td>3.755342e+14</td>\n",
              "      <td>fraud_Keeling-Crist</td>\n",
              "      <td>misc_pos</td>\n",
              "      <td>41.96</td>\n",
              "      <td>Tyler</td>\n",
              "      <td>Garcia</td>\n",
              "      <td>M</td>\n",
              "      <td>408 Bradley Rest</td>\n",
              "      <td>...</td>\n",
              "      <td>38.4207</td>\n",
              "      <td>-79.4629</td>\n",
              "      <td>99.0</td>\n",
              "      <td>Dance movement psychotherapist</td>\n",
              "      <td>1986-03-28</td>\n",
              "      <td>a41d7549acf90789359a9aa5346dcb46</td>\n",
              "      <td>1.325376e+09</td>\n",
              "      <td>38.674999</td>\n",
              "      <td>-78.632459</td>\n",
              "      <td>0.0</td>\n",
              "    </tr>\n",
              "  </tbody>\n",
              "</table>\n",
              "<p>5 rows × 23 columns</p>\n",
              "</div>\n",
              "    <div class=\"colab-df-buttons\">\n",
              "\n",
              "  <div class=\"colab-df-container\">\n",
              "    <button class=\"colab-df-convert\" onclick=\"convertToInteractive('df-c8e84a64-8184-4335-a8e9-67b9684910fe')\"\n",
              "            title=\"Convert this dataframe to an interactive table.\"\n",
              "            style=\"display:none;\">\n",
              "\n",
              "  <svg xmlns=\"http://www.w3.org/2000/svg\" height=\"24px\" viewBox=\"0 -960 960 960\">\n",
              "    <path d=\"M120-120v-720h720v720H120Zm60-500h600v-160H180v160Zm220 220h160v-160H400v160Zm0 220h160v-160H400v160ZM180-400h160v-160H180v160Zm440 0h160v-160H620v160ZM180-180h160v-160H180v160Zm440 0h160v-160H620v160Z\"/>\n",
              "  </svg>\n",
              "    </button>\n",
              "\n",
              "  <style>\n",
              "    .colab-df-container {\n",
              "      display:flex;\n",
              "      gap: 12px;\n",
              "    }\n",
              "\n",
              "    .colab-df-convert {\n",
              "      background-color: #E8F0FE;\n",
              "      border: none;\n",
              "      border-radius: 50%;\n",
              "      cursor: pointer;\n",
              "      display: none;\n",
              "      fill: #1967D2;\n",
              "      height: 32px;\n",
              "      padding: 0 0 0 0;\n",
              "      width: 32px;\n",
              "    }\n",
              "\n",
              "    .colab-df-convert:hover {\n",
              "      background-color: #E2EBFA;\n",
              "      box-shadow: 0px 1px 2px rgba(60, 64, 67, 0.3), 0px 1px 3px 1px rgba(60, 64, 67, 0.15);\n",
              "      fill: #174EA6;\n",
              "    }\n",
              "\n",
              "    .colab-df-buttons div {\n",
              "      margin-bottom: 4px;\n",
              "    }\n",
              "\n",
              "    [theme=dark] .colab-df-convert {\n",
              "      background-color: #3B4455;\n",
              "      fill: #D2E3FC;\n",
              "    }\n",
              "\n",
              "    [theme=dark] .colab-df-convert:hover {\n",
              "      background-color: #434B5C;\n",
              "      box-shadow: 0px 1px 3px 1px rgba(0, 0, 0, 0.15);\n",
              "      filter: drop-shadow(0px 1px 2px rgba(0, 0, 0, 0.3));\n",
              "      fill: #FFFFFF;\n",
              "    }\n",
              "  </style>\n",
              "\n",
              "    <script>\n",
              "      const buttonEl =\n",
              "        document.querySelector('#df-c8e84a64-8184-4335-a8e9-67b9684910fe button.colab-df-convert');\n",
              "      buttonEl.style.display =\n",
              "        google.colab.kernel.accessAllowed ? 'block' : 'none';\n",
              "\n",
              "      async function convertToInteractive(key) {\n",
              "        const element = document.querySelector('#df-c8e84a64-8184-4335-a8e9-67b9684910fe');\n",
              "        const dataTable =\n",
              "          await google.colab.kernel.invokeFunction('convertToInteractive',\n",
              "                                                    [key], {});\n",
              "        if (!dataTable) return;\n",
              "\n",
              "        const docLinkHtml = 'Like what you see? Visit the ' +\n",
              "          '<a target=\"_blank\" href=https://colab.research.google.com/notebooks/data_table.ipynb>data table notebook</a>'\n",
              "          + ' to learn more about interactive tables.';\n",
              "        element.innerHTML = '';\n",
              "        dataTable['output_type'] = 'display_data';\n",
              "        await google.colab.output.renderOutput(dataTable, element);\n",
              "        const docLink = document.createElement('div');\n",
              "        docLink.innerHTML = docLinkHtml;\n",
              "        element.appendChild(docLink);\n",
              "      }\n",
              "    </script>\n",
              "  </div>\n",
              "\n",
              "\n",
              "<div id=\"df-40e8f73d-ac7b-40b4-b79c-90a14bf2c5b5\">\n",
              "  <button class=\"colab-df-quickchart\" onclick=\"quickchart('df-40e8f73d-ac7b-40b4-b79c-90a14bf2c5b5')\"\n",
              "            title=\"Suggest charts\"\n",
              "            style=\"display:none;\">\n",
              "\n",
              "<svg xmlns=\"http://www.w3.org/2000/svg\" height=\"24px\"viewBox=\"0 0 24 24\"\n",
              "     width=\"24px\">\n",
              "    <g>\n",
              "        <path d=\"M19 3H5c-1.1 0-2 .9-2 2v14c0 1.1.9 2 2 2h14c1.1 0 2-.9 2-2V5c0-1.1-.9-2-2-2zM9 17H7v-7h2v7zm4 0h-2V7h2v10zm4 0h-2v-4h2v4z\"/>\n",
              "    </g>\n",
              "</svg>\n",
              "  </button>\n",
              "\n",
              "<style>\n",
              "  .colab-df-quickchart {\n",
              "      --bg-color: #E8F0FE;\n",
              "      --fill-color: #1967D2;\n",
              "      --hover-bg-color: #E2EBFA;\n",
              "      --hover-fill-color: #174EA6;\n",
              "      --disabled-fill-color: #AAA;\n",
              "      --disabled-bg-color: #DDD;\n",
              "  }\n",
              "\n",
              "  [theme=dark] .colab-df-quickchart {\n",
              "      --bg-color: #3B4455;\n",
              "      --fill-color: #D2E3FC;\n",
              "      --hover-bg-color: #434B5C;\n",
              "      --hover-fill-color: #FFFFFF;\n",
              "      --disabled-bg-color: #3B4455;\n",
              "      --disabled-fill-color: #666;\n",
              "  }\n",
              "\n",
              "  .colab-df-quickchart {\n",
              "    background-color: var(--bg-color);\n",
              "    border: none;\n",
              "    border-radius: 50%;\n",
              "    cursor: pointer;\n",
              "    display: none;\n",
              "    fill: var(--fill-color);\n",
              "    height: 32px;\n",
              "    padding: 0;\n",
              "    width: 32px;\n",
              "  }\n",
              "\n",
              "  .colab-df-quickchart:hover {\n",
              "    background-color: var(--hover-bg-color);\n",
              "    box-shadow: 0 1px 2px rgba(60, 64, 67, 0.3), 0 1px 3px 1px rgba(60, 64, 67, 0.15);\n",
              "    fill: var(--button-hover-fill-color);\n",
              "  }\n",
              "\n",
              "  .colab-df-quickchart-complete:disabled,\n",
              "  .colab-df-quickchart-complete:disabled:hover {\n",
              "    background-color: var(--disabled-bg-color);\n",
              "    fill: var(--disabled-fill-color);\n",
              "    box-shadow: none;\n",
              "  }\n",
              "\n",
              "  .colab-df-spinner {\n",
              "    border: 2px solid var(--fill-color);\n",
              "    border-color: transparent;\n",
              "    border-bottom-color: var(--fill-color);\n",
              "    animation:\n",
              "      spin 1s steps(1) infinite;\n",
              "  }\n",
              "\n",
              "  @keyframes spin {\n",
              "    0% {\n",
              "      border-color: transparent;\n",
              "      border-bottom-color: var(--fill-color);\n",
              "      border-left-color: var(--fill-color);\n",
              "    }\n",
              "    20% {\n",
              "      border-color: transparent;\n",
              "      border-left-color: var(--fill-color);\n",
              "      border-top-color: var(--fill-color);\n",
              "    }\n",
              "    30% {\n",
              "      border-color: transparent;\n",
              "      border-left-color: var(--fill-color);\n",
              "      border-top-color: var(--fill-color);\n",
              "      border-right-color: var(--fill-color);\n",
              "    }\n",
              "    40% {\n",
              "      border-color: transparent;\n",
              "      border-right-color: var(--fill-color);\n",
              "      border-top-color: var(--fill-color);\n",
              "    }\n",
              "    60% {\n",
              "      border-color: transparent;\n",
              "      border-right-color: var(--fill-color);\n",
              "    }\n",
              "    80% {\n",
              "      border-color: transparent;\n",
              "      border-right-color: var(--fill-color);\n",
              "      border-bottom-color: var(--fill-color);\n",
              "    }\n",
              "    90% {\n",
              "      border-color: transparent;\n",
              "      border-bottom-color: var(--fill-color);\n",
              "    }\n",
              "  }\n",
              "</style>\n",
              "\n",
              "  <script>\n",
              "    async function quickchart(key) {\n",
              "      const quickchartButtonEl =\n",
              "        document.querySelector('#' + key + ' button');\n",
              "      quickchartButtonEl.disabled = true;  // To prevent multiple clicks.\n",
              "      quickchartButtonEl.classList.add('colab-df-spinner');\n",
              "      try {\n",
              "        const charts = await google.colab.kernel.invokeFunction(\n",
              "            'suggestCharts', [key], {});\n",
              "      } catch (error) {\n",
              "        console.error('Error during call to suggestCharts:', error);\n",
              "      }\n",
              "      quickchartButtonEl.classList.remove('colab-df-spinner');\n",
              "      quickchartButtonEl.classList.add('colab-df-quickchart-complete');\n",
              "    }\n",
              "    (() => {\n",
              "      let quickchartButtonEl =\n",
              "        document.querySelector('#df-40e8f73d-ac7b-40b4-b79c-90a14bf2c5b5 button');\n",
              "      quickchartButtonEl.style.display =\n",
              "        google.colab.kernel.accessAllowed ? 'block' : 'none';\n",
              "    })();\n",
              "  </script>\n",
              "</div>\n",
              "\n",
              "    </div>\n",
              "  </div>\n"
            ],
            "application/vnd.google.colaboratory.intrinsic+json": {
              "type": "dataframe",
              "variable_name": "df_complete"
            }
          },
          "metadata": {},
          "execution_count": 24
        }
      ],
      "source": [
        "df_complete.head()"
      ]
    },
    {
      "cell_type": "markdown",
      "id": "2bf23bce",
      "metadata": {
        "papermill": {
          "duration": 0.019165,
          "end_time": "2024-05-22T14:16:47.140136",
          "exception": false,
          "start_time": "2024-05-22T14:16:47.120971",
          "status": "completed"
        },
        "tags": [],
        "id": "2bf23bce"
      },
      "source": [
        "# Data Understanding and Exploration"
      ]
    },
    {
      "cell_type": "code",
      "execution_count": 25,
      "id": "2250f017",
      "metadata": {
        "execution": {
          "iopub.execute_input": "2024-05-22T14:16:47.269287Z",
          "iopub.status.busy": "2024-05-22T14:16:47.268109Z",
          "iopub.status.idle": "2024-05-22T14:16:48.661799Z",
          "shell.execute_reply": "2024-05-22T14:16:48.660635Z"
        },
        "papermill": {
          "duration": 1.418569,
          "end_time": "2024-05-22T14:16:48.664850",
          "exception": false,
          "start_time": "2024-05-22T14:16:47.246281",
          "status": "completed"
        },
        "tags": [],
        "id": "2250f017"
      },
      "outputs": [],
      "source": [
        "import seaborn as sns\n",
        "import matplotlib.pyplot as plt"
      ]
    },
    {
      "cell_type": "code",
      "execution_count": 26,
      "id": "8bba668f",
      "metadata": {
        "execution": {
          "iopub.execute_input": "2024-05-22T14:16:48.706044Z",
          "iopub.status.busy": "2024-05-22T14:16:48.705662Z",
          "iopub.status.idle": "2024-05-22T14:16:50.425343Z",
          "shell.execute_reply": "2024-05-22T14:16:50.424227Z"
        },
        "papermill": {
          "duration": 1.743981,
          "end_time": "2024-05-22T14:16:50.428596",
          "exception": false,
          "start_time": "2024-05-22T14:16:48.684615",
          "status": "completed"
        },
        "tags": [],
        "colab": {
          "base_uri": "https://localhost:8080/",
          "height": 475
        },
        "id": "8bba668f",
        "outputId": "96231c14-cb3e-441c-9d4c-4aa537d6b180"
      },
      "outputs": [
        {
          "output_type": "execute_result",
          "data": {
            "text/plain": [
              "<Axes: xlabel='is_fraud'>"
            ]
          },
          "metadata": {},
          "execution_count": 26
        },
        {
          "output_type": "display_data",
          "data": {
            "text/plain": [
              "<Figure size 640x480 with 1 Axes>"
            ],
            "image/png": "[encoded data removed]"
          },
          "metadata": {}
        }
      ],
      "source": [
        "df_complete.groupby('is_fraud').count()['cc_num'].plot.bar()"
      ]
    },
    {
      "cell_type": "markdown",
      "id": "bbef3cc7",
      "metadata": {
        "papermill": {
          "duration": 0.023489,
          "end_time": "2024-05-22T14:16:50.472577",
          "exception": false,
          "start_time": "2024-05-22T14:16:50.449088",
          "status": "completed"
        },
        "tags": [],
        "id": "bbef3cc7"
      },
      "source": [
        "We can see that, as usual, the number of fraudulent transactions is much smaller, which can lead our model to predict non fraudulent (0) with higher performance than fraud (1) transactions."
      ]
    },
    {
      "cell_type": "code",
      "execution_count": 27,
      "id": "d5c50fd4",
      "metadata": {
        "execution": {
          "iopub.execute_input": "2024-05-22T14:16:50.516539Z",
          "iopub.status.busy": "2024-05-22T14:16:50.515488Z",
          "iopub.status.idle": "2024-05-22T14:16:51.143546Z",
          "shell.execute_reply": "2024-05-22T14:16:51.142249Z"
        },
        "papermill": {
          "duration": 0.652718,
          "end_time": "2024-05-22T14:16:51.145997",
          "exception": false,
          "start_time": "2024-05-22T14:16:50.493279",
          "status": "completed"
        },
        "tags": [],
        "colab": {
          "base_uri": "https://localhost:8080/"
        },
        "id": "d5c50fd4",
        "outputId": "6a181468-afd9-4462-e7ad-9c12d17b3bac"
      },
      "outputs": [
        {
          "output_type": "stream",
          "name": "stdout",
          "text": [
            "1695 254744\n"
          ]
        }
      ],
      "source": [
        "fraud = df_complete[df_complete['is_fraud'] == 1]\n",
        "non_fraud = df_complete[df_complete['is_fraud'] == 0]\n",
        "\n",
        "print(len(fraud), len(non_fraud))"
      ]
    },
    {
      "cell_type": "code",
      "execution_count": 28,
      "id": "b9c0db27",
      "metadata": {
        "execution": {
          "iopub.execute_input": "2024-05-22T14:16:51.189045Z",
          "iopub.status.busy": "2024-05-22T14:16:51.188467Z",
          "iopub.status.idle": "2024-05-22T14:16:52.386729Z",
          "shell.execute_reply": "2024-05-22T14:16:52.385503Z"
        },
        "papermill": {
          "duration": 1.222978,
          "end_time": "2024-05-22T14:16:52.389736",
          "exception": false,
          "start_time": "2024-05-22T14:16:51.166758",
          "status": "completed"
        },
        "tags": [],
        "colab": {
          "base_uri": "https://localhost:8080/",
          "height": 320
        },
        "id": "b9c0db27",
        "outputId": "c6b1e9ef-295e-4a1b-980a-711da60d0dbe"
      },
      "outputs": [
        {
          "output_type": "execute_result",
          "data": {
            "text/plain": [
              "          Unnamed: 0        cc_num            amt            zip  \\\n",
              "count  256441.000000  2.564400e+05  256440.000000  256439.000000   \n",
              "mean    64109.751639  4.162076e+17      70.428595   48782.043582   \n",
              "std     37014.145102  1.307323e+18     150.937476   26873.532007   \n",
              "min         0.000000  6.041621e+10       1.000000    1257.000000   \n",
              "25%     32055.000000  1.800429e+14       9.640000   26237.000000   \n",
              "50%     64110.000000  3.519607e+15      47.620000   48174.000000   \n",
              "75%     96165.000000  4.634956e+15      83.310000   72011.000000   \n",
              "max    128240.000000  4.992346e+18   13149.150000   99783.000000   \n",
              "\n",
              "                 lat           long      city_pop     unix_time  \\\n",
              "count  256439.000000  256439.000000  2.564390e+05  2.564390e+05   \n",
              "mean       38.538165     -90.198438  8.908989e+04  1.351155e+09   \n",
              "std         5.070114      13.733305  3.017351e+05  2.261454e+07   \n",
              "min        20.027100    -165.672300  2.300000e+01  1.325376e+09   \n",
              "25%        34.668900     -96.798000  7.430000e+02  1.328630e+09   \n",
              "50%        39.371600     -87.476900  2.456000e+03  1.331491e+09   \n",
              "75%        41.894800     -80.158000  2.047800e+04  1.373722e+09   \n",
              "max        65.689900     -67.950300  2.906700e+06  1.375636e+09   \n",
              "\n",
              "           merch_lat     merch_long       is_fraud  \n",
              "count  256439.000000  256439.000000  256439.000000  \n",
              "mean       38.538296     -90.199006       0.006610  \n",
              "std         5.104950      13.746099       0.081031  \n",
              "min        19.029798    -166.671575       0.000000  \n",
              "25%        34.749878     -96.882335       0.000000  \n",
              "50%        39.373287     -87.421582       0.000000  \n",
              "75%        41.954465     -80.234773       0.000000  \n",
              "max        66.669356     -66.952352       1.000000  "
            ],
            "text/html": [
              "\n",
              "  <div id=\"df-131ab391-c811-452e-affa-dd0705ea35f4\" class=\"colab-df-container\">\n",
              "    <div>\n",
              "<style scoped>\n",
              "    .dataframe tbody tr th:only-of-type {\n",
              "        vertical-align: middle;\n",
              "    }\n",
              "\n",
              "    .dataframe tbody tr th {\n",
              "        vertical-align: top;\n",
              "    }\n",
              "\n",
              "    .dataframe thead th {\n",
              "        text-align: right;\n",
              "    }\n",
              "</style>\n",
              "<table border=\"1\" class=\"dataframe\">\n",
              "  <thead>\n",
              "    <tr style=\"text-align: right;\">\n",
              "      <th></th>\n",
              "      <th>Unnamed: 0</th>\n",
              "      <th>cc_num</th>\n",
              "      <th>amt</th>\n",
              "      <th>zip</th>\n",
              "      <th>lat</th>\n",
              "      <th>long</th>\n",
              "      <th>city_pop</th>\n",
              "      <th>unix_time</th>\n",
              "      <th>merch_lat</th>\n",
              "      <th>merch_long</th>\n",
              "      <th>is_fraud</th>\n",
              "    </tr>\n",
              "  </thead>\n",
              "  <tbody>\n",
              "    <tr>\n",
              "      <th>count</th>\n",
              "      <td>256441.000000</td>\n",
              "      <td>2.564400e+05</td>\n",
              "      <td>256440.000000</td>\n",
              "      <td>256439.000000</td>\n",
              "      <td>256439.000000</td>\n",
              "      <td>256439.000000</td>\n",
              "      <td>2.564390e+05</td>\n",
              "      <td>2.564390e+05</td>\n",
              "      <td>256439.000000</td>\n",
              "      <td>256439.000000</td>\n",
              "      <td>256439.000000</td>\n",
              "    </tr>\n",
              "    <tr>\n",
              "      <th>mean</th>\n",
              "      <td>64109.751639</td>\n",
              "      <td>4.162076e+17</td>\n",
              "      <td>70.428595</td>\n",
              "      <td>48782.043582</td>\n",
              "      <td>38.538165</td>\n",
              "      <td>-90.198438</td>\n",
              "      <td>8.908989e+04</td>\n",
              "      <td>1.351155e+09</td>\n",
              "      <td>38.538296</td>\n",
              "      <td>-90.199006</td>\n",
              "      <td>0.006610</td>\n",
              "    </tr>\n",
              "    <tr>\n",
              "      <th>std</th>\n",
              "      <td>37014.145102</td>\n",
              "      <td>1.307323e+18</td>\n",
              "      <td>150.937476</td>\n",
              "      <td>26873.532007</td>\n",
              "      <td>5.070114</td>\n",
              "      <td>13.733305</td>\n",
              "      <td>3.017351e+05</td>\n",
              "      <td>2.261454e+07</td>\n",
              "      <td>5.104950</td>\n",
              "      <td>13.746099</td>\n",
              "      <td>0.081031</td>\n",
              "    </tr>\n",
              "    <tr>\n",
              "      <th>min</th>\n",
              "      <td>0.000000</td>\n",
              "      <td>6.041621e+10</td>\n",
              "      <td>1.000000</td>\n",
              "      <td>1257.000000</td>\n",
              "      <td>20.027100</td>\n",
              "      <td>-165.672300</td>\n",
              "      <td>2.300000e+01</td>\n",
              "      <td>1.325376e+09</td>\n",
              "      <td>19.029798</td>\n",
              "      <td>-166.671575</td>\n",
              "      <td>0.000000</td>\n",
              "    </tr>\n",
              "    <tr>\n",
              "      <th>25%</th>\n",
              "      <td>32055.000000</td>\n",
              "      <td>1.800429e+14</td>\n",
              "      <td>9.640000</td>\n",
              "      <td>26237.000000</td>\n",
              "      <td>34.668900</td>\n",
              "      <td>-96.798000</td>\n",
              "      <td>7.430000e+02</td>\n",
              "      <td>1.328630e+09</td>\n",
              "      <td>34.749878</td>\n",
              "      <td>-96.882335</td>\n",
              "      <td>0.000000</td>\n",
              "    </tr>\n",
              "    <tr>\n",
              "      <th>50%</th>\n",
              "      <td>64110.000000</td>\n",
              "      <td>3.519607e+15</td>\n",
              "      <td>47.620000</td>\n",
              "      <td>48174.000000</td>\n",
              "      <td>39.371600</td>\n",
              "      <td>-87.476900</td>\n",
              "      <td>2.456000e+03</td>\n",
              "      <td>1.331491e+09</td>\n",
              "      <td>39.373287</td>\n",
              "      <td>-87.421582</td>\n",
              "      <td>0.000000</td>\n",
              "    </tr>\n",
              "    <tr>\n",
              "      <th>75%</th>\n",
              "      <td>96165.000000</td>\n",
              "      <td>4.634956e+15</td>\n",
              "      <td>83.310000</td>\n",
              "      <td>72011.000000</td>\n",
              "      <td>41.894800</td>\n",
              "      <td>-80.158000</td>\n",
              "      <td>2.047800e+04</td>\n",
              "      <td>1.373722e+09</td>\n",
              "      <td>41.954465</td>\n",
              "      <td>-80.234773</td>\n",
              "      <td>0.000000</td>\n",
              "    </tr>\n",
              "    <tr>\n",
              "      <th>max</th>\n",
              "      <td>128240.000000</td>\n",
              "      <td>4.992346e+18</td>\n",
              "      <td>13149.150000</td>\n",
              "      <td>99783.000000</td>\n",
              "      <td>65.689900</td>\n",
              "      <td>-67.950300</td>\n",
              "      <td>2.906700e+06</td>\n",
              "      <td>1.375636e+09</td>\n",
              "      <td>66.669356</td>\n",
              "      <td>-66.952352</td>\n",
              "      <td>1.000000</td>\n",
              "    </tr>\n",
              "  </tbody>\n",
              "</table>\n",
              "</div>\n",
              "    <div class=\"colab-df-buttons\">\n",
              "\n",
              "  <div class=\"colab-df-container\">\n",
              "    <button class=\"colab-df-convert\" onclick=\"convertToInteractive('df-131ab391-c811-452e-affa-dd0705ea35f4')\"\n",
              "            title=\"Convert this dataframe to an interactive table.\"\n",
              "            style=\"display:none;\">\n",
              "\n",
              "  <svg xmlns=\"http://www.w3.org/2000/svg\" height=\"24px\" viewBox=\"0 -960 960 960\">\n",
              "    <path d=\"M120-120v-720h720v720H120Zm60-500h600v-160H180v160Zm220 220h160v-160H400v160Zm0 220h160v-160H400v160ZM180-400h160v-160H180v160Zm440 0h160v-160H620v160ZM180-180h160v-160H180v160Zm440 0h160v-160H620v160Z\"/>\n",
              "  </svg>\n",
              "    </button>\n",
              "\n",
              "  <style>\n",
              "    .colab-df-container {\n",
              "      display:flex;\n",
              "      gap: 12px;\n",
              "    }\n",
              "\n",
              "    .colab-df-convert {\n",
              "      background-color: #E8F0FE;\n",
              "      border: none;\n",
              "      border-radius: 50%;\n",
              "      cursor: pointer;\n",
              "      display: none;\n",
              "      fill: #1967D2;\n",
              "      height: 32px;\n",
              "      padding: 0 0 0 0;\n",
              "      width: 32px;\n",
              "    }\n",
              "\n",
              "    .colab-df-convert:hover {\n",
              "      background-color: #E2EBFA;\n",
              "      box-shadow: 0px 1px 2px rgba(60, 64, 67, 0.3), 0px 1px 3px 1px rgba(60, 64, 67, 0.15);\n",
              "      fill: #174EA6;\n",
              "    }\n",
              "\n",
              "    .colab-df-buttons div {\n",
              "      margin-bottom: 4px;\n",
              "    }\n",
              "\n",
              "    [theme=dark] .colab-df-convert {\n",
              "      background-color: #3B4455;\n",
              "      fill: #D2E3FC;\n",
              "    }\n",
              "\n",
              "    [theme=dark] .colab-df-convert:hover {\n",
              "      background-color: #434B5C;\n",
              "      box-shadow: 0px 1px 3px 1px rgba(0, 0, 0, 0.15);\n",
              "      filter: drop-shadow(0px 1px 2px rgba(0, 0, 0, 0.3));\n",
              "      fill: #FFFFFF;\n",
              "    }\n",
              "  </style>\n",
              "\n",
              "    <script>\n",
              "      const buttonEl =\n",
              "        document.querySelector('#df-131ab391-c811-452e-affa-dd0705ea35f4 button.colab-df-convert');\n",
              "      buttonEl.style.display =\n",
              "        google.colab.kernel.accessAllowed ? 'block' : 'none';\n",
              "\n",
              "      async function convertToInteractive(key) {\n",
              "        const element = document.querySelector('#df-131ab391-c811-452e-affa-dd0705ea35f4');\n",
              "        const dataTable =\n",
              "          await google.colab.kernel.invokeFunction('convertToInteractive',\n",
              "                                                    [key], {});\n",
              "        if (!dataTable) return;\n",
              "\n",
              "        const docLinkHtml = 'Like what you see? Visit the ' +\n",
              "          '<a target=\"_blank\" href=https://colab.research.google.com/notebooks/data_table.ipynb>data table notebook</a>'\n",
              "          + ' to learn more about interactive tables.';\n",
              "        element.innerHTML = '';\n",
              "        dataTable['output_type'] = 'display_data';\n",
              "        await google.colab.output.renderOutput(dataTable, element);\n",
              "        const docLink = document.createElement('div');\n",
              "        docLink.innerHTML = docLinkHtml;\n",
              "        element.appendChild(docLink);\n",
              "      }\n",
              "    </script>\n",
              "  </div>\n",
              "\n",
              "\n",
              "<div id=\"df-a223abf2-f8ed-4669-af17-ec5a89f249c9\">\n",
              "  <button class=\"colab-df-quickchart\" onclick=\"quickchart('df-a223abf2-f8ed-4669-af17-ec5a89f249c9')\"\n",
              "            title=\"Suggest charts\"\n",
              "            style=\"display:none;\">\n",
              "\n",
              "<svg xmlns=\"http://www.w3.org/2000/svg\" height=\"24px\"viewBox=\"0 0 24 24\"\n",
              "     width=\"24px\">\n",
              "    <g>\n",
              "        <path d=\"M19 3H5c-1.1 0-2 .9-2 2v14c0 1.1.9 2 2 2h14c1.1 0 2-.9 2-2V5c0-1.1-.9-2-2-2zM9 17H7v-7h2v7zm4 0h-2V7h2v10zm4 0h-2v-4h2v4z\"/>\n",
              "    </g>\n",
              "</svg>\n",
              "  </button>\n",
              "\n",
              "<style>\n",
              "  .colab-df-quickchart {\n",
              "      --bg-color: #E8F0FE;\n",
              "      --fill-color: #1967D2;\n",
              "      --hover-bg-color: #E2EBFA;\n",
              "      --hover-fill-color: #174EA6;\n",
              "      --disabled-fill-color: #AAA;\n",
              "      --disabled-bg-color: #DDD;\n",
              "  }\n",
              "\n",
              "  [theme=dark] .colab-df-quickchart {\n",
              "      --bg-color: #3B4455;\n",
              "      --fill-color: #D2E3FC;\n",
              "      --hover-bg-color: #434B5C;\n",
              "      --hover-fill-color: #FFFFFF;\n",
              "      --disabled-bg-color: #3B4455;\n",
              "      --disabled-fill-color: #666;\n",
              "  }\n",
              "\n",
              "  .colab-df-quickchart {\n",
              "    background-color: var(--bg-color);\n",
              "    border: none;\n",
              "    border-radius: 50%;\n",
              "    cursor: pointer;\n",
              "    display: none;\n",
              "    fill: var(--fill-color);\n",
              "    height: 32px;\n",
              "    padding: 0;\n",
              "    width: 32px;\n",
              "  }\n",
              "\n",
              "  .colab-df-quickchart:hover {\n",
              "    background-color: var(--hover-bg-color);\n",
              "    box-shadow: 0 1px 2px rgba(60, 64, 67, 0.3), 0 1px 3px 1px rgba(60, 64, 67, 0.15);\n",
              "    fill: var(--button-hover-fill-color);\n",
              "  }\n",
              "\n",
              "  .colab-df-quickchart-complete:disabled,\n",
              "  .colab-df-quickchart-complete:disabled:hover {\n",
              "    background-color: var(--disabled-bg-color);\n",
              "    fill: var(--disabled-fill-color);\n",
              "    box-shadow: none;\n",
              "  }\n",
              "\n",
              "  .colab-df-spinner {\n",
              "    border: 2px solid var(--fill-color);\n",
              "    border-color: transparent;\n",
              "    border-bottom-color: var(--fill-color);\n",
              "    animation:\n",
              "      spin 1s steps(1) infinite;\n",
              "  }\n",
              "\n",
              "  @keyframes spin {\n",
              "    0% {\n",
              "      border-color: transparent;\n",
              "      border-bottom-color: var(--fill-color);\n",
              "      border-left-color: var(--fill-color);\n",
              "    }\n",
              "    20% {\n",
              "      border-color: transparent;\n",
              "      border-left-color: var(--fill-color);\n",
              "      border-top-color: var(--fill-color);\n",
              "    }\n",
              "    30% {\n",
              "      border-color: transparent;\n",
              "      border-left-color: var(--fill-color);\n",
              "      border-top-color: var(--fill-color);\n",
              "      border-right-color: var(--fill-color);\n",
              "    }\n",
              "    40% {\n",
              "      border-color: transparent;\n",
              "      border-right-color: var(--fill-color);\n",
              "      border-top-color: var(--fill-color);\n",
              "    }\n",
              "    60% {\n",
              "      border-color: transparent;\n",
              "      border-right-color: var(--fill-color);\n",
              "    }\n",
              "    80% {\n",
              "      border-color: transparent;\n",
              "      border-right-color: var(--fill-color);\n",
              "      border-bottom-color: var(--fill-color);\n",
              "    }\n",
              "    90% {\n",
              "      border-color: transparent;\n",
              "      border-bottom-color: var(--fill-color);\n",
              "    }\n",
              "  }\n",
              "</style>\n",
              "\n",
              "  <script>\n",
              "    async function quickchart(key) {\n",
              "      const quickchartButtonEl =\n",
              "        document.querySelector('#' + key + ' button');\n",
              "      quickchartButtonEl.disabled = true;  // To prevent multiple clicks.\n",
              "      quickchartButtonEl.classList.add('colab-df-spinner');\n",
              "      try {\n",
              "        const charts = await google.colab.kernel.invokeFunction(\n",
              "            'suggestCharts', [key], {});\n",
              "      } catch (error) {\n",
              "        console.error('Error during call to suggestCharts:', error);\n",
              "      }\n",
              "      quickchartButtonEl.classList.remove('colab-df-spinner');\n",
              "      quickchartButtonEl.classList.add('colab-df-quickchart-complete');\n",
              "    }\n",
              "    (() => {\n",
              "      let quickchartButtonEl =\n",
              "        document.querySelector('#df-a223abf2-f8ed-4669-af17-ec5a89f249c9 button');\n",
              "      quickchartButtonEl.style.display =\n",
              "        google.colab.kernel.accessAllowed ? 'block' : 'none';\n",
              "    })();\n",
              "  </script>\n",
              "</div>\n",
              "\n",
              "    </div>\n",
              "  </div>\n"
            ],
            "application/vnd.google.colaboratory.intrinsic+json": {
              "type": "dataframe",
              "summary": "{\n  \"name\": \"df_complete\",\n  \"rows\": 8,\n  \"fields\": [\n    {\n      \"column\": \"Unnamed: 0\",\n      \"properties\": {\n        \"dtype\": \"number\",\n        \"std\": 79811.87376006623,\n        \"min\": 0.0,\n        \"max\": 256441.0,\n        \"num_unique_values\": 8,\n        \"samples\": [\n          64109.75163877851,\n          64110.0,\n          256441.0\n        ],\n        \"semantic_type\": \"\",\n        \"description\": \"\"\n      }\n    },\n    {\n      \"column\": \"cc_num\",\n      \"properties\": {\n        \"dtype\": \"number\",\n        \"std\": 1.7383900837620567e+18,\n        \"min\": 256440.0,\n        \"max\": 4.992346398065154e+18,\n        \"num_unique_values\": 8,\n        \"samples\": [\n          4.162075575236673e+17,\n          3519607465576254.0,\n          256440.0\n        ],\n        \"semantic_type\": \"\",\n        \"description\": \"\"\n      }\n    },\n    {\n      \"column\": \"amt\",\n      \"properties\": {\n        \"dtype\": \"number\",\n        \"std\": 90099.26644175788,\n        \"min\": 1.0,\n        \"max\": 256440.0,\n        \"num_unique_values\": 8,\n        \"samples\": [\n          70.42859530494464,\n          47.62,\n          256440.0\n        ],\n        \"semantic_type\": \"\",\n        \"description\": \"\"\n      }\n    },\n    {\n      \"column\": \"zip\",\n      \"properties\": {\n        \"dtype\": \"number\",\n        \"std\": 80205.12353157307,\n        \"min\": 1257.0,\n        \"max\": 256439.0,\n        \"num_unique_values\": 8,\n        \"samples\": [\n          48782.04358151451,\n          48174.0,\n          256439.0\n        ],\n        \"semantic_type\": \"\",\n        \"description\": \"\"\n      }\n    },\n    {\n      \"column\": \"lat\",\n      \"properties\": {\n        \"dtype\": \"number\",\n        \"std\": 90652.49208753386,\n        \"min\": 5.0701138736355045,\n        \"max\": 256439.0,\n        \"num_unique_values\": 8,\n        \"samples\": [\n          38.538164931231215,\n          39.3716,\n          256439.0\n        ],\n        \"semantic_type\": \"\",\n        \"description\": \"\"\n      }\n    },\n    {\n      \"column\": \"long\",\n      \"properties\": {\n        \"dtype\": \"number\",\n        \"std\": 90693.90874336736,\n        \"min\": -165.6723,\n        \"max\": 256439.0,\n        \"num_unique_values\": 8,\n        \"samples\": [\n          -90.19843750989516,\n          -87.4769,\n          256439.0\n        ],\n        \"semantic_type\": \"\",\n        \"description\": \"\"\n      }\n    },\n    {\n      \"column\": \"city_pop\",\n      \"properties\": {\n        \"dtype\": \"number\",\n        \"std\": 1001007.5581081796,\n        \"min\": 23.0,\n        \"max\": 2906700.0,\n        \"num_unique_values\": 8,\n        \"samples\": [\n          89089.8854308432,\n          2456.0,\n          256439.0\n        ],\n        \"semantic_type\": \"\",\n        \"description\": \"\"\n      }\n    },\n    {\n      \"column\": \"unix_time\",\n      \"properties\": {\n        \"dtype\": \"number\",\n        \"std\": 618883963.843593,\n        \"min\": 256439.0,\n        \"max\": 1375635623.0,\n        \"num_unique_values\": 8,\n        \"samples\": [\n          1351155012.0325458,\n          1331490848.0,\n          256439.0\n        ],\n        \"semantic_type\": \"\",\n        \"description\": \"\"\n      }\n    },\n    {\n      \"column\": \"merch_lat\",\n      \"properties\": {\n        \"dtype\": \"number\",\n        \"std\": 90652.48410547416,\n        \"min\": 5.104949513869699,\n        \"max\": 256439.0,\n        \"num_unique_values\": 8,\n        \"samples\": [\n          38.538296425064054,\n          39.373287,\n          256439.0\n        ],\n        \"semantic_type\": \"\",\n        \"description\": \"\"\n      }\n    },\n    {\n      \"column\": \"merch_long\",\n      \"properties\": {\n        \"dtype\": \"number\",\n        \"std\": 90693.91369462998,\n        \"min\": -166.671575,\n        \"max\": 256439.0,\n        \"num_unique_values\": 8,\n        \"samples\": [\n          -90.1990056902577,\n          -87.421582,\n          256439.0\n        ],\n        \"semantic_type\": \"\",\n        \"description\": \"\"\n      }\n    },\n    {\n      \"column\": \"is_fraud\",\n      \"properties\": {\n        \"dtype\": \"number\",\n        \"std\": 90664.82299683173,\n        \"min\": 0.0,\n        \"max\": 256439.0,\n        \"num_unique_values\": 5,\n        \"samples\": [\n          0.006609759046010942,\n          1.0,\n          0.08103144905694136\n        ],\n        \"semantic_type\": \"\",\n        \"description\": \"\"\n      }\n    }\n  ]\n}"
            }
          },
          "metadata": {},
          "execution_count": 28
        }
      ],
      "source": [
        "df_complete.describe()"
      ]
    },
    {
      "cell_type": "code",
      "execution_count": 29,
      "id": "b97d26a2",
      "metadata": {
        "execution": {
          "iopub.execute_input": "2024-05-22T14:16:52.436310Z",
          "iopub.status.busy": "2024-05-22T14:16:52.435844Z",
          "iopub.status.idle": "2024-05-22T14:16:52.455692Z",
          "shell.execute_reply": "2024-05-22T14:16:52.454565Z"
        },
        "papermill": {
          "duration": 0.046488,
          "end_time": "2024-05-22T14:16:52.458565",
          "exception": false,
          "start_time": "2024-05-22T14:16:52.412077",
          "status": "completed"
        },
        "tags": [],
        "colab": {
          "base_uri": "https://localhost:8080/"
        },
        "id": "b97d26a2",
        "outputId": "4277d461-3ad6-472c-dc6a-db0f0017d463"
      },
      "outputs": [
        {
          "output_type": "stream",
          "name": "stdout",
          "text": [
            "<class 'pandas.core.frame.DataFrame'>\n",
            "Index: 256441 entries, 0 to 128199\n",
            "Data columns (total 23 columns):\n",
            " #   Column                 Non-Null Count   Dtype  \n",
            "---  ------                 --------------   -----  \n",
            " 0   Unnamed: 0             256441 non-null  int64  \n",
            " 1   trans_date_trans_time  256441 non-null  object \n",
            " 2   cc_num                 256440 non-null  float64\n",
            " 3   merchant               256440 non-null  object \n",
            " 4   category               256440 non-null  object \n",
            " 5   amt                    256440 non-null  float64\n",
            " 6   first                  256440 non-null  object \n",
            " 7   last                   256440 non-null  object \n",
            " 8   gender                 256440 non-null  object \n",
            " 9   street                 256439 non-null  object \n",
            " 10  city                   256439 non-null  object \n",
            " 11  state                  256439 non-null  object \n",
            " 12  zip                    256439 non-null  float64\n",
            " 13  lat                    256439 non-null  float64\n",
            " 14  long                   256439 non-null  float64\n",
            " 15  city_pop               256439 non-null  float64\n",
            " 16  job                    256439 non-null  object \n",
            " 17  dob                    256439 non-null  object \n",
            " 18  trans_num              256439 non-null  object \n",
            " 19  unix_time              256439 non-null  float64\n",
            " 20  merch_lat              256439 non-null  float64\n",
            " 21  merch_long             256439 non-null  float64\n",
            " 22  is_fraud               256439 non-null  float64\n",
            "dtypes: float64(10), int64(1), object(12)\n",
            "memory usage: 47.0+ MB\n"
          ]
        }
      ],
      "source": [
        "df_complete.info()"
      ]
    },
    {
      "cell_type": "markdown",
      "id": "6a89df36",
      "metadata": {
        "papermill": {
          "duration": 0.021347,
          "end_time": "2024-05-22T14:16:52.502075",
          "exception": false,
          "start_time": "2024-05-22T14:16:52.480728",
          "status": "completed"
        },
        "tags": [],
        "id": "6a89df36"
      },
      "source": [
        "Checking distinct"
      ]
    },
    {
      "cell_type": "code",
      "execution_count": 30,
      "id": "be8b5d83",
      "metadata": {
        "execution": {
          "iopub.execute_input": "2024-05-22T14:16:52.547452Z",
          "iopub.status.busy": "2024-05-22T14:16:52.546344Z",
          "iopub.status.idle": "2024-05-22T14:16:57.630438Z",
          "shell.execute_reply": "2024-05-22T14:16:57.629352Z"
        },
        "papermill": {
          "duration": 5.109427,
          "end_time": "2024-05-22T14:16:57.633117",
          "exception": false,
          "start_time": "2024-05-22T14:16:52.523690",
          "status": "completed"
        },
        "tags": [],
        "colab": {
          "base_uri": "https://localhost:8080/"
        },
        "id": "be8b5d83",
        "outputId": "e1b609ae-ae91-4c7a-fa50-8ae0222ee15a"
      },
      "outputs": [
        {
          "output_type": "execute_result",
          "data": {
            "text/plain": [
              "Unnamed: 0               128241\n",
              "trans_date_trans_time    252412\n",
              "cc_num                      926\n",
              "merchant                    693\n",
              "category                     14\n",
              "amt                       28972\n",
              "first                       343\n",
              "last                        473\n",
              "gender                        2\n",
              "street                      926\n",
              "city                        851\n",
              "state                        50\n",
              "zip                         914\n",
              "lat                         912\n",
              "long                        912\n",
              "city_pop                    836\n",
              "job                         480\n",
              "dob                         912\n",
              "trans_num                256439\n",
              "unix_time                252442\n",
              "merch_lat                254480\n",
              "merch_long               255581\n",
              "is_fraud                      2\n",
              "dtype: int64"
            ]
          },
          "metadata": {},
          "execution_count": 30
        }
      ],
      "source": [
        "df_complete.nunique()"
      ]
    },
    {
      "cell_type": "markdown",
      "id": "4b15c311",
      "metadata": {
        "papermill": {
          "duration": 0.021615,
          "end_time": "2024-05-22T14:16:57.677022",
          "exception": false,
          "start_time": "2024-05-22T14:16:57.655407",
          "status": "completed"
        },
        "tags": [],
        "id": "4b15c311"
      },
      "source": [
        "Checking for NaN/null and duplicated cells"
      ]
    },
    {
      "cell_type": "code",
      "execution_count": 31,
      "id": "533cbc15",
      "metadata": {
        "execution": {
          "iopub.execute_input": "2024-05-22T14:16:57.721680Z",
          "iopub.status.busy": "2024-05-22T14:16:57.720695Z",
          "iopub.status.idle": "2024-05-22T14:16:58.787472Z",
          "shell.execute_reply": "2024-05-22T14:16:58.786316Z"
        },
        "papermill": {
          "duration": 1.091952,
          "end_time": "2024-05-22T14:16:58.790214",
          "exception": false,
          "start_time": "2024-05-22T14:16:57.698262",
          "status": "completed"
        },
        "tags": [],
        "colab": {
          "base_uri": "https://localhost:8080/"
        },
        "id": "533cbc15",
        "outputId": "a3da2f18-26ca-4f0c-f81b-5b42447d9f27"
      },
      "outputs": [
        {
          "output_type": "execute_result",
          "data": {
            "text/plain": [
              "35"
            ]
          },
          "metadata": {},
          "execution_count": 31
        }
      ],
      "source": [
        "df_complete.isna().sum().sum()"
      ]
    },
    {
      "cell_type": "code",
      "execution_count": 32,
      "id": "14d562b6",
      "metadata": {
        "execution": {
          "iopub.execute_input": "2024-05-22T14:16:58.836106Z",
          "iopub.status.busy": "2024-05-22T14:16:58.835666Z",
          "iopub.status.idle": "2024-05-22T14:17:05.151557Z",
          "shell.execute_reply": "2024-05-22T14:17:05.150422Z"
        },
        "papermill": {
          "duration": 6.341793,
          "end_time": "2024-05-22T14:17:05.154207",
          "exception": false,
          "start_time": "2024-05-22T14:16:58.812414",
          "status": "completed"
        },
        "tags": [],
        "colab": {
          "base_uri": "https://localhost:8080/"
        },
        "id": "14d562b6",
        "outputId": "1e312cbe-ca90-4fba-cdbd-c3ae5a1f2766"
      },
      "outputs": [
        {
          "output_type": "execute_result",
          "data": {
            "text/plain": [
              "0"
            ]
          },
          "metadata": {},
          "execution_count": 32
        }
      ],
      "source": [
        "df_complete.duplicated().sum()"
      ]
    },
    {
      "cell_type": "markdown",
      "id": "d6e4c61c",
      "metadata": {
        "papermill": {
          "duration": 0.02088,
          "end_time": "2024-05-22T14:17:05.196860",
          "exception": false,
          "start_time": "2024-05-22T14:17:05.175980",
          "status": "completed"
        },
        "tags": [],
        "id": "d6e4c61c"
      },
      "source": [
        "I'm not going to analyze outliers for they can be important to detect frauds."
      ]
    },
    {
      "cell_type": "code",
      "execution_count": 33,
      "id": "5b057fc8",
      "metadata": {
        "execution": {
          "iopub.execute_input": "2024-05-22T14:17:05.242054Z",
          "iopub.status.busy": "2024-05-22T14:17:05.240940Z",
          "iopub.status.idle": "2024-05-22T14:17:06.601693Z",
          "shell.execute_reply": "2024-05-22T14:17:06.600522Z"
        },
        "papermill": {
          "duration": 1.386725,
          "end_time": "2024-05-22T14:17:06.604950",
          "exception": false,
          "start_time": "2024-05-22T14:17:05.218225",
          "status": "completed"
        },
        "tags": [],
        "colab": {
          "base_uri": "https://localhost:8080/",
          "height": 523
        },
        "id": "5b057fc8",
        "outputId": "62b1cfe8-9e24-4910-a7c8-5d3c8fa51681"
      },
      "outputs": [
        {
          "output_type": "execute_result",
          "data": {
            "text/plain": [
              "<Axes: >"
            ]
          },
          "metadata": {},
          "execution_count": 33
        },
        {
          "output_type": "display_data",
          "data": {
            "text/plain": [
              "<Figure size 640x480 with 2 Axes>"
            ],
            "image/png": "[encoded data removed]"
          },
          "metadata": {}
        }
      ],
      "source": [
        "sns.heatmap(df_complete[[i for i in df_complete.columns\\\n",
        "                         if df_complete[i].dtype == 'int64' \\\n",
        "                            or df_complete[i].dtype == 'float64']]\\\n",
        "                            .corr())"
      ]
    },
    {
      "cell_type": "markdown",
      "id": "aa93449f",
      "metadata": {
        "papermill": {
          "duration": 0.021583,
          "end_time": "2024-05-22T14:17:06.648649",
          "exception": false,
          "start_time": "2024-05-22T14:17:06.627066",
          "status": "completed"
        },
        "tags": [],
        "id": "aa93449f"
      },
      "source": [
        "This shows greater correlation of 'is_fraud' column with 'amt' variable"
      ]
    },
    {
      "cell_type": "markdown",
      "id": "ca01ef4c",
      "metadata": {
        "papermill": {
          "duration": 0.021823,
          "end_time": "2024-05-22T14:17:06.692365",
          "exception": false,
          "start_time": "2024-05-22T14:17:06.670542",
          "status": "completed"
        },
        "tags": [],
        "id": "ca01ef4c"
      },
      "source": [
        "# Data Preparation"
      ]
    },
    {
      "cell_type": "markdown",
      "id": "0417e9f9",
      "metadata": {
        "papermill": {
          "duration": 0.021923,
          "end_time": "2024-05-22T14:17:06.736551",
          "exception": false,
          "start_time": "2024-05-22T14:17:06.714628",
          "status": "completed"
        },
        "tags": [],
        "id": "0417e9f9"
      },
      "source": [
        "### Balancing the dataset"
      ]
    },
    {
      "cell_type": "code",
      "execution_count": 34,
      "id": "a6f810f1",
      "metadata": {
        "execution": {
          "iopub.execute_input": "2024-05-22T14:17:06.783459Z",
          "iopub.status.busy": "2024-05-22T14:17:06.782274Z",
          "iopub.status.idle": "2024-05-22T14:17:06.932911Z",
          "shell.execute_reply": "2024-05-22T14:17:06.931882Z"
        },
        "papermill": {
          "duration": 0.177395,
          "end_time": "2024-05-22T14:17:06.935899",
          "exception": false,
          "start_time": "2024-05-22T14:17:06.758504",
          "status": "completed"
        },
        "tags": [],
        "id": "a6f810f1"
      },
      "outputs": [],
      "source": [
        "df_balanced = pd.concat([fraud, non_fraud.sample(len(fraud), random_state= 42)])"
      ]
    },
    {
      "cell_type": "code",
      "execution_count": 35,
      "id": "bca46117",
      "metadata": {
        "execution": {
          "iopub.execute_input": "2024-05-22T14:17:06.986877Z",
          "iopub.status.busy": "2024-05-22T14:17:06.985652Z",
          "iopub.status.idle": "2024-05-22T14:17:06.993551Z",
          "shell.execute_reply": "2024-05-22T14:17:06.992348Z"
        },
        "papermill": {
          "duration": 0.037848,
          "end_time": "2024-05-22T14:17:06.996241",
          "exception": false,
          "start_time": "2024-05-22T14:17:06.958393",
          "status": "completed"
        },
        "tags": [],
        "colab": {
          "base_uri": "https://localhost:8080/"
        },
        "id": "bca46117",
        "outputId": "709cbe10-487d-44d5-9967-7200e3f139d4"
      },
      "outputs": [
        {
          "output_type": "execute_result",
          "data": {
            "text/plain": [
              "(3390, 23)"
            ]
          },
          "metadata": {},
          "execution_count": 35
        }
      ],
      "source": [
        "df_balanced.shape"
      ]
    },
    {
      "cell_type": "code",
      "execution_count": 36,
      "id": "979a05b4",
      "metadata": {
        "execution": {
          "iopub.execute_input": "2024-05-22T14:17:07.046244Z",
          "iopub.status.busy": "2024-05-22T14:17:07.045069Z",
          "iopub.status.idle": "2024-05-22T14:17:07.259256Z",
          "shell.execute_reply": "2024-05-22T14:17:07.258068Z"
        },
        "papermill": {
          "duration": 0.241312,
          "end_time": "2024-05-22T14:17:07.262004",
          "exception": false,
          "start_time": "2024-05-22T14:17:07.020692",
          "status": "completed"
        },
        "tags": [],
        "colab": {
          "base_uri": "https://localhost:8080/",
          "height": 475
        },
        "id": "979a05b4",
        "outputId": "87d5a06e-7ecd-40b6-c205-ecd13aafc0c0"
      },
      "outputs": [
        {
          "output_type": "execute_result",
          "data": {
            "text/plain": [
              "<Axes: xlabel='is_fraud'>"
            ]
          },
          "metadata": {},
          "execution_count": 36
        },
        {
          "output_type": "display_data",
          "data": {
            "text/plain": [
              "<Figure size 640x480 with 1 Axes>"
            ],
            "image/png": "[encoded data removed]"
          },
          "metadata": {}
        }
      ],
      "source": [
        "df_balanced.groupby('is_fraud').count()['cc_num'].plot.bar()"
      ]
    },
    {
      "cell_type": "markdown",
      "id": "d902516c",
      "metadata": {
        "papermill": {
          "duration": 0.022303,
          "end_time": "2024-05-22T14:17:07.307852",
          "exception": false,
          "start_time": "2024-05-22T14:17:07.285549",
          "status": "completed"
        },
        "tags": [],
        "id": "d902516c"
      },
      "source": [
        "### Dropping columns"
      ]
    },
    {
      "cell_type": "code",
      "execution_count": 37,
      "id": "65c6563e",
      "metadata": {
        "execution": {
          "iopub.execute_input": "2024-05-22T14:17:07.356130Z",
          "iopub.status.busy": "2024-05-22T14:17:07.355234Z",
          "iopub.status.idle": "2024-05-22T14:17:07.371424Z",
          "shell.execute_reply": "2024-05-22T14:17:07.370216Z"
        },
        "papermill": {
          "duration": 0.043742,
          "end_time": "2024-05-22T14:17:07.374293",
          "exception": false,
          "start_time": "2024-05-22T14:17:07.330551",
          "status": "completed"
        },
        "tags": [],
        "id": "65c6563e"
      },
      "outputs": [],
      "source": [
        "# Dropping columns not relevant for this case\n",
        "columns_dropped = ['Unnamed: 0',\n",
        "                   'merchant',\n",
        "                   'cc_num',\n",
        "                   'first',\n",
        "                   'last',\n",
        "                   'gender',\n",
        "                   'trans_num',\n",
        "                   'unix_time',\n",
        "                   'street',\n",
        "                   'merch_lat',\n",
        "                   'merch_long',\n",
        "                   'job',\n",
        "                   'zip',\n",
        "                   ]\n",
        "\n",
        "df_balanced.drop(columns = columns_dropped, inplace = True)"
      ]
    },
    {
      "cell_type": "code",
      "execution_count": 38,
      "id": "0ff67c62",
      "metadata": {
        "execution": {
          "iopub.execute_input": "2024-05-22T14:17:07.423811Z",
          "iopub.status.busy": "2024-05-22T14:17:07.422589Z",
          "iopub.status.idle": "2024-05-22T14:17:07.449830Z",
          "shell.execute_reply": "2024-05-22T14:17:07.448579Z"
        },
        "papermill": {
          "duration": 0.055176,
          "end_time": "2024-05-22T14:17:07.452968",
          "exception": false,
          "start_time": "2024-05-22T14:17:07.397792",
          "status": "completed"
        },
        "tags": [],
        "colab": {
          "base_uri": "https://localhost:8080/"
        },
        "id": "0ff67c62",
        "outputId": "90583c26-3c8b-4a30-8c78-5e32859b4a93"
      },
      "outputs": [
        {
          "output_type": "stream",
          "name": "stdout",
          "text": [
            "<class 'pandas.core.frame.DataFrame'>\n",
            "Index: 3390 entries, 2449 to 48631\n",
            "Data columns (total 10 columns):\n",
            " #   Column                 Non-Null Count  Dtype  \n",
            "---  ------                 --------------  -----  \n",
            " 0   trans_date_trans_time  3390 non-null   object \n",
            " 1   category               3390 non-null   object \n",
            " 2   amt                    3390 non-null   float64\n",
            " 3   city                   3390 non-null   object \n",
            " 4   state                  3390 non-null   object \n",
            " 5   lat                    3390 non-null   float64\n",
            " 6   long                   3390 non-null   float64\n",
            " 7   city_pop               3390 non-null   float64\n",
            " 8   dob                    3390 non-null   object \n",
            " 9   is_fraud               3390 non-null   float64\n",
            "dtypes: float64(5), object(5)\n",
            "memory usage: 291.3+ KB\n"
          ]
        }
      ],
      "source": [
        "df_balanced.info()"
      ]
    },
    {
      "cell_type": "markdown",
      "id": "7680e0eb",
      "metadata": {
        "papermill": {
          "duration": 0.024007,
          "end_time": "2024-05-22T14:17:07.500670",
          "exception": false,
          "start_time": "2024-05-22T14:17:07.476663",
          "status": "completed"
        },
        "tags": [],
        "id": "7680e0eb"
      },
      "source": [
        "### Feature Engineering: Managing datetimes"
      ]
    },
    {
      "cell_type": "code",
      "execution_count": 39,
      "id": "2f5ade42",
      "metadata": {
        "execution": {
          "iopub.execute_input": "2024-05-22T14:17:07.550582Z",
          "iopub.status.busy": "2024-05-22T14:17:07.550079Z",
          "iopub.status.idle": "2024-05-22T14:17:07.585645Z",
          "shell.execute_reply": "2024-05-22T14:17:07.584335Z"
        },
        "papermill": {
          "duration": 0.064629,
          "end_time": "2024-05-22T14:17:07.588619",
          "exception": false,
          "start_time": "2024-05-22T14:17:07.523990",
          "status": "completed"
        },
        "tags": [],
        "id": "2f5ade42"
      },
      "outputs": [],
      "source": [
        "# First, I'm converting 'trans_date_trans_time' and 'dob' into datetime type\n",
        "df_balanced['trans_date_trans_time'] = pd.to_datetime(df_balanced['trans_date_trans_time'])\n",
        "df_balanced['dob'] = pd.to_datetime(df_balanced['dob'])"
      ]
    },
    {
      "cell_type": "code",
      "execution_count": 40,
      "id": "bcdb51c7",
      "metadata": {
        "execution": {
          "iopub.execute_input": "2024-05-22T14:17:07.639174Z",
          "iopub.status.busy": "2024-05-22T14:17:07.638675Z",
          "iopub.status.idle": "2024-05-22T14:17:07.657153Z",
          "shell.execute_reply": "2024-05-22T14:17:07.655717Z"
        },
        "papermill": {
          "duration": 0.046295,
          "end_time": "2024-05-22T14:17:07.659798",
          "exception": false,
          "start_time": "2024-05-22T14:17:07.613503",
          "status": "completed"
        },
        "tags": [],
        "colab": {
          "base_uri": "https://localhost:8080/"
        },
        "id": "bcdb51c7",
        "outputId": "f13c58ea-0191-4df5-bc7f-d5c83de57c24"
      },
      "outputs": [
        {
          "output_type": "stream",
          "name": "stdout",
          "text": [
            "<class 'pandas.core.frame.DataFrame'>\n",
            "Index: 3390 entries, 2449 to 48631\n",
            "Data columns (total 10 columns):\n",
            " #   Column                 Non-Null Count  Dtype         \n",
            "---  ------                 --------------  -----         \n",
            " 0   trans_date_trans_time  3390 non-null   datetime64[ns]\n",
            " 1   category               3390 non-null   object        \n",
            " 2   amt                    3390 non-null   float64       \n",
            " 3   city                   3390 non-null   object        \n",
            " 4   state                  3390 non-null   object        \n",
            " 5   lat                    3390 non-null   float64       \n",
            " 6   long                   3390 non-null   float64       \n",
            " 7   city_pop               3390 non-null   float64       \n",
            " 8   dob                    3390 non-null   datetime64[ns]\n",
            " 9   is_fraud               3390 non-null   float64       \n",
            "dtypes: datetime64[ns](2), float64(5), object(3)\n",
            "memory usage: 291.3+ KB\n"
          ]
        }
      ],
      "source": [
        "df_balanced.info()"
      ]
    },
    {
      "cell_type": "code",
      "execution_count": 41,
      "id": "1ae40474",
      "metadata": {
        "execution": {
          "iopub.execute_input": "2024-05-22T14:17:07.708353Z",
          "iopub.status.busy": "2024-05-22T14:17:07.707432Z",
          "iopub.status.idle": "2024-05-22T14:17:07.714699Z",
          "shell.execute_reply": "2024-05-22T14:17:07.713570Z"
        },
        "papermill": {
          "duration": 0.034247,
          "end_time": "2024-05-22T14:17:07.717283",
          "exception": false,
          "start_time": "2024-05-22T14:17:07.683036",
          "status": "completed"
        },
        "tags": [],
        "id": "1ae40474"
      },
      "outputs": [],
      "source": [
        "# Now, we can use these datetime variables to extract relevant information\n",
        "# about the transaction and the client, such as day hour and age\n",
        "\n",
        "# Lets change these columns\n",
        "df_balanced['trans_date_trans_time'] = df_balanced['trans_date_trans_time'].dt.hour"
      ]
    },
    {
      "cell_type": "code",
      "execution_count": 42,
      "id": "70ef2033",
      "metadata": {
        "execution": {
          "iopub.execute_input": "2024-05-22T14:17:07.766541Z",
          "iopub.status.busy": "2024-05-22T14:17:07.765534Z",
          "iopub.status.idle": "2024-05-22T14:17:07.776524Z",
          "shell.execute_reply": "2024-05-22T14:17:07.775310Z"
        },
        "papermill": {
          "duration": 0.038583,
          "end_time": "2024-05-22T14:17:07.779421",
          "exception": false,
          "start_time": "2024-05-22T14:17:07.740838",
          "status": "completed"
        },
        "tags": [],
        "id": "70ef2033"
      },
      "outputs": [],
      "source": [
        "df_balanced = df_balanced.rename(columns = {'trans_date_trans_time': 'hour_transaction'})"
      ]
    },
    {
      "cell_type": "code",
      "execution_count": 43,
      "id": "d774d6b1",
      "metadata": {
        "execution": {
          "iopub.execute_input": "2024-05-22T14:17:07.828001Z",
          "iopub.status.busy": "2024-05-22T14:17:07.827540Z",
          "iopub.status.idle": "2024-05-22T14:17:07.834333Z",
          "shell.execute_reply": "2024-05-22T14:17:07.832993Z"
        },
        "papermill": {
          "duration": 0.033682,
          "end_time": "2024-05-22T14:17:07.836779",
          "exception": false,
          "start_time": "2024-05-22T14:17:07.803097",
          "status": "completed"
        },
        "tags": [],
        "id": "d774d6b1"
      },
      "outputs": [],
      "source": [
        "# Function to get time of day\n",
        "def get_tod(hour):\n",
        "    if 4 < hour['hour_transaction'] <= 12:\n",
        "        ans = 'morning'\n",
        "    elif 12 < hour['hour_transaction'] <= 20:\n",
        "        ans = 'afternoon'\n",
        "    elif hour['hour_transaction'] <= 4 or hour['hour_transaction'] > 20:\n",
        "        ans = 'night'\n",
        "    return ans"
      ]
    },
    {
      "cell_type": "code",
      "execution_count": 44,
      "id": "f6195133",
      "metadata": {
        "execution": {
          "iopub.execute_input": "2024-05-22T14:17:07.885912Z",
          "iopub.status.busy": "2024-05-22T14:17:07.884857Z",
          "iopub.status.idle": "2024-05-22T14:17:08.176874Z",
          "shell.execute_reply": "2024-05-22T14:17:08.175769Z"
        },
        "papermill": {
          "duration": 0.320083,
          "end_time": "2024-05-22T14:17:08.180084",
          "exception": false,
          "start_time": "2024-05-22T14:17:07.860001",
          "status": "completed"
        },
        "tags": [],
        "id": "f6195133"
      },
      "outputs": [],
      "source": [
        "df_balanced['hour_transaction'] = df_balanced.apply(get_tod, axis = 1)"
      ]
    },
    {
      "cell_type": "code",
      "execution_count": 45,
      "id": "c292b3fa",
      "metadata": {
        "execution": {
          "iopub.execute_input": "2024-05-22T14:17:08.229317Z",
          "iopub.status.busy": "2024-05-22T14:17:08.228831Z",
          "iopub.status.idle": "2024-05-22T14:17:08.246513Z",
          "shell.execute_reply": "2024-05-22T14:17:08.245266Z"
        },
        "papermill": {
          "duration": 0.045711,
          "end_time": "2024-05-22T14:17:08.249131",
          "exception": false,
          "start_time": "2024-05-22T14:17:08.203420",
          "status": "completed"
        },
        "tags": [],
        "colab": {
          "base_uri": "https://localhost:8080/",
          "height": 313
        },
        "id": "c292b3fa",
        "outputId": "7c7bd9c9-1e39-4be3-c620-886e6c5bea30"
      },
      "outputs": [
        {
          "output_type": "execute_result",
          "data": {
            "text/plain": [
              "     hour_transaction       category     amt           city state      lat  \\\n",
              "2449            night    grocery_pos  281.06  Collettsville    NC  35.9946   \n",
              "2472            night  gas_transport   11.52    San Antonio    TX  29.4400   \n",
              "2523            night    grocery_pos  276.31    San Antonio    TX  29.4400   \n",
              "2546            night  gas_transport    7.03  Collettsville    NC  35.9946   \n",
              "2553            night    grocery_pos  275.73    San Antonio    TX  29.4400   \n",
              "\n",
              "         long   city_pop        dob  is_fraud  \n",
              "2449 -81.7266      885.0 1988-09-15       1.0  \n",
              "2472 -98.4590  1595797.0 1960-10-28       1.0  \n",
              "2523 -98.4590  1595797.0 1960-10-28       1.0  \n",
              "2546 -81.7266      885.0 1988-09-15       1.0  \n",
              "2553 -98.4590  1595797.0 1960-10-28       1.0  "
            ],
            "text/html": [
              "\n",
              "  <div id=\"df-9ab8b815-9f81-4dbb-9cad-2c1133a7bcc3\" class=\"colab-df-container\">\n",
              "    <div>\n",
              "<style scoped>\n",
              "    .dataframe tbody tr th:only-of-type {\n",
              "        vertical-align: middle;\n",
              "    }\n",
              "\n",
              "    .dataframe tbody tr th {\n",
              "        vertical-align: top;\n",
              "    }\n",
              "\n",
              "    .dataframe thead th {\n",
              "        text-align: right;\n",
              "    }\n",
              "</style>\n",
              "<table border=\"1\" class=\"dataframe\">\n",
              "  <thead>\n",
              "    <tr style=\"text-align: right;\">\n",
              "      <th></th>\n",
              "      <th>hour_transaction</th>\n",
              "      <th>category</th>\n",
              "      <th>amt</th>\n",
              "      <th>city</th>\n",
              "      <th>state</th>\n",
              "      <th>lat</th>\n",
              "      <th>long</th>\n",
              "      <th>city_pop</th>\n",
              "      <th>dob</th>\n",
              "      <th>is_fraud</th>\n",
              "    </tr>\n",
              "  </thead>\n",
              "  <tbody>\n",
              "    <tr>\n",
              "      <th>2449</th>\n",
              "      <td>night</td>\n",
              "      <td>grocery_pos</td>\n",
              "      <td>281.06</td>\n",
              "      <td>Collettsville</td>\n",
              "      <td>NC</td>\n",
              "      <td>35.9946</td>\n",
              "      <td>-81.7266</td>\n",
              "      <td>885.0</td>\n",
              "      <td>1988-09-15</td>\n",
              "      <td>1.0</td>\n",
              "    </tr>\n",
              "    <tr>\n",
              "      <th>2472</th>\n",
              "      <td>night</td>\n",
              "      <td>gas_transport</td>\n",
              "      <td>11.52</td>\n",
              "      <td>San Antonio</td>\n",
              "      <td>TX</td>\n",
              "      <td>29.4400</td>\n",
              "      <td>-98.4590</td>\n",
              "      <td>1595797.0</td>\n",
              "      <td>1960-10-28</td>\n",
              "      <td>1.0</td>\n",
              "    </tr>\n",
              "    <tr>\n",
              "      <th>2523</th>\n",
              "      <td>night</td>\n",
              "      <td>grocery_pos</td>\n",
              "      <td>276.31</td>\n",
              "      <td>San Antonio</td>\n",
              "      <td>TX</td>\n",
              "      <td>29.4400</td>\n",
              "      <td>-98.4590</td>\n",
              "      <td>1595797.0</td>\n",
              "      <td>1960-10-28</td>\n",
              "      <td>1.0</td>\n",
              "    </tr>\n",
              "    <tr>\n",
              "      <th>2546</th>\n",
              "      <td>night</td>\n",
              "      <td>gas_transport</td>\n",
              "      <td>7.03</td>\n",
              "      <td>Collettsville</td>\n",
              "      <td>NC</td>\n",
              "      <td>35.9946</td>\n",
              "      <td>-81.7266</td>\n",
              "      <td>885.0</td>\n",
              "      <td>1988-09-15</td>\n",
              "      <td>1.0</td>\n",
              "    </tr>\n",
              "    <tr>\n",
              "      <th>2553</th>\n",
              "      <td>night</td>\n",
              "      <td>grocery_pos</td>\n",
              "      <td>275.73</td>\n",
              "      <td>San Antonio</td>\n",
              "      <td>TX</td>\n",
              "      <td>29.4400</td>\n",
              "      <td>-98.4590</td>\n",
              "      <td>1595797.0</td>\n",
              "      <td>1960-10-28</td>\n",
              "      <td>1.0</td>\n",
              "    </tr>\n",
              "  </tbody>\n",
              "</table>\n",
              "</div>\n",
              "    <div class=\"colab-df-buttons\">\n",
              "\n",
              "  <div class=\"colab-df-container\">\n",
              "    <button class=\"colab-df-convert\" onclick=\"convertToInteractive('df-9ab8b815-9f81-4dbb-9cad-2c1133a7bcc3')\"\n",
              "            title=\"Convert this dataframe to an interactive table.\"\n",
              "            style=\"display:none;\">\n",
              "\n",
              "  <svg xmlns=\"http://www.w3.org/2000/svg\" height=\"24px\" viewBox=\"0 -960 960 960\">\n",
              "    <path d=\"M120-120v-720h720v720H120Zm60-500h600v-160H180v160Zm220 220h160v-160H400v160Zm0 220h160v-160H400v160ZM180-400h160v-160H180v160Zm440 0h160v-160H620v160ZM180-180h160v-160H180v160Zm440 0h160v-160H620v160Z\"/>\n",
              "  </svg>\n",
              "    </button>\n",
              "\n",
              "  <style>\n",
              "    .colab-df-container {\n",
              "      display:flex;\n",
              "      gap: 12px;\n",
              "    }\n",
              "\n",
              "    .colab-df-convert {\n",
              "      background-color: #E8F0FE;\n",
              "      border: none;\n",
              "      border-radius: 50%;\n",
              "      cursor: pointer;\n",
              "      display: none;\n",
              "      fill: #1967D2;\n",
              "      height: 32px;\n",
              "      padding: 0 0 0 0;\n",
              "      width: 32px;\n",
              "    }\n",
              "\n",
              "    .colab-df-convert:hover {\n",
              "      background-color: #E2EBFA;\n",
              "      box-shadow: 0px 1px 2px rgba(60, 64, 67, 0.3), 0px 1px 3px 1px rgba(60, 64, 67, 0.15);\n",
              "      fill: #174EA6;\n",
              "    }\n",
              "\n",
              "    .colab-df-buttons div {\n",
              "      margin-bottom: 4px;\n",
              "    }\n",
              "\n",
              "    [theme=dark] .colab-df-convert {\n",
              "      background-color: #3B4455;\n",
              "      fill: #D2E3FC;\n",
              "    }\n",
              "\n",
              "    [theme=dark] .colab-df-convert:hover {\n",
              "      background-color: #434B5C;\n",
              "      box-shadow: 0px 1px 3px 1px rgba(0, 0, 0, 0.15);\n",
              "      filter: drop-shadow(0px 1px 2px rgba(0, 0, 0, 0.3));\n",
              "      fill: #FFFFFF;\n",
              "    }\n",
              "  </style>\n",
              "\n",
              "    <script>\n",
              "      const buttonEl =\n",
              "        document.querySelector('#df-9ab8b815-9f81-4dbb-9cad-2c1133a7bcc3 button.colab-df-convert');\n",
              "      buttonEl.style.display =\n",
              "        google.colab.kernel.accessAllowed ? 'block' : 'none';\n",
              "\n",
              "      async function convertToInteractive(key) {\n",
              "        const element = document.querySelector('#df-9ab8b815-9f81-4dbb-9cad-2c1133a7bcc3');\n",
              "        const dataTable =\n",
              "          await google.colab.kernel.invokeFunction('convertToInteractive',\n",
              "                                                    [key], {});\n",
              "        if (!dataTable) return;\n",
              "\n",
              "        const docLinkHtml = 'Like what you see? Visit the ' +\n",
              "          '<a target=\"_blank\" href=https://colab.research.google.com/notebooks/data_table.ipynb>data table notebook</a>'\n",
              "          + ' to learn more about interactive tables.';\n",
              "        element.innerHTML = '';\n",
              "        dataTable['output_type'] = 'display_data';\n",
              "        await google.colab.output.renderOutput(dataTable, element);\n",
              "        const docLink = document.createElement('div');\n",
              "        docLink.innerHTML = docLinkHtml;\n",
              "        element.appendChild(docLink);\n",
              "      }\n",
              "    </script>\n",
              "  </div>\n",
              "\n",
              "\n",
              "<div id=\"df-9f18d37d-cda6-4646-b481-92794c46d5c4\">\n",
              "  <button class=\"colab-df-quickchart\" onclick=\"quickchart('df-9f18d37d-cda6-4646-b481-92794c46d5c4')\"\n",
              "            title=\"Suggest charts\"\n",
              "            style=\"display:none;\">\n",
              "\n",
              "<svg xmlns=\"http://www.w3.org/2000/svg\" height=\"24px\"viewBox=\"0 0 24 24\"\n",
              "     width=\"24px\">\n",
              "    <g>\n",
              "        <path d=\"M19 3H5c-1.1 0-2 .9-2 2v14c0 1.1.9 2 2 2h14c1.1 0 2-.9 2-2V5c0-1.1-.9-2-2-2zM9 17H7v-7h2v7zm4 0h-2V7h2v10zm4 0h-2v-4h2v4z\"/>\n",
              "    </g>\n",
              "</svg>\n",
              "  </button>\n",
              "\n",
              "<style>\n",
              "  .colab-df-quickchart {\n",
              "      --bg-color: #E8F0FE;\n",
              "      --fill-color: #1967D2;\n",
              "      --hover-bg-color: #E2EBFA;\n",
              "      --hover-fill-color: #174EA6;\n",
              "      --disabled-fill-color: #AAA;\n",
              "      --disabled-bg-color: #DDD;\n",
              "  }\n",
              "\n",
              "  [theme=dark] .colab-df-quickchart {\n",
              "      --bg-color: #3B4455;\n",
              "      --fill-color: #D2E3FC;\n",
              "      --hover-bg-color: #434B5C;\n",
              "      --hover-fill-color: #FFFFFF;\n",
              "      --disabled-bg-color: #3B4455;\n",
              "      --disabled-fill-color: #666;\n",
              "  }\n",
              "\n",
              "  .colab-df-quickchart {\n",
              "    background-color: var(--bg-color);\n",
              "    border: none;\n",
              "    border-radius: 50%;\n",
              "    cursor: pointer;\n",
              "    display: none;\n",
              "    fill: var(--fill-color);\n",
              "    height: 32px;\n",
              "    padding: 0;\n",
              "    width: 32px;\n",
              "  }\n",
              "\n",
              "  .colab-df-quickchart:hover {\n",
              "    background-color: var(--hover-bg-color);\n",
              "    box-shadow: 0 1px 2px rgba(60, 64, 67, 0.3), 0 1px 3px 1px rgba(60, 64, 67, 0.15);\n",
              "    fill: var(--button-hover-fill-color);\n",
              "  }\n",
              "\n",
              "  .colab-df-quickchart-complete:disabled,\n",
              "  .colab-df-quickchart-complete:disabled:hover {\n",
              "    background-color: var(--disabled-bg-color);\n",
              "    fill: var(--disabled-fill-color);\n",
              "    box-shadow: none;\n",
              "  }\n",
              "\n",
              "  .colab-df-spinner {\n",
              "    border: 2px solid var(--fill-color);\n",
              "    border-color: transparent;\n",
              "    border-bottom-color: var(--fill-color);\n",
              "    animation:\n",
              "      spin 1s steps(1) infinite;\n",
              "  }\n",
              "\n",
              "  @keyframes spin {\n",
              "    0% {\n",
              "      border-color: transparent;\n",
              "      border-bottom-color: var(--fill-color);\n",
              "      border-left-color: var(--fill-color);\n",
              "    }\n",
              "    20% {\n",
              "      border-color: transparent;\n",
              "      border-left-color: var(--fill-color);\n",
              "      border-top-color: var(--fill-color);\n",
              "    }\n",
              "    30% {\n",
              "      border-color: transparent;\n",
              "      border-left-color: var(--fill-color);\n",
              "      border-top-color: var(--fill-color);\n",
              "      border-right-color: var(--fill-color);\n",
              "    }\n",
              "    40% {\n",
              "      border-color: transparent;\n",
              "      border-right-color: var(--fill-color);\n",
              "      border-top-color: var(--fill-color);\n",
              "    }\n",
              "    60% {\n",
              "      border-color: transparent;\n",
              "      border-right-color: var(--fill-color);\n",
              "    }\n",
              "    80% {\n",
              "      border-color: transparent;\n",
              "      border-right-color: var(--fill-color);\n",
              "      border-bottom-color: var(--fill-color);\n",
              "    }\n",
              "    90% {\n",
              "      border-color: transparent;\n",
              "      border-bottom-color: var(--fill-color);\n",
              "    }\n",
              "  }\n",
              "</style>\n",
              "\n",
              "  <script>\n",
              "    async function quickchart(key) {\n",
              "      const quickchartButtonEl =\n",
              "        document.querySelector('#' + key + ' button');\n",
              "      quickchartButtonEl.disabled = true;  // To prevent multiple clicks.\n",
              "      quickchartButtonEl.classList.add('colab-df-spinner');\n",
              "      try {\n",
              "        const charts = await google.colab.kernel.invokeFunction(\n",
              "            'suggestCharts', [key], {});\n",
              "      } catch (error) {\n",
              "        console.error('Error during call to suggestCharts:', error);\n",
              "      }\n",
              "      quickchartButtonEl.classList.remove('colab-df-spinner');\n",
              "      quickchartButtonEl.classList.add('colab-df-quickchart-complete');\n",
              "    }\n",
              "    (() => {\n",
              "      let quickchartButtonEl =\n",
              "        document.querySelector('#df-9f18d37d-cda6-4646-b481-92794c46d5c4 button');\n",
              "      quickchartButtonEl.style.display =\n",
              "        google.colab.kernel.accessAllowed ? 'block' : 'none';\n",
              "    })();\n",
              "  </script>\n",
              "</div>\n",
              "\n",
              "    </div>\n",
              "  </div>\n"
            ],
            "application/vnd.google.colaboratory.intrinsic+json": {
              "type": "dataframe",
              "variable_name": "df_balanced",
              "summary": "{\n  \"name\": \"df_balanced\",\n  \"rows\": 3390,\n  \"fields\": [\n    {\n      \"column\": \"hour_transaction\",\n      \"properties\": {\n        \"dtype\": \"category\",\n        \"num_unique_values\": 3,\n        \"samples\": [\n          \"night\",\n          \"afternoon\",\n          \"morning\"\n        ],\n        \"semantic_type\": \"\",\n        \"description\": \"\"\n      }\n    },\n    {\n      \"column\": \"category\",\n      \"properties\": {\n        \"dtype\": \"category\",\n        \"num_unique_values\": 14,\n        \"samples\": [\n          \"kids_pets\",\n          \"food_dining\",\n          \"grocery_pos\"\n        ],\n        \"semantic_type\": \"\",\n        \"description\": \"\"\n      }\n    },\n    {\n      \"column\": \"amt\",\n      \"properties\": {\n        \"dtype\": \"number\",\n        \"std\": 397.02862598844996,\n        \"min\": 1.01,\n        \"max\": 8021.63,\n        \"num_unique_values\": 3109,\n        \"samples\": [\n          1033.78,\n          799.88,\n          197.14\n        ],\n        \"semantic_type\": \"\",\n        \"description\": \"\"\n      }\n    },\n    {\n      \"column\": \"city\",\n      \"properties\": {\n        \"dtype\": \"category\",\n        \"num_unique_values\": 709,\n        \"samples\": [\n          \"Bolton\",\n          \"Murfreesboro\",\n          \"Sterling City\"\n        ],\n        \"semantic_type\": \"\",\n        \"description\": \"\"\n      }\n    },\n    {\n      \"column\": \"state\",\n      \"properties\": {\n        \"dtype\": \"category\",\n        \"num_unique_values\": 49,\n        \"samples\": [\n          \"AL\",\n          \"CT\",\n          \"AZ\"\n        ],\n        \"semantic_type\": \"\",\n        \"description\": \"\"\n      }\n    },\n    {\n      \"column\": \"lat\",\n      \"properties\": {\n        \"dtype\": \"number\",\n        \"std\": 5.284458112820507,\n        \"min\": 20.0271,\n        \"max\": 65.6899,\n        \"num_unique_values\": 749,\n        \"samples\": [\n          38.5662,\n          32.8357,\n          39.5994\n        ],\n        \"semantic_type\": \"\",\n        \"description\": \"\"\n      }\n    },\n    {\n      \"column\": \"long\",\n      \"properties\": {\n        \"dtype\": \"number\",\n        \"std\": 14.483644445396466,\n        \"min\": -165.6723,\n        \"max\": -67.9503,\n        \"num_unique_values\": 748,\n        \"samples\": [\n          -87.8235,\n          -101.136,\n          -105.0044\n        ],\n        \"semantic_type\": \"\",\n        \"description\": \"\"\n      }\n    },\n    {\n      \"column\": \"city_pop\",\n      \"properties\": {\n        \"dtype\": \"number\",\n        \"std\": 279030.68332929624,\n        \"min\": 23.0,\n        \"max\": 2906700.0,\n        \"num_unique_values\": 700,\n        \"samples\": [\n          3508.0,\n          128354.0,\n          519.0\n        ],\n        \"semantic_type\": \"\",\n        \"description\": \"\"\n      }\n    },\n    {\n      \"column\": \"dob\",\n      \"properties\": {\n        \"dtype\": \"date\",\n        \"min\": \"1924-10-30 00:00:00\",\n        \"max\": \"2005-01-29 00:00:00\",\n        \"num_unique_values\": 749,\n        \"samples\": [\n          \"1976-06-30 00:00:00\",\n          \"1994-04-22 00:00:00\",\n          \"1975-07-31 00:00:00\"\n        ],\n        \"semantic_type\": \"\",\n        \"description\": \"\"\n      }\n    },\n    {\n      \"column\": \"is_fraud\",\n      \"properties\": {\n        \"dtype\": \"number\",\n        \"std\": 0.500073762632252,\n        \"min\": 0.0,\n        \"max\": 1.0,\n        \"num_unique_values\": 2,\n        \"samples\": [\n          0.0,\n          1.0\n        ],\n        \"semantic_type\": \"\",\n        \"description\": \"\"\n      }\n    }\n  ]\n}"
            }
          },
          "metadata": {},
          "execution_count": 45
        }
      ],
      "source": [
        "df_balanced.head()"
      ]
    },
    {
      "cell_type": "code",
      "execution_count": 46,
      "id": "c7a9a159",
      "metadata": {
        "execution": {
          "iopub.execute_input": "2024-05-22T14:17:08.298862Z",
          "iopub.status.busy": "2024-05-22T14:17:08.298415Z",
          "iopub.status.idle": "2024-05-22T14:17:08.310490Z",
          "shell.execute_reply": "2024-05-22T14:17:08.309400Z"
        },
        "papermill": {
          "duration": 0.040002,
          "end_time": "2024-05-22T14:17:08.313375",
          "exception": false,
          "start_time": "2024-05-22T14:17:08.273373",
          "status": "completed"
        },
        "tags": [],
        "id": "c7a9a159"
      },
      "outputs": [],
      "source": [
        "# Now, about 'dob' (day of birth), we can get the age of the user\n",
        "df_balanced['dob']= df_balanced['dob'].dt.year\n",
        "df_balanced = df_balanced.rename(columns = {'dob': 'age'})"
      ]
    },
    {
      "cell_type": "code",
      "execution_count": 47,
      "id": "aaf39e1e",
      "metadata": {
        "execution": {
          "iopub.execute_input": "2024-05-22T14:17:08.362435Z",
          "iopub.status.busy": "2024-05-22T14:17:08.361963Z",
          "iopub.status.idle": "2024-05-22T14:17:08.368996Z",
          "shell.execute_reply": "2024-05-22T14:17:08.367545Z"
        },
        "papermill": {
          "duration": 0.034657,
          "end_time": "2024-05-22T14:17:08.371635",
          "exception": false,
          "start_time": "2024-05-22T14:17:08.336978",
          "status": "completed"
        },
        "tags": [],
        "id": "aaf39e1e"
      },
      "outputs": [],
      "source": [
        "from datetime import datetime\n",
        "df_balanced['age'] = datetime.now().year - df_balanced['age']"
      ]
    },
    {
      "cell_type": "code",
      "execution_count": 48,
      "id": "3b6126b0",
      "metadata": {
        "execution": {
          "iopub.execute_input": "2024-05-22T14:17:08.423042Z",
          "iopub.status.busy": "2024-05-22T14:17:08.422502Z",
          "iopub.status.idle": "2024-05-22T14:17:08.440143Z",
          "shell.execute_reply": "2024-05-22T14:17:08.438934Z"
        },
        "papermill": {
          "duration": 0.04581,
          "end_time": "2024-05-22T14:17:08.442751",
          "exception": false,
          "start_time": "2024-05-22T14:17:08.396941",
          "status": "completed"
        },
        "tags": [],
        "colab": {
          "base_uri": "https://localhost:8080/"
        },
        "id": "3b6126b0",
        "outputId": "b0f9a19c-3d14-4d67-cbaf-b40530e68128"
      },
      "outputs": [
        {
          "output_type": "execute_result",
          "data": {
            "text/plain": [
              "age\n",
              "23     32\n",
              "24     10\n",
              "25     23\n",
              "26      9\n",
              "27     45\n",
              "       ..\n",
              "92      7\n",
              "93     11\n",
              "95     10\n",
              "99     11\n",
              "100     6\n",
              "Name: is_fraud, Length: 67, dtype: int64"
            ]
          },
          "metadata": {},
          "execution_count": 48
        }
      ],
      "source": [
        "# Analyzing how many frauds occur for each age group\n",
        "df_balanced[df_balanced['is_fraud'] == 1].groupby('age').count()['is_fraud']"
      ]
    },
    {
      "cell_type": "code",
      "execution_count": 49,
      "id": "f326d4fe",
      "metadata": {
        "execution": {
          "iopub.execute_input": "2024-05-22T14:17:08.492945Z",
          "iopub.status.busy": "2024-05-22T14:17:08.492474Z",
          "iopub.status.idle": "2024-05-22T14:17:08.511698Z",
          "shell.execute_reply": "2024-05-22T14:17:08.510249Z"
        },
        "papermill": {
          "duration": 0.047252,
          "end_time": "2024-05-22T14:17:08.514571",
          "exception": false,
          "start_time": "2024-05-22T14:17:08.467319",
          "status": "completed"
        },
        "tags": [],
        "colab": {
          "base_uri": "https://localhost:8080/"
        },
        "id": "f326d4fe",
        "outputId": "526f5da2-3bb1-41cc-d02d-876248bba4f5"
      },
      "outputs": [
        {
          "output_type": "stream",
          "name": "stdout",
          "text": [
            "<class 'pandas.core.frame.DataFrame'>\n",
            "Index: 3390 entries, 2449 to 48631\n",
            "Data columns (total 10 columns):\n",
            " #   Column            Non-Null Count  Dtype  \n",
            "---  ------            --------------  -----  \n",
            " 0   hour_transaction  3390 non-null   object \n",
            " 1   category          3390 non-null   object \n",
            " 2   amt               3390 non-null   float64\n",
            " 3   city              3390 non-null   object \n",
            " 4   state             3390 non-null   object \n",
            " 5   lat               3390 non-null   float64\n",
            " 6   long              3390 non-null   float64\n",
            " 7   city_pop          3390 non-null   float64\n",
            " 8   age               3390 non-null   int32  \n",
            " 9   is_fraud          3390 non-null   float64\n",
            "dtypes: float64(5), int32(1), object(4)\n",
            "memory usage: 278.1+ KB\n"
          ]
        }
      ],
      "source": [
        "df_balanced.info()"
      ]
    },
    {
      "cell_type": "markdown",
      "id": "cd677ff6",
      "metadata": {
        "papermill": {
          "duration": 0.023277,
          "end_time": "2024-05-22T14:17:08.561544",
          "exception": false,
          "start_time": "2024-05-22T14:17:08.538267",
          "status": "completed"
        },
        "tags": [],
        "id": "cd677ff6"
      },
      "source": [
        "### Label Encoding"
      ]
    },
    {
      "cell_type": "markdown",
      "id": "1ceb150b",
      "metadata": {
        "papermill": {
          "duration": 0.023012,
          "end_time": "2024-05-22T14:17:08.608007",
          "exception": false,
          "start_time": "2024-05-22T14:17:08.584995",
          "status": "completed"
        },
        "tags": [],
        "id": "1ceb150b"
      },
      "source": [
        "Using label encoding for categorical data"
      ]
    },
    {
      "cell_type": "code",
      "execution_count": 50,
      "id": "c6a43020",
      "metadata": {
        "execution": {
          "iopub.execute_input": "2024-05-22T14:17:08.657643Z",
          "iopub.status.busy": "2024-05-22T14:17:08.656358Z",
          "iopub.status.idle": "2024-05-22T14:17:08.663676Z",
          "shell.execute_reply": "2024-05-22T14:17:08.662418Z"
        },
        "papermill": {
          "duration": 0.034911,
          "end_time": "2024-05-22T14:17:08.666362",
          "exception": false,
          "start_time": "2024-05-22T14:17:08.631451",
          "status": "completed"
        },
        "tags": [],
        "id": "c6a43020"
      },
      "outputs": [],
      "source": [
        "NUMERICAL_FEATURES = [i for i in df_balanced.columns if df_balanced[i].dtype == 'int64'\\\n",
        "                      or df_balanced[i].dtype =='int32' \\\n",
        "                      or df_balanced[i].dtype =='float64']\n",
        "CATEGORICAL_FEATURES = [i for i in df_balanced.columns if df_balanced[i].dtype == 'object']"
      ]
    },
    {
      "cell_type": "code",
      "execution_count": 51,
      "id": "eb407568",
      "metadata": {
        "execution": {
          "iopub.execute_input": "2024-05-22T14:17:08.716856Z",
          "iopub.status.busy": "2024-05-22T14:17:08.716414Z",
          "iopub.status.idle": "2024-05-22T14:17:08.723502Z",
          "shell.execute_reply": "2024-05-22T14:17:08.722490Z"
        },
        "papermill": {
          "duration": 0.036012,
          "end_time": "2024-05-22T14:17:08.725993",
          "exception": false,
          "start_time": "2024-05-22T14:17:08.689981",
          "status": "completed"
        },
        "tags": [],
        "colab": {
          "base_uri": "https://localhost:8080/"
        },
        "id": "eb407568",
        "outputId": "63680660-0922-4360-f6b5-663797716ed8"
      },
      "outputs": [
        {
          "output_type": "execute_result",
          "data": {
            "text/plain": [
              "['amt', 'lat', 'long', 'city_pop', 'age', 'is_fraud']"
            ]
          },
          "metadata": {},
          "execution_count": 51
        }
      ],
      "source": [
        "NUMERICAL_FEATURES"
      ]
    },
    {
      "cell_type": "code",
      "execution_count": 52,
      "id": "fd048082",
      "metadata": {
        "execution": {
          "iopub.execute_input": "2024-05-22T14:17:08.776009Z",
          "iopub.status.busy": "2024-05-22T14:17:08.774976Z",
          "iopub.status.idle": "2024-05-22T14:17:08.782348Z",
          "shell.execute_reply": "2024-05-22T14:17:08.781221Z"
        },
        "papermill": {
          "duration": 0.035137,
          "end_time": "2024-05-22T14:17:08.785039",
          "exception": false,
          "start_time": "2024-05-22T14:17:08.749902",
          "status": "completed"
        },
        "tags": [],
        "colab": {
          "base_uri": "https://localhost:8080/"
        },
        "id": "fd048082",
        "outputId": "f5bb1151-63e5-4043-c483-57005756dce8"
      },
      "outputs": [
        {
          "output_type": "execute_result",
          "data": {
            "text/plain": [
              "['hour_transaction', 'category', 'city', 'state']"
            ]
          },
          "metadata": {},
          "execution_count": 52
        }
      ],
      "source": [
        "CATEGORICAL_FEATURES"
      ]
    },
    {
      "cell_type": "code",
      "execution_count": 53,
      "id": "db88e858",
      "metadata": {
        "execution": {
          "iopub.execute_input": "2024-05-22T14:17:08.836036Z",
          "iopub.status.busy": "2024-05-22T14:17:08.835575Z",
          "iopub.status.idle": "2024-05-22T14:17:09.045899Z",
          "shell.execute_reply": "2024-05-22T14:17:09.044595Z"
        },
        "papermill": {
          "duration": 0.239237,
          "end_time": "2024-05-22T14:17:09.048914",
          "exception": false,
          "start_time": "2024-05-22T14:17:08.809677",
          "status": "completed"
        },
        "tags": [],
        "id": "db88e858"
      },
      "outputs": [],
      "source": [
        "from sklearn.preprocessing import OrdinalEncoder\n",
        "\n",
        "encoder = OrdinalEncoder()\n",
        "encoder.fit(df_balanced[CATEGORICAL_FEATURES])\n",
        "\n",
        "df_balanced[CATEGORICAL_FEATURES] = encoder.transform(df_balanced[CATEGORICAL_FEATURES])"
      ]
    },
    {
      "cell_type": "code",
      "execution_count": 54,
      "id": "2a41a220",
      "metadata": {
        "execution": {
          "iopub.execute_input": "2024-05-22T14:17:09.099921Z",
          "iopub.status.busy": "2024-05-22T14:17:09.099439Z",
          "iopub.status.idle": "2024-05-22T14:17:09.118739Z",
          "shell.execute_reply": "2024-05-22T14:17:09.117585Z"
        },
        "papermill": {
          "duration": 0.04863,
          "end_time": "2024-05-22T14:17:09.121515",
          "exception": false,
          "start_time": "2024-05-22T14:17:09.072885",
          "status": "completed"
        },
        "tags": [],
        "colab": {
          "base_uri": "https://localhost:8080/",
          "height": 206
        },
        "id": "2a41a220",
        "outputId": "84f66ccb-d38e-4416-eb65-24e4a9543be3"
      },
      "outputs": [
        {
          "output_type": "execute_result",
          "data": {
            "text/plain": [
              "      hour_transaction  category     amt   city  state      lat     long  \\\n",
              "2449               2.0       4.0  281.06  131.0   26.0  35.9946 -81.7266   \n",
              "2472               2.0       2.0   11.52  570.0   41.0  29.4400 -98.4590   \n",
              "2523               2.0       4.0  276.31  570.0   41.0  29.4400 -98.4590   \n",
              "2546               2.0       2.0    7.03  131.0   26.0  35.9946 -81.7266   \n",
              "2553               2.0       4.0  275.73  570.0   41.0  29.4400 -98.4590   \n",
              "\n",
              "       city_pop  age  is_fraud  \n",
              "2449      885.0   36       1.0  \n",
              "2472  1595797.0   64       1.0  \n",
              "2523  1595797.0   64       1.0  \n",
              "2546      885.0   36       1.0  \n",
              "2553  1595797.0   64       1.0  "
            ],
            "text/html": [
              "\n",
              "  <div id=\"df-e3d7d80a-99f5-4bc2-986b-4152caafa13b\" class=\"colab-df-container\">\n",
              "    <div>\n",
              "<style scoped>\n",
              "    .dataframe tbody tr th:only-of-type {\n",
              "        vertical-align: middle;\n",
              "    }\n",
              "\n",
              "    .dataframe tbody tr th {\n",
              "        vertical-align: top;\n",
              "    }\n",
              "\n",
              "    .dataframe thead th {\n",
              "        text-align: right;\n",
              "    }\n",
              "</style>\n",
              "<table border=\"1\" class=\"dataframe\">\n",
              "  <thead>\n",
              "    <tr style=\"text-align: right;\">\n",
              "      <th></th>\n",
              "      <th>hour_transaction</th>\n",
              "      <th>category</th>\n",
              "      <th>amt</th>\n",
              "      <th>city</th>\n",
              "      <th>state</th>\n",
              "      <th>lat</th>\n",
              "      <th>long</th>\n",
              "      <th>city_pop</th>\n",
              "      <th>age</th>\n",
              "      <th>is_fraud</th>\n",
              "    </tr>\n",
              "  </thead>\n",
              "  <tbody>\n",
              "    <tr>\n",
              "      <th>2449</th>\n",
              "      <td>2.0</td>\n",
              "      <td>4.0</td>\n",
              "      <td>281.06</td>\n",
              "      <td>131.0</td>\n",
              "      <td>26.0</td>\n",
              "      <td>35.9946</td>\n",
              "      <td>-81.7266</td>\n",
              "      <td>885.0</td>\n",
              "      <td>36</td>\n",
              "      <td>1.0</td>\n",
              "    </tr>\n",
              "    <tr>\n",
              "      <th>2472</th>\n",
              "      <td>2.0</td>\n",
              "      <td>2.0</td>\n",
              "      <td>11.52</td>\n",
              "      <td>570.0</td>\n",
              "      <td>41.0</td>\n",
              "      <td>29.4400</td>\n",
              "      <td>-98.4590</td>\n",
              "      <td>1595797.0</td>\n",
              "      <td>64</td>\n",
              "      <td>1.0</td>\n",
              "    </tr>\n",
              "    <tr>\n",
              "      <th>2523</th>\n",
              "      <td>2.0</td>\n",
              "      <td>4.0</td>\n",
              "      <td>276.31</td>\n",
              "      <td>570.0</td>\n",
              "      <td>41.0</td>\n",
              "      <td>29.4400</td>\n",
              "      <td>-98.4590</td>\n",
              "      <td>1595797.0</td>\n",
              "      <td>64</td>\n",
              "      <td>1.0</td>\n",
              "    </tr>\n",
              "    <tr>\n",
              "      <th>2546</th>\n",
              "      <td>2.0</td>\n",
              "      <td>2.0</td>\n",
              "      <td>7.03</td>\n",
              "      <td>131.0</td>\n",
              "      <td>26.0</td>\n",
              "      <td>35.9946</td>\n",
              "      <td>-81.7266</td>\n",
              "      <td>885.0</td>\n",
              "      <td>36</td>\n",
              "      <td>1.0</td>\n",
              "    </tr>\n",
              "    <tr>\n",
              "      <th>2553</th>\n",
              "      <td>2.0</td>\n",
              "      <td>4.0</td>\n",
              "      <td>275.73</td>\n",
              "      <td>570.0</td>\n",
              "      <td>41.0</td>\n",
              "      <td>29.4400</td>\n",
              "      <td>-98.4590</td>\n",
              "      <td>1595797.0</td>\n",
              "      <td>64</td>\n",
              "      <td>1.0</td>\n",
              "    </tr>\n",
              "  </tbody>\n",
              "</table>\n",
              "</div>\n",
              "    <div class=\"colab-df-buttons\">\n",
              "\n",
              "  <div class=\"colab-df-container\">\n",
              "    <button class=\"colab-df-convert\" onclick=\"convertToInteractive('df-e3d7d80a-99f5-4bc2-986b-4152caafa13b')\"\n",
              "            title=\"Convert this dataframe to an interactive table.\"\n",
              "            style=\"display:none;\">\n",
              "\n",
              "  <svg xmlns=\"http://www.w3.org/2000/svg\" height=\"24px\" viewBox=\"0 -960 960 960\">\n",
              "    <path d=\"M120-120v-720h720v720H120Zm60-500h600v-160H180v160Zm220 220h160v-160H400v160Zm0 220h160v-160H400v160ZM180-400h160v-160H180v160Zm440 0h160v-160H620v160ZM180-180h160v-160H180v160Zm440 0h160v-160H620v160Z\"/>\n",
              "  </svg>\n",
              "    </button>\n",
              "\n",
              "  <style>\n",
              "    .colab-df-container {\n",
              "      display:flex;\n",
              "      gap: 12px;\n",
              "    }\n",
              "\n",
              "    .colab-df-convert {\n",
              "      background-color: #E8F0FE;\n",
              "      border: none;\n",
              "      border-radius: 50%;\n",
              "      cursor: pointer;\n",
              "      display: none;\n",
              "      fill: #1967D2;\n",
              "      height: 32px;\n",
              "      padding: 0 0 0 0;\n",
              "      width: 32px;\n",
              "    }\n",
              "\n",
              "    .colab-df-convert:hover {\n",
              "      background-color: #E2EBFA;\n",
              "      box-shadow: 0px 1px 2px rgba(60, 64, 67, 0.3), 0px 1px 3px 1px rgba(60, 64, 67, 0.15);\n",
              "      fill: #174EA6;\n",
              "    }\n",
              "\n",
              "    .colab-df-buttons div {\n",
              "      margin-bottom: 4px;\n",
              "    }\n",
              "\n",
              "    [theme=dark] .colab-df-convert {\n",
              "      background-color: #3B4455;\n",
              "      fill: #D2E3FC;\n",
              "    }\n",
              "\n",
              "    [theme=dark] .colab-df-convert:hover {\n",
              "      background-color: #434B5C;\n",
              "      box-shadow: 0px 1px 3px 1px rgba(0, 0, 0, 0.15);\n",
              "      filter: drop-shadow(0px 1px 2px rgba(0, 0, 0, 0.3));\n",
              "      fill: #FFFFFF;\n",
              "    }\n",
              "  </style>\n",
              "\n",
              "    <script>\n",
              "      const buttonEl =\n",
              "        document.querySelector('#df-e3d7d80a-99f5-4bc2-986b-4152caafa13b button.colab-df-convert');\n",
              "      buttonEl.style.display =\n",
              "        google.colab.kernel.accessAllowed ? 'block' : 'none';\n",
              "\n",
              "      async function convertToInteractive(key) {\n",
              "        const element = document.querySelector('#df-e3d7d80a-99f5-4bc2-986b-4152caafa13b');\n",
              "        const dataTable =\n",
              "          await google.colab.kernel.invokeFunction('convertToInteractive',\n",
              "                                                    [key], {});\n",
              "        if (!dataTable) return;\n",
              "\n",
              "        const docLinkHtml = 'Like what you see? Visit the ' +\n",
              "          '<a target=\"_blank\" href=https://colab.research.google.com/notebooks/data_table.ipynb>data table notebook</a>'\n",
              "          + ' to learn more about interactive tables.';\n",
              "        element.innerHTML = '';\n",
              "        dataTable['output_type'] = 'display_data';\n",
              "        await google.colab.output.renderOutput(dataTable, element);\n",
              "        const docLink = document.createElement('div');\n",
              "        docLink.innerHTML = docLinkHtml;\n",
              "        element.appendChild(docLink);\n",
              "      }\n",
              "    </script>\n",
              "  </div>\n",
              "\n",
              "\n",
              "<div id=\"df-a9a52060-d16a-45ba-b1b3-a784739175c5\">\n",
              "  <button class=\"colab-df-quickchart\" onclick=\"quickchart('df-a9a52060-d16a-45ba-b1b3-a784739175c5')\"\n",
              "            title=\"Suggest charts\"\n",
              "            style=\"display:none;\">\n",
              "\n",
              "<svg xmlns=\"http://www.w3.org/2000/svg\" height=\"24px\"viewBox=\"0 0 24 24\"\n",
              "     width=\"24px\">\n",
              "    <g>\n",
              "        <path d=\"M19 3H5c-1.1 0-2 .9-2 2v14c0 1.1.9 2 2 2h14c1.1 0 2-.9 2-2V5c0-1.1-.9-2-2-2zM9 17H7v-7h2v7zm4 0h-2V7h2v10zm4 0h-2v-4h2v4z\"/>\n",
              "    </g>\n",
              "</svg>\n",
              "  </button>\n",
              "\n",
              "<style>\n",
              "  .colab-df-quickchart {\n",
              "      --bg-color: #E8F0FE;\n",
              "      --fill-color: #1967D2;\n",
              "      --hover-bg-color: #E2EBFA;\n",
              "      --hover-fill-color: #174EA6;\n",
              "      --disabled-fill-color: #AAA;\n",
              "      --disabled-bg-color: #DDD;\n",
              "  }\n",
              "\n",
              "  [theme=dark] .colab-df-quickchart {\n",
              "      --bg-color: #3B4455;\n",
              "      --fill-color: #D2E3FC;\n",
              "      --hover-bg-color: #434B5C;\n",
              "      --hover-fill-color: #FFFFFF;\n",
              "      --disabled-bg-color: #3B4455;\n",
              "      --disabled-fill-color: #666;\n",
              "  }\n",
              "\n",
              "  .colab-df-quickchart {\n",
              "    background-color: var(--bg-color);\n",
              "    border: none;\n",
              "    border-radius: 50%;\n",
              "    cursor: pointer;\n",
              "    display: none;\n",
              "    fill: var(--fill-color);\n",
              "    height: 32px;\n",
              "    padding: 0;\n",
              "    width: 32px;\n",
              "  }\n",
              "\n",
              "  .colab-df-quickchart:hover {\n",
              "    background-color: var(--hover-bg-color);\n",
              "    box-shadow: 0 1px 2px rgba(60, 64, 67, 0.3), 0 1px 3px 1px rgba(60, 64, 67, 0.15);\n",
              "    fill: var(--button-hover-fill-color);\n",
              "  }\n",
              "\n",
              "  .colab-df-quickchart-complete:disabled,\n",
              "  .colab-df-quickchart-complete:disabled:hover {\n",
              "    background-color: var(--disabled-bg-color);\n",
              "    fill: var(--disabled-fill-color);\n",
              "    box-shadow: none;\n",
              "  }\n",
              "\n",
              "  .colab-df-spinner {\n",
              "    border: 2px solid var(--fill-color);\n",
              "    border-color: transparent;\n",
              "    border-bottom-color: var(--fill-color);\n",
              "    animation:\n",
              "      spin 1s steps(1) infinite;\n",
              "  }\n",
              "\n",
              "  @keyframes spin {\n",
              "    0% {\n",
              "      border-color: transparent;\n",
              "      border-bottom-color: var(--fill-color);\n",
              "      border-left-color: var(--fill-color);\n",
              "    }\n",
              "    20% {\n",
              "      border-color: transparent;\n",
              "      border-left-color: var(--fill-color);\n",
              "      border-top-color: var(--fill-color);\n",
              "    }\n",
              "    30% {\n",
              "      border-color: transparent;\n",
              "      border-left-color: var(--fill-color);\n",
              "      border-top-color: var(--fill-color);\n",
              "      border-right-color: var(--fill-color);\n",
              "    }\n",
              "    40% {\n",
              "      border-color: transparent;\n",
              "      border-right-color: var(--fill-color);\n",
              "      border-top-color: var(--fill-color);\n",
              "    }\n",
              "    60% {\n",
              "      border-color: transparent;\n",
              "      border-right-color: var(--fill-color);\n",
              "    }\n",
              "    80% {\n",
              "      border-color: transparent;\n",
              "      border-right-color: var(--fill-color);\n",
              "      border-bottom-color: var(--fill-color);\n",
              "    }\n",
              "    90% {\n",
              "      border-color: transparent;\n",
              "      border-bottom-color: var(--fill-color);\n",
              "    }\n",
              "  }\n",
              "</style>\n",
              "\n",
              "  <script>\n",
              "    async function quickchart(key) {\n",
              "      const quickchartButtonEl =\n",
              "        document.querySelector('#' + key + ' button');\n",
              "      quickchartButtonEl.disabled = true;  // To prevent multiple clicks.\n",
              "      quickchartButtonEl.classList.add('colab-df-spinner');\n",
              "      try {\n",
              "        const charts = await google.colab.kernel.invokeFunction(\n",
              "            'suggestCharts', [key], {});\n",
              "      } catch (error) {\n",
              "        console.error('Error during call to suggestCharts:', error);\n",
              "      }\n",
              "      quickchartButtonEl.classList.remove('colab-df-spinner');\n",
              "      quickchartButtonEl.classList.add('colab-df-quickchart-complete');\n",
              "    }\n",
              "    (() => {\n",
              "      let quickchartButtonEl =\n",
              "        document.querySelector('#df-a9a52060-d16a-45ba-b1b3-a784739175c5 button');\n",
              "      quickchartButtonEl.style.display =\n",
              "        google.colab.kernel.accessAllowed ? 'block' : 'none';\n",
              "    })();\n",
              "  </script>\n",
              "</div>\n",
              "\n",
              "    </div>\n",
              "  </div>\n"
            ],
            "application/vnd.google.colaboratory.intrinsic+json": {
              "type": "dataframe",
              "variable_name": "df_balanced",
              "summary": "{\n  \"name\": \"df_balanced\",\n  \"rows\": 3390,\n  \"fields\": [\n    {\n      \"column\": \"hour_transaction\",\n      \"properties\": {\n        \"dtype\": \"number\",\n        \"std\": 0.8446195482519233,\n        \"min\": 0.0,\n        \"max\": 2.0,\n        \"num_unique_values\": 3,\n        \"samples\": [\n          2.0,\n          0.0,\n          1.0\n        ],\n        \"semantic_type\": \"\",\n        \"description\": \"\"\n      }\n    },\n    {\n      \"column\": \"category\",\n      \"properties\": {\n        \"dtype\": \"number\",\n        \"std\": 3.906900585385215,\n        \"min\": 0.0,\n        \"max\": 13.0,\n        \"num_unique_values\": 14,\n        \"samples\": [\n          7.0,\n          1.0,\n          4.0\n        ],\n        \"semantic_type\": \"\",\n        \"description\": \"\"\n      }\n    },\n    {\n      \"column\": \"amt\",\n      \"properties\": {\n        \"dtype\": \"number\",\n        \"std\": 397.02862598844996,\n        \"min\": 1.01,\n        \"max\": 8021.63,\n        \"num_unique_values\": 3109,\n        \"samples\": [\n          1033.78,\n          799.88,\n          197.14\n        ],\n        \"semantic_type\": \"\",\n        \"description\": \"\"\n      }\n    },\n    {\n      \"column\": \"city\",\n      \"properties\": {\n        \"dtype\": \"number\",\n        \"std\": 202.86652103040296,\n        \"min\": 0.0,\n        \"max\": 708.0,\n        \"num_unique_values\": 709,\n        \"samples\": [\n          70.0,\n          438.0,\n          611.0\n        ],\n        \"semantic_type\": \"\",\n        \"description\": \"\"\n      }\n    },\n    {\n      \"column\": \"state\",\n      \"properties\": {\n        \"dtype\": \"number\",\n        \"std\": 13.42906945056205,\n        \"min\": 0.0,\n        \"max\": 48.0,\n        \"num_unique_values\": 49,\n        \"samples\": [\n          1.0,\n          6.0,\n          3.0\n        ],\n        \"semantic_type\": \"\",\n        \"description\": \"\"\n      }\n    },\n    {\n      \"column\": \"lat\",\n      \"properties\": {\n        \"dtype\": \"number\",\n        \"std\": 5.284458112820507,\n        \"min\": 20.0271,\n        \"max\": 65.6899,\n        \"num_unique_values\": 749,\n        \"samples\": [\n          38.5662,\n          32.8357,\n          39.5994\n        ],\n        \"semantic_type\": \"\",\n        \"description\": \"\"\n      }\n    },\n    {\n      \"column\": \"long\",\n      \"properties\": {\n        \"dtype\": \"number\",\n        \"std\": 14.483644445396466,\n        \"min\": -165.6723,\n        \"max\": -67.9503,\n        \"num_unique_values\": 748,\n        \"samples\": [\n          -87.8235,\n          -101.136,\n          -105.0044\n        ],\n        \"semantic_type\": \"\",\n        \"description\": \"\"\n      }\n    },\n    {\n      \"column\": \"city_pop\",\n      \"properties\": {\n        \"dtype\": \"number\",\n        \"std\": 279030.68332929624,\n        \"min\": 23.0,\n        \"max\": 2906700.0,\n        \"num_unique_values\": 700,\n        \"samples\": [\n          3508.0,\n          128354.0,\n          519.0\n        ],\n        \"semantic_type\": \"\",\n        \"description\": \"\"\n      }\n    },\n    {\n      \"column\": \"age\",\n      \"properties\": {\n        \"dtype\": \"int32\",\n        \"num_unique_values\": 81,\n        \"samples\": [\n          41,\n          36,\n          75\n        ],\n        \"semantic_type\": \"\",\n        \"description\": \"\"\n      }\n    },\n    {\n      \"column\": \"is_fraud\",\n      \"properties\": {\n        \"dtype\": \"number\",\n        \"std\": 0.500073762632252,\n        \"min\": 0.0,\n        \"max\": 1.0,\n        \"num_unique_values\": 2,\n        \"samples\": [\n          0.0,\n          1.0\n        ],\n        \"semantic_type\": \"\",\n        \"description\": \"\"\n      }\n    }\n  ]\n}"
            }
          },
          "metadata": {},
          "execution_count": 54
        }
      ],
      "source": [
        "df_balanced.head()"
      ]
    },
    {
      "cell_type": "markdown",
      "id": "8b8d1605",
      "metadata": {
        "papermill": {
          "duration": 0.023812,
          "end_time": "2024-05-22T14:17:09.169579",
          "exception": false,
          "start_time": "2024-05-22T14:17:09.145767",
          "status": "completed"
        },
        "tags": [],
        "id": "8b8d1605"
      },
      "source": [
        "### Correcting datatypes"
      ]
    },
    {
      "cell_type": "code",
      "execution_count": 55,
      "id": "0f3944c7",
      "metadata": {
        "execution": {
          "iopub.execute_input": "2024-05-22T14:17:09.219291Z",
          "iopub.status.busy": "2024-05-22T14:17:09.218770Z",
          "iopub.status.idle": "2024-05-22T14:17:09.229605Z",
          "shell.execute_reply": "2024-05-22T14:17:09.228539Z"
        },
        "papermill": {
          "duration": 0.039279,
          "end_time": "2024-05-22T14:17:09.232688",
          "exception": false,
          "start_time": "2024-05-22T14:17:09.193409",
          "status": "completed"
        },
        "tags": [],
        "id": "0f3944c7"
      },
      "outputs": [],
      "source": [
        "df_balanced[['is_fraud', 'age']] = df_balanced[['is_fraud', 'age']].astype('float64')"
      ]
    },
    {
      "cell_type": "markdown",
      "id": "88d6531b",
      "metadata": {
        "papermill": {
          "duration": 0.023549,
          "end_time": "2024-05-22T14:17:09.280298",
          "exception": false,
          "start_time": "2024-05-22T14:17:09.256749",
          "status": "completed"
        },
        "tags": [],
        "id": "88d6531b"
      },
      "source": [
        "### Scaling dataset"
      ]
    },
    {
      "cell_type": "markdown",
      "id": "907f1d21",
      "metadata": {
        "papermill": {
          "duration": 0.024343,
          "end_time": "2024-05-22T14:17:09.328732",
          "exception": false,
          "start_time": "2024-05-22T14:17:09.304389",
          "status": "completed"
        },
        "tags": [],
        "id": "907f1d21"
      },
      "source": [
        "As I'm trying different models, such as SVM which relies on distance, I'll scale the dataset."
      ]
    },
    {
      "cell_type": "code",
      "execution_count": 56,
      "id": "ac293ac7",
      "metadata": {
        "execution": {
          "iopub.execute_input": "2024-05-22T14:17:09.381094Z",
          "iopub.status.busy": "2024-05-22T14:17:09.380626Z",
          "iopub.status.idle": "2024-05-22T14:17:09.644774Z",
          "shell.execute_reply": "2024-05-22T14:17:09.643586Z"
        },
        "papermill": {
          "duration": 0.293089,
          "end_time": "2024-05-22T14:17:09.647359",
          "exception": false,
          "start_time": "2024-05-22T14:17:09.354270",
          "status": "completed"
        },
        "tags": [],
        "colab": {
          "base_uri": "https://localhost:8080/",
          "height": 462
        },
        "id": "ac293ac7",
        "outputId": "83e63bef-3483-491b-c694-9e8acdddda23"
      },
      "outputs": [
        {
          "output_type": "execute_result",
          "data": {
            "text/plain": [
              "<Axes: >"
            ]
          },
          "metadata": {},
          "execution_count": 56
        },
        {
          "output_type": "display_data",
          "data": {
            "text/plain": [
              "<Figure size 640x480 with 1 Axes>"
            ],
            "image/png": "[encoded data removed]"
          },
          "metadata": {}
        }
      ],
      "source": [
        "sns.boxplot(df_balanced[NUMERICAL_FEATURES])"
      ]
    },
    {
      "cell_type": "code",
      "execution_count": 57,
      "id": "10308549",
      "metadata": {
        "execution": {
          "iopub.execute_input": "2024-05-22T14:17:09.696442Z",
          "iopub.status.busy": "2024-05-22T14:17:09.695303Z",
          "iopub.status.idle": "2024-05-22T14:17:09.907083Z",
          "shell.execute_reply": "2024-05-22T14:17:09.906007Z"
        },
        "papermill": {
          "duration": 0.239114,
          "end_time": "2024-05-22T14:17:09.909733",
          "exception": false,
          "start_time": "2024-05-22T14:17:09.670619",
          "status": "completed"
        },
        "tags": [],
        "colab": {
          "base_uri": "https://localhost:8080/",
          "height": 447
        },
        "id": "10308549",
        "outputId": "bc43031b-1d03-41c3-f8bd-9b3e15a6a9a0"
      },
      "outputs": [
        {
          "output_type": "execute_result",
          "data": {
            "text/plain": [
              "<Axes: >"
            ]
          },
          "metadata": {},
          "execution_count": 57
        },
        {
          "output_type": "display_data",
          "data": {
            "text/plain": [
              "<Figure size 640x480 with 1 Axes>"
            ],
            "image/png": "[encoded data removed]"
          },
          "metadata": {}
        }
      ],
      "source": [
        "sns.boxplot(df_balanced[['amt']])"
      ]
    },
    {
      "cell_type": "markdown",
      "id": "4a8357ea",
      "metadata": {
        "papermill": {
          "duration": 0.023248,
          "end_time": "2024-05-22T14:17:09.958223",
          "exception": false,
          "start_time": "2024-05-22T14:17:09.934975",
          "status": "completed"
        },
        "tags": [],
        "id": "4a8357ea"
      },
      "source": [
        "And not all of them seem to follow a gaussian normal distribution, so i'm using normal minmax scaler."
      ]
    },
    {
      "cell_type": "code",
      "execution_count": 58,
      "id": "b9ab1a80",
      "metadata": {
        "execution": {
          "iopub.execute_input": "2024-05-22T14:17:10.007782Z",
          "iopub.status.busy": "2024-05-22T14:17:10.007343Z",
          "iopub.status.idle": "2024-05-22T14:17:10.019989Z",
          "shell.execute_reply": "2024-05-22T14:17:10.018830Z"
        },
        "papermill": {
          "duration": 0.040683,
          "end_time": "2024-05-22T14:17:10.022918",
          "exception": false,
          "start_time": "2024-05-22T14:17:09.982235",
          "status": "completed"
        },
        "tags": [],
        "id": "b9ab1a80"
      },
      "outputs": [],
      "source": [
        "# Using min max scaler\n",
        "from sklearn.preprocessing import MinMaxScaler\n",
        "\n",
        "scaler = MinMaxScaler()\n",
        "df_scaled = scaler.fit_transform(df_balanced)\n",
        "df_scaled = pd.DataFrame(df_scaled)"
      ]
    },
    {
      "cell_type": "code",
      "execution_count": 59,
      "id": "be29758b",
      "metadata": {
        "execution": {
          "iopub.execute_input": "2024-05-22T14:17:10.073836Z",
          "iopub.status.busy": "2024-05-22T14:17:10.072722Z",
          "iopub.status.idle": "2024-05-22T14:17:10.078724Z",
          "shell.execute_reply": "2024-05-22T14:17:10.077270Z"
        },
        "papermill": {
          "duration": 0.033531,
          "end_time": "2024-05-22T14:17:10.081203",
          "exception": false,
          "start_time": "2024-05-22T14:17:10.047672",
          "status": "completed"
        },
        "tags": [],
        "id": "be29758b"
      },
      "outputs": [],
      "source": [
        "last_column = df_scaled.shape[1]-1"
      ]
    },
    {
      "cell_type": "code",
      "execution_count": 60,
      "id": "c06c6c7f",
      "metadata": {
        "execution": {
          "iopub.execute_input": "2024-05-22T14:17:10.132262Z",
          "iopub.status.busy": "2024-05-22T14:17:10.131776Z",
          "iopub.status.idle": "2024-05-22T14:17:10.144533Z",
          "shell.execute_reply": "2024-05-22T14:17:10.142958Z"
        },
        "papermill": {
          "duration": 0.041159,
          "end_time": "2024-05-22T14:17:10.147355",
          "exception": false,
          "start_time": "2024-05-22T14:17:10.106196",
          "status": "completed"
        },
        "tags": [],
        "colab": {
          "base_uri": "https://localhost:8080/"
        },
        "id": "c06c6c7f",
        "outputId": "81bd2aff-b3a3-45ba-e098-102a3ce9f0cd"
      },
      "outputs": [
        {
          "output_type": "stream",
          "name": "stdout",
          "text": [
            "Not fraud: 1695\n",
            "Fraud: 1695\n"
          ]
        }
      ],
      "source": [
        "print(f\"Not fraud: {df_scaled[df_scaled[last_column] == 0].count()[last_column]}\")\n",
        "print(f\"Fraud: {df_scaled[df_scaled[last_column] == 1].count()[last_column]}\")"
      ]
    },
    {
      "cell_type": "code",
      "execution_count": 61,
      "id": "6f9c14b1",
      "metadata": {
        "execution": {
          "iopub.execute_input": "2024-05-22T14:17:10.199832Z",
          "iopub.status.busy": "2024-05-22T14:17:10.199398Z",
          "iopub.status.idle": "2024-05-22T14:17:10.219358Z",
          "shell.execute_reply": "2024-05-22T14:17:10.218026Z"
        },
        "papermill": {
          "duration": 0.049629,
          "end_time": "2024-05-22T14:17:10.221957",
          "exception": false,
          "start_time": "2024-05-22T14:17:10.172328",
          "status": "completed"
        },
        "tags": [],
        "colab": {
          "base_uri": "https://localhost:8080/",
          "height": 206
        },
        "id": "6f9c14b1",
        "outputId": "c3fc4818-122b-47aa-9733-6f76492294b2"
      },
      "outputs": [
        {
          "output_type": "execute_result",
          "data": {
            "text/plain": [
              "     0         1         2         3         4         5         6         7  \\\n",
              "0  1.0  0.307692  0.034916  0.185028  0.541667  0.349683  0.859026  0.000297   \n",
              "1  1.0  0.153846  0.001310  0.805085  0.854167  0.206139  0.687801  0.549003   \n",
              "2  1.0  0.307692  0.034324  0.805085  0.854167  0.206139  0.687801  0.549003   \n",
              "3  1.0  0.153846  0.000751  0.185028  0.541667  0.349683  0.859026  0.000297   \n",
              "4  1.0  0.307692  0.034252  0.805085  0.854167  0.206139  0.687801  0.549003   \n",
              "\n",
              "          8  is_fraud  \n",
              "0  0.209877       1.0  \n",
              "1  0.555556       1.0  \n",
              "2  0.555556       1.0  \n",
              "3  0.209877       1.0  \n",
              "4  0.555556       1.0  "
            ],
            "text/html": [
              "\n",
              "  <div id=\"df-7b34f4ce-8c95-4d33-a855-e7619684bd49\" class=\"colab-df-container\">\n",
              "    <div>\n",
              "<style scoped>\n",
              "    .dataframe tbody tr th:only-of-type {\n",
              "        vertical-align: middle;\n",
              "    }\n",
              "\n",
              "    .dataframe tbody tr th {\n",
              "        vertical-align: top;\n",
              "    }\n",
              "\n",
              "    .dataframe thead th {\n",
              "        text-align: right;\n",
              "    }\n",
              "</style>\n",
              "<table border=\"1\" class=\"dataframe\">\n",
              "  <thead>\n",
              "    <tr style=\"text-align: right;\">\n",
              "      <th></th>\n",
              "      <th>0</th>\n",
              "      <th>1</th>\n",
              "      <th>2</th>\n",
              "      <th>3</th>\n",
              "      <th>4</th>\n",
              "      <th>5</th>\n",
              "      <th>6</th>\n",
              "      <th>7</th>\n",
              "      <th>8</th>\n",
              "      <th>is_fraud</th>\n",
              "    </tr>\n",
              "  </thead>\n",
              "  <tbody>\n",
              "    <tr>\n",
              "      <th>0</th>\n",
              "      <td>1.0</td>\n",
              "      <td>0.307692</td>\n",
              "      <td>0.034916</td>\n",
              "      <td>0.185028</td>\n",
              "      <td>0.541667</td>\n",
              "      <td>0.349683</td>\n",
              "      <td>0.859026</td>\n",
              "      <td>0.000297</td>\n",
              "      <td>0.209877</td>\n",
              "      <td>1.0</td>\n",
              "    </tr>\n",
              "    <tr>\n",
              "      <th>1</th>\n",
              "      <td>1.0</td>\n",
              "      <td>0.153846</td>\n",
              "      <td>0.001310</td>\n",
              "      <td>0.805085</td>\n",
              "      <td>0.854167</td>\n",
              "      <td>0.206139</td>\n",
              "      <td>0.687801</td>\n",
              "      <td>0.549003</td>\n",
              "      <td>0.555556</td>\n",
              "      <td>1.0</td>\n",
              "    </tr>\n",
              "    <tr>\n",
              "      <th>2</th>\n",
              "      <td>1.0</td>\n",
              "      <td>0.307692</td>\n",
              "      <td>0.034324</td>\n",
              "      <td>0.805085</td>\n",
              "      <td>0.854167</td>\n",
              "      <td>0.206139</td>\n",
              "      <td>0.687801</td>\n",
              "      <td>0.549003</td>\n",
              "      <td>0.555556</td>\n",
              "      <td>1.0</td>\n",
              "    </tr>\n",
              "    <tr>\n",
              "      <th>3</th>\n",
              "      <td>1.0</td>\n",
              "      <td>0.153846</td>\n",
              "      <td>0.000751</td>\n",
              "      <td>0.185028</td>\n",
              "      <td>0.541667</td>\n",
              "      <td>0.349683</td>\n",
              "      <td>0.859026</td>\n",
              "      <td>0.000297</td>\n",
              "      <td>0.209877</td>\n",
              "      <td>1.0</td>\n",
              "    </tr>\n",
              "    <tr>\n",
              "      <th>4</th>\n",
              "      <td>1.0</td>\n",
              "      <td>0.307692</td>\n",
              "      <td>0.034252</td>\n",
              "      <td>0.805085</td>\n",
              "      <td>0.854167</td>\n",
              "      <td>0.206139</td>\n",
              "      <td>0.687801</td>\n",
              "      <td>0.549003</td>\n",
              "      <td>0.555556</td>\n",
              "      <td>1.0</td>\n",
              "    </tr>\n",
              "  </tbody>\n",
              "</table>\n",
              "</div>\n",
              "    <div class=\"colab-df-buttons\">\n",
              "\n",
              "  <div class=\"colab-df-container\">\n",
              "    <button class=\"colab-df-convert\" onclick=\"convertToInteractive('df-7b34f4ce-8c95-4d33-a855-e7619684bd49')\"\n",
              "            title=\"Convert this dataframe to an interactive table.\"\n",
              "            style=\"display:none;\">\n",
              "\n",
              "  <svg xmlns=\"http://www.w3.org/2000/svg\" height=\"24px\" viewBox=\"0 -960 960 960\">\n",
              "    <path d=\"M120-120v-720h720v720H120Zm60-500h600v-160H180v160Zm220 220h160v-160H400v160Zm0 220h160v-160H400v160ZM180-400h160v-160H180v160Zm440 0h160v-160H620v160ZM180-180h160v-160H180v160Zm440 0h160v-160H620v160Z\"/>\n",
              "  </svg>\n",
              "    </button>\n",
              "\n",
              "  <style>\n",
              "    .colab-df-container {\n",
              "      display:flex;\n",
              "      gap: 12px;\n",
              "    }\n",
              "\n",
              "    .colab-df-convert {\n",
              "      background-color: #E8F0FE;\n",
              "      border: none;\n",
              "      border-radius: 50%;\n",
              "      cursor: pointer;\n",
              "      display: none;\n",
              "      fill: #1967D2;\n",
              "      height: 32px;\n",
              "      padding: 0 0 0 0;\n",
              "      width: 32px;\n",
              "    }\n",
              "\n",
              "    .colab-df-convert:hover {\n",
              "      background-color: #E2EBFA;\n",
              "      box-shadow: 0px 1px 2px rgba(60, 64, 67, 0.3), 0px 1px 3px 1px rgba(60, 64, 67, 0.15);\n",
              "      fill: #174EA6;\n",
              "    }\n",
              "\n",
              "    .colab-df-buttons div {\n",
              "      margin-bottom: 4px;\n",
              "    }\n",
              "\n",
              "    [theme=dark] .colab-df-convert {\n",
              "      background-color: #3B4455;\n",
              "      fill: #D2E3FC;\n",
              "    }\n",
              "\n",
              "    [theme=dark] .colab-df-convert:hover {\n",
              "      background-color: #434B5C;\n",
              "      box-shadow: 0px 1px 3px 1px rgba(0, 0, 0, 0.15);\n",
              "      filter: drop-shadow(0px 1px 2px rgba(0, 0, 0, 0.3));\n",
              "      fill: #FFFFFF;\n",
              "    }\n",
              "  </style>\n",
              "\n",
              "    <script>\n",
              "      const buttonEl =\n",
              "        document.querySelector('#df-7b34f4ce-8c95-4d33-a855-e7619684bd49 button.colab-df-convert');\n",
              "      buttonEl.style.display =\n",
              "        google.colab.kernel.accessAllowed ? 'block' : 'none';\n",
              "\n",
              "      async function convertToInteractive(key) {\n",
              "        const element = document.querySelector('#df-7b34f4ce-8c95-4d33-a855-e7619684bd49');\n",
              "        const dataTable =\n",
              "          await google.colab.kernel.invokeFunction('convertToInteractive',\n",
              "                                                    [key], {});\n",
              "        if (!dataTable) return;\n",
              "\n",
              "        const docLinkHtml = 'Like what you see? Visit the ' +\n",
              "          '<a target=\"_blank\" href=https://colab.research.google.com/notebooks/data_table.ipynb>data table notebook</a>'\n",
              "          + ' to learn more about interactive tables.';\n",
              "        element.innerHTML = '';\n",
              "        dataTable['output_type'] = 'display_data';\n",
              "        await google.colab.output.renderOutput(dataTable, element);\n",
              "        const docLink = document.createElement('div');\n",
              "        docLink.innerHTML = docLinkHtml;\n",
              "        element.appendChild(docLink);\n",
              "      }\n",
              "    </script>\n",
              "  </div>\n",
              "\n",
              "\n",
              "<div id=\"df-625cac95-522f-4f19-8c57-56fdebd9a243\">\n",
              "  <button class=\"colab-df-quickchart\" onclick=\"quickchart('df-625cac95-522f-4f19-8c57-56fdebd9a243')\"\n",
              "            title=\"Suggest charts\"\n",
              "            style=\"display:none;\">\n",
              "\n",
              "<svg xmlns=\"http://www.w3.org/2000/svg\" height=\"24px\"viewBox=\"0 0 24 24\"\n",
              "     width=\"24px\">\n",
              "    <g>\n",
              "        <path d=\"M19 3H5c-1.1 0-2 .9-2 2v14c0 1.1.9 2 2 2h14c1.1 0 2-.9 2-2V5c0-1.1-.9-2-2-2zM9 17H7v-7h2v7zm4 0h-2V7h2v10zm4 0h-2v-4h2v4z\"/>\n",
              "    </g>\n",
              "</svg>\n",
              "  </button>\n",
              "\n",
              "<style>\n",
              "  .colab-df-quickchart {\n",
              "      --bg-color: #E8F0FE;\n",
              "      --fill-color: #1967D2;\n",
              "      --hover-bg-color: #E2EBFA;\n",
              "      --hover-fill-color: #174EA6;\n",
              "      --disabled-fill-color: #AAA;\n",
              "      --disabled-bg-color: #DDD;\n",
              "  }\n",
              "\n",
              "  [theme=dark] .colab-df-quickchart {\n",
              "      --bg-color: #3B4455;\n",
              "      --fill-color: #D2E3FC;\n",
              "      --hover-bg-color: #434B5C;\n",
              "      --hover-fill-color: #FFFFFF;\n",
              "      --disabled-bg-color: #3B4455;\n",
              "      --disabled-fill-color: #666;\n",
              "  }\n",
              "\n",
              "  .colab-df-quickchart {\n",
              "    background-color: var(--bg-color);\n",
              "    border: none;\n",
              "    border-radius: 50%;\n",
              "    cursor: pointer;\n",
              "    display: none;\n",
              "    fill: var(--fill-color);\n",
              "    height: 32px;\n",
              "    padding: 0;\n",
              "    width: 32px;\n",
              "  }\n",
              "\n",
              "  .colab-df-quickchart:hover {\n",
              "    background-color: var(--hover-bg-color);\n",
              "    box-shadow: 0 1px 2px rgba(60, 64, 67, 0.3), 0 1px 3px 1px rgba(60, 64, 67, 0.15);\n",
              "    fill: var(--button-hover-fill-color);\n",
              "  }\n",
              "\n",
              "  .colab-df-quickchart-complete:disabled,\n",
              "  .colab-df-quickchart-complete:disabled:hover {\n",
              "    background-color: var(--disabled-bg-color);\n",
              "    fill: var(--disabled-fill-color);\n",
              "    box-shadow: none;\n",
              "  }\n",
              "\n",
              "  .colab-df-spinner {\n",
              "    border: 2px solid var(--fill-color);\n",
              "    border-color: transparent;\n",
              "    border-bottom-color: var(--fill-color);\n",
              "    animation:\n",
              "      spin 1s steps(1) infinite;\n",
              "  }\n",
              "\n",
              "  @keyframes spin {\n",
              "    0% {\n",
              "      border-color: transparent;\n",
              "      border-bottom-color: var(--fill-color);\n",
              "      border-left-color: var(--fill-color);\n",
              "    }\n",
              "    20% {\n",
              "      border-color: transparent;\n",
              "      border-left-color: var(--fill-color);\n",
              "      border-top-color: var(--fill-color);\n",
              "    }\n",
              "    30% {\n",
              "      border-color: transparent;\n",
              "      border-left-color: var(--fill-color);\n",
              "      border-top-color: var(--fill-color);\n",
              "      border-right-color: var(--fill-color);\n",
              "    }\n",
              "    40% {\n",
              "      border-color: transparent;\n",
              "      border-right-color: var(--fill-color);\n",
              "      border-top-color: var(--fill-color);\n",
              "    }\n",
              "    60% {\n",
              "      border-color: transparent;\n",
              "      border-right-color: var(--fill-color);\n",
              "    }\n",
              "    80% {\n",
              "      border-color: transparent;\n",
              "      border-right-color: var(--fill-color);\n",
              "      border-bottom-color: var(--fill-color);\n",
              "    }\n",
              "    90% {\n",
              "      border-color: transparent;\n",
              "      border-bottom-color: var(--fill-color);\n",
              "    }\n",
              "  }\n",
              "</style>\n",
              "\n",
              "  <script>\n",
              "    async function quickchart(key) {\n",
              "      const quickchartButtonEl =\n",
              "        document.querySelector('#' + key + ' button');\n",
              "      quickchartButtonEl.disabled = true;  // To prevent multiple clicks.\n",
              "      quickchartButtonEl.classList.add('colab-df-spinner');\n",
              "      try {\n",
              "        const charts = await google.colab.kernel.invokeFunction(\n",
              "            'suggestCharts', [key], {});\n",
              "      } catch (error) {\n",
              "        console.error('Error during call to suggestCharts:', error);\n",
              "      }\n",
              "      quickchartButtonEl.classList.remove('colab-df-spinner');\n",
              "      quickchartButtonEl.classList.add('colab-df-quickchart-complete');\n",
              "    }\n",
              "    (() => {\n",
              "      let quickchartButtonEl =\n",
              "        document.querySelector('#df-625cac95-522f-4f19-8c57-56fdebd9a243 button');\n",
              "      quickchartButtonEl.style.display =\n",
              "        google.colab.kernel.accessAllowed ? 'block' : 'none';\n",
              "    })();\n",
              "  </script>\n",
              "</div>\n",
              "\n",
              "    </div>\n",
              "  </div>\n"
            ],
            "application/vnd.google.colaboratory.intrinsic+json": {
              "type": "dataframe",
              "variable_name": "df_scaled",
              "summary": "{\n  \"name\": \"df_scaled\",\n  \"rows\": 3390,\n  \"fields\": [\n    {\n      \"column\": 0,\n      \"properties\": {\n        \"dtype\": \"number\",\n        \"std\": 0.42230977412596166,\n        \"min\": 0.0,\n        \"max\": 1.0,\n        \"num_unique_values\": 3,\n        \"samples\": [\n          1.0,\n          0.0,\n          0.5\n        ],\n        \"semantic_type\": \"\",\n        \"description\": \"\"\n      }\n    },\n    {\n      \"column\": 1,\n      \"properties\": {\n        \"dtype\": \"number\",\n        \"std\": 0.3005308142604011,\n        \"min\": 0.0,\n        \"max\": 1.0,\n        \"num_unique_values\": 14,\n        \"samples\": [\n          0.5384615384615385,\n          0.07692307692307693,\n          0.3076923076923077\n        ],\n        \"semantic_type\": \"\",\n        \"description\": \"\"\n      }\n    },\n    {\n      \"column\": 2,\n      \"properties\": {\n        \"dtype\": \"number\",\n        \"std\": 0.04950098944825337,\n        \"min\": 0.0,\n        \"max\": 1.0,\n        \"num_unique_values\": 3109,\n        \"samples\": [\n          0.12876435986245452,\n          0.09960202577855579,\n          0.024453221820756998\n        ],\n        \"semantic_type\": \"\",\n        \"description\": \"\"\n      }\n    },\n    {\n      \"column\": 3,\n      \"properties\": {\n        \"dtype\": \"number\",\n        \"std\": 0.28653463422373304,\n        \"min\": 0.0,\n        \"max\": 1.0,\n        \"num_unique_values\": 709,\n        \"samples\": [\n          0.09887005649717515,\n          0.6186440677966102,\n          0.8629943502824858\n        ],\n        \"semantic_type\": \"\",\n        \"description\": \"\"\n      }\n    },\n    {\n      \"column\": 4,\n      \"properties\": {\n        \"dtype\": \"number\",\n        \"std\": 0.2797722802200427,\n        \"min\": 0.0,\n        \"max\": 1.0,\n        \"num_unique_values\": 49,\n        \"samples\": [\n          0.020833333333333332,\n          0.125,\n          0.0625\n        ],\n        \"semantic_type\": \"\",\n        \"description\": \"\"\n      }\n    },\n    {\n      \"column\": 5,\n      \"properties\": {\n        \"dtype\": \"number\",\n        \"std\": 0.1157278597199582,\n        \"min\": 0.0,\n        \"max\": 1.0,\n        \"num_unique_values\": 749,\n        \"samples\": [\n          0.40600007007892647,\n          0.2805040426780663,\n          0.4286268034373715\n        ],\n        \"semantic_type\": \"\",\n        \"description\": \"\"\n      }\n    },\n    {\n      \"column\": 6,\n      \"properties\": {\n        \"dtype\": \"number\",\n        \"std\": 0.14821273045369993,\n        \"min\": 0.0,\n        \"max\": 1.0,\n        \"num_unique_values\": 748,\n        \"samples\": [\n          0.796635353349297,\n          0.6604070731258058,\n          0.6208213094287878\n        ],\n        \"semantic_type\": \"\",\n        \"description\": \"\"\n      }\n    },\n    {\n      \"column\": 7,\n      \"properties\": {\n        \"dtype\": \"number\",\n        \"std\": 0.0959964534515862,\n        \"min\": 0.0,\n        \"max\": 1.0,\n        \"num_unique_values\": 700,\n        \"samples\": [\n          0.0011989636275375627,\n          0.04415041643773973,\n          0.00017064159519616386\n        ],\n        \"semantic_type\": \"\",\n        \"description\": \"\"\n      }\n    },\n    {\n      \"column\": 8,\n      \"properties\": {\n        \"dtype\": \"number\",\n        \"std\": 0.2262147078314604,\n        \"min\": 0.0,\n        \"max\": 1.0,\n        \"num_unique_values\": 81,\n        \"samples\": [\n          0.271604938271605,\n          0.20987654320987653,\n          0.691358024691358\n        ],\n        \"semantic_type\": \"\",\n        \"description\": \"\"\n      }\n    },\n    {\n      \"column\": \"is_fraud\",\n      \"properties\": {\n        \"dtype\": \"number\",\n        \"std\": 0.500073762632252,\n        \"min\": 0.0,\n        \"max\": 1.0,\n        \"num_unique_values\": 2,\n        \"samples\": [\n          0.0,\n          1.0\n        ],\n        \"semantic_type\": \"\",\n        \"description\": \"\"\n      }\n    }\n  ]\n}"
            }
          },
          "metadata": {},
          "execution_count": 61
        }
      ],
      "source": [
        "df_scaled.rename(columns={last_column: 'is_fraud'}, inplace=True)\n",
        "df_scaled.head()"
      ]
    },
    {
      "cell_type": "markdown",
      "id": "ebf58a40",
      "metadata": {
        "papermill": {
          "duration": 0.024294,
          "end_time": "2024-05-22T14:17:10.271119",
          "exception": false,
          "start_time": "2024-05-22T14:17:10.246825",
          "status": "completed"
        },
        "tags": [],
        "id": "ebf58a40"
      },
      "source": [
        "# Modeling"
      ]
    },
    {
      "cell_type": "code",
      "execution_count": 62,
      "id": "8e0bab71",
      "metadata": {
        "execution": {
          "iopub.execute_input": "2024-05-22T14:17:10.322971Z",
          "iopub.status.busy": "2024-05-22T14:17:10.322528Z",
          "iopub.status.idle": "2024-05-22T14:17:10.550370Z",
          "shell.execute_reply": "2024-05-22T14:17:10.548939Z"
        },
        "papermill": {
          "duration": 0.257672,
          "end_time": "2024-05-22T14:17:10.553580",
          "exception": false,
          "start_time": "2024-05-22T14:17:10.295908",
          "status": "completed"
        },
        "tags": [],
        "id": "8e0bab71"
      },
      "outputs": [],
      "source": [
        "from sklearn.linear_model import LogisticRegression\n",
        "from sklearn.metrics import classification_report\n",
        "from sklearn.metrics import confusion_matrix, ConfusionMatrixDisplay\n",
        "from sklearn.model_selection import train_test_split"
      ]
    },
    {
      "cell_type": "code",
      "execution_count": 63,
      "id": "d9ffedc9",
      "metadata": {
        "execution": {
          "iopub.execute_input": "2024-05-22T14:17:10.607258Z",
          "iopub.status.busy": "2024-05-22T14:17:10.606070Z",
          "iopub.status.idle": "2024-05-22T14:17:10.613395Z",
          "shell.execute_reply": "2024-05-22T14:17:10.612313Z"
        },
        "papermill": {
          "duration": 0.036819,
          "end_time": "2024-05-22T14:17:10.615843",
          "exception": false,
          "start_time": "2024-05-22T14:17:10.579024",
          "status": "completed"
        },
        "tags": [],
        "id": "d9ffedc9"
      },
      "outputs": [],
      "source": [
        "# X = feature values, all the columns except the last column\n",
        "X = df_scaled.drop(columns = 'is_fraud')\n",
        "\n",
        "# y = target values, last column of the data frame\n",
        "y = df_scaled['is_fraud']"
      ]
    },
    {
      "cell_type": "code",
      "execution_count": 64,
      "id": "5e2e4ed9",
      "metadata": {
        "execution": {
          "iopub.execute_input": "2024-05-22T14:17:10.668627Z",
          "iopub.status.busy": "2024-05-22T14:17:10.668191Z",
          "iopub.status.idle": "2024-05-22T14:17:10.678477Z",
          "shell.execute_reply": "2024-05-22T14:17:10.677345Z"
        },
        "papermill": {
          "duration": 0.039968,
          "end_time": "2024-05-22T14:17:10.681119",
          "exception": false,
          "start_time": "2024-05-22T14:17:10.641151",
          "status": "completed"
        },
        "tags": [],
        "id": "5e2e4ed9"
      },
      "outputs": [],
      "source": [
        "# Spliting train and test - hold out\n",
        "x_train, x_test, y_train, y_test = train_test_split(X, y, test_size=0.2, random_state=42)"
      ]
    },
    {
      "cell_type": "markdown",
      "id": "d318c3a4",
      "metadata": {
        "papermill": {
          "duration": 0.02439,
          "end_time": "2024-05-22T14:17:10.730888",
          "exception": false,
          "start_time": "2024-05-22T14:17:10.706498",
          "status": "completed"
        },
        "tags": [],
        "id": "d318c3a4"
      },
      "source": [
        "# Logistic Regression model"
      ]
    },
    {
      "cell_type": "code",
      "execution_count": 65,
      "id": "b071e21b",
      "metadata": {
        "execution": {
          "iopub.execute_input": "2024-05-22T14:17:10.783380Z",
          "iopub.status.busy": "2024-05-22T14:17:10.782151Z",
          "iopub.status.idle": "2024-05-22T14:17:10.873688Z",
          "shell.execute_reply": "2024-05-22T14:17:10.872375Z"
        },
        "papermill": {
          "duration": 0.121387,
          "end_time": "2024-05-22T14:17:10.877173",
          "exception": false,
          "start_time": "2024-05-22T14:17:10.755786",
          "status": "completed"
        },
        "tags": [],
        "colab": {
          "base_uri": "https://localhost:8080/",
          "height": 74
        },
        "id": "b071e21b",
        "outputId": "0d5084e0-e1c8-46d1-9f5b-9ac81ef4e1e2"
      },
      "outputs": [
        {
          "output_type": "execute_result",
          "data": {
            "text/plain": [
              "LogisticRegression()"
            ],
            "text/html": [
              "<style>#sk-container-id-1 {color: black;background-color: white;}#sk-container-id-1 pre{padding: 0;}#sk-container-id-1 div.sk-toggleable {background-color: white;}#sk-container-id-1 label.sk-toggleable__label {cursor: pointer;display: block;width: 100%;margin-bottom: 0;padding: 0.3em;box-sizing: border-box;text-align: center;}#sk-container-id-1 label.sk-toggleable__label-arrow:before {content: \"▸\";float: left;margin-right: 0.25em;color: #696969;}#sk-container-id-1 label.sk-toggleable__label-arrow:hover:before {color: black;}#sk-container-id-1 div.sk-estimator:hover label.sk-toggleable__label-arrow:before {color: black;}#sk-container-id-1 div.sk-toggleable__content {max-height: 0;max-width: 0;overflow: hidden;text-align: left;background-color: #f0f8ff;}#sk-container-id-1 div.sk-toggleable__content pre {margin: 0.2em;color: black;border-radius: 0.25em;background-color: #f0f8ff;}#sk-container-id-1 input.sk-toggleable__control:checked~div.sk-toggleable__content {max-height: 200px;max-width: 100%;overflow: auto;}#sk-container-id-1 input.sk-toggleable__control:checked~label.sk-toggleable__label-arrow:before {content: \"▾\";}#sk-container-id-1 div.sk-estimator input.sk-toggleable__control:checked~label.sk-toggleable__label {background-color: #d4ebff;}#sk-container-id-1 div.sk-label input.sk-toggleable__control:checked~label.sk-toggleable__label {background-color: #d4ebff;}#sk-container-id-1 input.sk-hidden--visually {border: 0;clip: rect(1px 1px 1px 1px);clip: rect(1px, 1px, 1px, 1px);height: 1px;margin: -1px;overflow: hidden;padding: 0;position: absolute;width: 1px;}#sk-container-id-1 div.sk-estimator {font-family: monospace;background-color: #f0f8ff;border: 1px dotted black;border-radius: 0.25em;box-sizing: border-box;margin-bottom: 0.5em;}#sk-container-id-1 div.sk-estimator:hover {background-color: #d4ebff;}#sk-container-id-1 div.sk-parallel-item::after {content: \"\";width: 100%;border-bottom: 1px solid gray;flex-grow: 1;}#sk-container-id-1 div.sk-label:hover label.sk-toggleable__label {background-color: #d4ebff;}#sk-container-id-1 div.sk-serial::before {content: \"\";position: absolute;border-left: 1px solid gray;box-sizing: border-box;top: 0;bottom: 0;left: 50%;z-index: 0;}#sk-container-id-1 div.sk-serial {display: flex;flex-direction: column;align-items: center;background-color: white;padding-right: 0.2em;padding-left: 0.2em;position: relative;}#sk-container-id-1 div.sk-item {position: relative;z-index: 1;}#sk-container-id-1 div.sk-parallel {display: flex;align-items: stretch;justify-content: center;background-color: white;position: relative;}#sk-container-id-1 div.sk-item::before, #sk-container-id-1 div.sk-parallel-item::before {content: \"\";position: absolute;border-left: 1px solid gray;box-sizing: border-box;top: 0;bottom: 0;left: 50%;z-index: -1;}#sk-container-id-1 div.sk-parallel-item {display: flex;flex-direction: column;z-index: 1;position: relative;background-color: white;}#sk-container-id-1 div.sk-parallel-item:first-child::after {align-self: flex-end;width: 50%;}#sk-container-id-1 div.sk-parallel-item:last-child::after {align-self: flex-start;width: 50%;}#sk-container-id-1 div.sk-parallel-item:only-child::after {width: 0;}#sk-container-id-1 div.sk-dashed-wrapped {border: 1px dashed gray;margin: 0 0.4em 0.5em 0.4em;box-sizing: border-box;padding-bottom: 0.4em;background-color: white;}#sk-container-id-1 div.sk-label label {font-family: monospace;font-weight: bold;display: inline-block;line-height: 1.2em;}#sk-container-id-1 div.sk-label-container {text-align: center;}#sk-container-id-1 div.sk-container {/* jupyter's `normalize.less` sets `[hidden] { display: none; }` but bootstrap.min.css set `[hidden] { display: none !important; }` so we also need the `!important` here to be able to override the default hidden behavior on the sphinx rendered scikit-learn.org. See: https://github.com/scikit-learn/scikit-learn/issues/21755 */display: inline-block !important;position: relative;}#sk-container-id-1 div.sk-text-repr-fallback {display: none;}</style><div id=\"sk-container-id-1\" class=\"sk-top-container\"><div class=\"sk-text-repr-fallback\"><pre>LogisticRegression()</pre><b>In a Jupyter environment, please rerun this cell to show the HTML representation or trust the notebook. <br />On GitHub, the HTML representation is unable to render, please try loading this page with nbviewer.org.</b></div><div class=\"sk-container\" hidden><div class=\"sk-item\"><div class=\"sk-estimator sk-toggleable\"><input class=\"sk-toggleable__control sk-hidden--visually\" id=\"sk-estimator-id-1\" type=\"checkbox\" checked><label for=\"sk-estimator-id-1\" class=\"sk-toggleable__label sk-toggleable__label-arrow\">LogisticRegression</label><div class=\"sk-toggleable__content\"><pre>LogisticRegression()</pre></div></div></div></div></div>"
            ]
          },
          "metadata": {},
          "execution_count": 65
        }
      ],
      "source": [
        "# Training\n",
        "model = LogisticRegression()\n",
        "model.fit(x_train, y_train)"
      ]
    },
    {
      "cell_type": "code",
      "execution_count": 66,
      "id": "5e7a5c6b",
      "metadata": {
        "execution": {
          "iopub.execute_input": "2024-05-22T14:17:10.967616Z",
          "iopub.status.busy": "2024-05-22T14:17:10.966999Z",
          "iopub.status.idle": "2024-05-22T14:17:10.975190Z",
          "shell.execute_reply": "2024-05-22T14:17:10.973940Z"
        },
        "papermill": {
          "duration": 0.058044,
          "end_time": "2024-05-22T14:17:10.977988",
          "exception": false,
          "start_time": "2024-05-22T14:17:10.919944",
          "status": "completed"
        },
        "tags": [],
        "id": "5e7a5c6b"
      },
      "outputs": [],
      "source": [
        "# Now let's define a function to get the predictions and set the threshold\n",
        "\n",
        "def predict(model, test_set, threshold):\n",
        "    predictions = model.predict(test_set)\n",
        "    pred_threshold = model.predict_proba(test_set)\n",
        "    test_set[\"prediction\"] = predictions\n",
        "    test_set[\"pred_threshold\"] = (pred_threshold >= threshold)[:, 1].astype(float)\n",
        "    return test_set"
      ]
    },
    {
      "cell_type": "code",
      "execution_count": 67,
      "id": "e2abbcd5",
      "metadata": {
        "execution": {
          "iopub.execute_input": "2024-05-22T14:17:11.035151Z",
          "iopub.status.busy": "2024-05-22T14:17:11.034667Z",
          "iopub.status.idle": "2024-05-22T14:17:11.071852Z",
          "shell.execute_reply": "2024-05-22T14:17:11.070573Z"
        },
        "papermill": {
          "duration": 0.068241,
          "end_time": "2024-05-22T14:17:11.075113",
          "exception": false,
          "start_time": "2024-05-22T14:17:11.006872",
          "status": "completed"
        },
        "tags": [],
        "colab": {
          "base_uri": "https://localhost:8080/",
          "height": 443
        },
        "id": "e2abbcd5",
        "outputId": "ddd814d7-3c97-411c-dbb0-246f833c8549"
      },
      "outputs": [
        {
          "output_type": "execute_result",
          "data": {
            "text/plain": [
              "        0         1         2         3         4         5         6  \\\n",
              "134   1.0  0.846154  0.096712  0.176554  0.770833  0.470698  0.876108   \n",
              "1764  0.5  0.153846  0.007713  0.538136  0.770833  0.444756  0.880166   \n",
              "2465  0.0  0.461538  0.006381  0.933616  0.708333  0.465079  0.868340   \n",
              "1987  0.0  0.384615  0.009305  0.816384  0.770833  0.444160  0.914594   \n",
              "1295  1.0  0.692308  0.000888  0.354520  0.541667  0.331922  0.861803   \n",
              "...   ...       ...       ...       ...       ...       ...       ...   \n",
              "1052  1.0  0.307692  0.043106  0.112994  0.687500  0.485445  0.910094   \n",
              "759   1.0  0.153846  0.001086  0.008475  0.645833  0.329130  0.604999   \n",
              "2069  0.0  0.538462  0.020042  0.751412  0.458333  0.625805  0.740617   \n",
              "3166  1.0  0.153846  0.006138  0.015537  0.687500  0.482813  0.896552   \n",
              "857   1.0  0.846154  0.140351  0.004237  0.458333  0.544042  0.745471   \n",
              "\n",
              "             7         8  prediction  pred_threshold  \n",
              "134   0.001887  0.395062         1.0             1.0  \n",
              "1764  0.000499  0.790123         0.0             0.0  \n",
              "2465  0.026105  0.592593         0.0             0.0  \n",
              "1987  0.000275  0.283951         0.0             0.0  \n",
              "1295  0.001926  0.395062         1.0             1.0  \n",
              "...        ...       ...         ...             ...  \n",
              "1052  0.000171  0.172840         1.0             1.0  \n",
              "759   0.220639  0.469136         1.0             1.0  \n",
              "2069  0.000039  0.061728         0.0             0.0  \n",
              "3166  0.000074  0.604938         1.0             1.0  \n",
              "857   0.000995  0.864198         1.0             1.0  \n",
              "\n",
              "[678 rows x 11 columns]"
            ],
            "text/html": [
              "\n",
              "  <div id=\"df-285fb8a2-ef1b-4bd7-855a-ef195d94b069\" class=\"colab-df-container\">\n",
              "    <div>\n",
              "<style scoped>\n",
              "    .dataframe tbody tr th:only-of-type {\n",
              "        vertical-align: middle;\n",
              "    }\n",
              "\n",
              "    .dataframe tbody tr th {\n",
              "        vertical-align: top;\n",
              "    }\n",
              "\n",
              "    .dataframe thead th {\n",
              "        text-align: right;\n",
              "    }\n",
              "</style>\n",
              "<table border=\"1\" class=\"dataframe\">\n",
              "  <thead>\n",
              "    <tr style=\"text-align: right;\">\n",
              "      <th></th>\n",
              "      <th>0</th>\n",
              "      <th>1</th>\n",
              "      <th>2</th>\n",
              "      <th>3</th>\n",
              "      <th>4</th>\n",
              "      <th>5</th>\n",
              "      <th>6</th>\n",
              "      <th>7</th>\n",
              "      <th>8</th>\n",
              "      <th>prediction</th>\n",
              "      <th>pred_threshold</th>\n",
              "    </tr>\n",
              "  </thead>\n",
              "  <tbody>\n",
              "    <tr>\n",
              "      <th>134</th>\n",
              "      <td>1.0</td>\n",
              "      <td>0.846154</td>\n",
              "      <td>0.096712</td>\n",
              "      <td>0.176554</td>\n",
              "      <td>0.770833</td>\n",
              "      <td>0.470698</td>\n",
              "      <td>0.876108</td>\n",
              "      <td>0.001887</td>\n",
              "      <td>0.395062</td>\n",
              "      <td>1.0</td>\n",
              "      <td>1.0</td>\n",
              "    </tr>\n",
              "    <tr>\n",
              "      <th>1764</th>\n",
              "      <td>0.5</td>\n",
              "      <td>0.153846</td>\n",
              "      <td>0.007713</td>\n",
              "      <td>0.538136</td>\n",
              "      <td>0.770833</td>\n",
              "      <td>0.444756</td>\n",
              "      <td>0.880166</td>\n",
              "      <td>0.000499</td>\n",
              "      <td>0.790123</td>\n",
              "      <td>0.0</td>\n",
              "      <td>0.0</td>\n",
              "    </tr>\n",
              "    <tr>\n",
              "      <th>2465</th>\n",
              "      <td>0.0</td>\n",
              "      <td>0.461538</td>\n",
              "      <td>0.006381</td>\n",
              "      <td>0.933616</td>\n",
              "      <td>0.708333</td>\n",
              "      <td>0.465079</td>\n",
              "      <td>0.868340</td>\n",
              "      <td>0.026105</td>\n",
              "      <td>0.592593</td>\n",
              "      <td>0.0</td>\n",
              "      <td>0.0</td>\n",
              "    </tr>\n",
              "    <tr>\n",
              "      <th>1987</th>\n",
              "      <td>0.0</td>\n",
              "      <td>0.384615</td>\n",
              "      <td>0.009305</td>\n",
              "      <td>0.816384</td>\n",
              "      <td>0.770833</td>\n",
              "      <td>0.444160</td>\n",
              "      <td>0.914594</td>\n",
              "      <td>0.000275</td>\n",
              "      <td>0.283951</td>\n",
              "      <td>0.0</td>\n",
              "      <td>0.0</td>\n",
              "    </tr>\n",
              "    <tr>\n",
              "      <th>1295</th>\n",
              "      <td>1.0</td>\n",
              "      <td>0.692308</td>\n",
              "      <td>0.000888</td>\n",
              "      <td>0.354520</td>\n",
              "      <td>0.541667</td>\n",
              "      <td>0.331922</td>\n",
              "      <td>0.861803</td>\n",
              "      <td>0.001926</td>\n",
              "      <td>0.395062</td>\n",
              "      <td>1.0</td>\n",
              "      <td>1.0</td>\n",
              "    </tr>\n",
              "    <tr>\n",
              "      <th>...</th>\n",
              "      <td>...</td>\n",
              "      <td>...</td>\n",
              "      <td>...</td>\n",
              "      <td>...</td>\n",
              "      <td>...</td>\n",
              "      <td>...</td>\n",
              "      <td>...</td>\n",
              "      <td>...</td>\n",
              "      <td>...</td>\n",
              "      <td>...</td>\n",
              "      <td>...</td>\n",
              "    </tr>\n",
              "    <tr>\n",
              "      <th>1052</th>\n",
              "      <td>1.0</td>\n",
              "      <td>0.307692</td>\n",
              "      <td>0.043106</td>\n",
              "      <td>0.112994</td>\n",
              "      <td>0.687500</td>\n",
              "      <td>0.485445</td>\n",
              "      <td>0.910094</td>\n",
              "      <td>0.000171</td>\n",
              "      <td>0.172840</td>\n",
              "      <td>1.0</td>\n",
              "      <td>1.0</td>\n",
              "    </tr>\n",
              "    <tr>\n",
              "      <th>759</th>\n",
              "      <td>1.0</td>\n",
              "      <td>0.153846</td>\n",
              "      <td>0.001086</td>\n",
              "      <td>0.008475</td>\n",
              "      <td>0.645833</td>\n",
              "      <td>0.329130</td>\n",
              "      <td>0.604999</td>\n",
              "      <td>0.220639</td>\n",
              "      <td>0.469136</td>\n",
              "      <td>1.0</td>\n",
              "      <td>1.0</td>\n",
              "    </tr>\n",
              "    <tr>\n",
              "      <th>2069</th>\n",
              "      <td>0.0</td>\n",
              "      <td>0.538462</td>\n",
              "      <td>0.020042</td>\n",
              "      <td>0.751412</td>\n",
              "      <td>0.458333</td>\n",
              "      <td>0.625805</td>\n",
              "      <td>0.740617</td>\n",
              "      <td>0.000039</td>\n",
              "      <td>0.061728</td>\n",
              "      <td>0.0</td>\n",
              "      <td>0.0</td>\n",
              "    </tr>\n",
              "    <tr>\n",
              "      <th>3166</th>\n",
              "      <td>1.0</td>\n",
              "      <td>0.153846</td>\n",
              "      <td>0.006138</td>\n",
              "      <td>0.015537</td>\n",
              "      <td>0.687500</td>\n",
              "      <td>0.482813</td>\n",
              "      <td>0.896552</td>\n",
              "      <td>0.000074</td>\n",
              "      <td>0.604938</td>\n",
              "      <td>1.0</td>\n",
              "      <td>1.0</td>\n",
              "    </tr>\n",
              "    <tr>\n",
              "      <th>857</th>\n",
              "      <td>1.0</td>\n",
              "      <td>0.846154</td>\n",
              "      <td>0.140351</td>\n",
              "      <td>0.004237</td>\n",
              "      <td>0.458333</td>\n",
              "      <td>0.544042</td>\n",
              "      <td>0.745471</td>\n",
              "      <td>0.000995</td>\n",
              "      <td>0.864198</td>\n",
              "      <td>1.0</td>\n",
              "      <td>1.0</td>\n",
              "    </tr>\n",
              "  </tbody>\n",
              "</table>\n",
              "<p>678 rows × 11 columns</p>\n",
              "</div>\n",
              "    <div class=\"colab-df-buttons\">\n",
              "\n",
              "  <div class=\"colab-df-container\">\n",
              "    <button class=\"colab-df-convert\" onclick=\"convertToInteractive('df-285fb8a2-ef1b-4bd7-855a-ef195d94b069')\"\n",
              "            title=\"Convert this dataframe to an interactive table.\"\n",
              "            style=\"display:none;\">\n",
              "\n",
              "  <svg xmlns=\"http://www.w3.org/2000/svg\" height=\"24px\" viewBox=\"0 -960 960 960\">\n",
              "    <path d=\"M120-120v-720h720v720H120Zm60-500h600v-160H180v160Zm220 220h160v-160H400v160Zm0 220h160v-160H400v160ZM180-400h160v-160H180v160Zm440 0h160v-160H620v160ZM180-180h160v-160H180v160Zm440 0h160v-160H620v160Z\"/>\n",
              "  </svg>\n",
              "    </button>\n",
              "\n",
              "  <style>\n",
              "    .colab-df-container {\n",
              "      display:flex;\n",
              "      gap: 12px;\n",
              "    }\n",
              "\n",
              "    .colab-df-convert {\n",
              "      background-color: #E8F0FE;\n",
              "      border: none;\n",
              "      border-radius: 50%;\n",
              "      cursor: pointer;\n",
              "      display: none;\n",
              "      fill: #1967D2;\n",
              "      height: 32px;\n",
              "      padding: 0 0 0 0;\n",
              "      width: 32px;\n",
              "    }\n",
              "\n",
              "    .colab-df-convert:hover {\n",
              "      background-color: #E2EBFA;\n",
              "      box-shadow: 0px 1px 2px rgba(60, 64, 67, 0.3), 0px 1px 3px 1px rgba(60, 64, 67, 0.15);\n",
              "      fill: #174EA6;\n",
              "    }\n",
              "\n",
              "    .colab-df-buttons div {\n",
              "      margin-bottom: 4px;\n",
              "    }\n",
              "\n",
              "    [theme=dark] .colab-df-convert {\n",
              "      background-color: #3B4455;\n",
              "      fill: #D2E3FC;\n",
              "    }\n",
              "\n",
              "    [theme=dark] .colab-df-convert:hover {\n",
              "      background-color: #434B5C;\n",
              "      box-shadow: 0px 1px 3px 1px rgba(0, 0, 0, 0.15);\n",
              "      filter: drop-shadow(0px 1px 2px rgba(0, 0, 0, 0.3));\n",
              "      fill: #FFFFFF;\n",
              "    }\n",
              "  </style>\n",
              "\n",
              "    <script>\n",
              "      const buttonEl =\n",
              "        document.querySelector('#df-285fb8a2-ef1b-4bd7-855a-ef195d94b069 button.colab-df-convert');\n",
              "      buttonEl.style.display =\n",
              "        google.colab.kernel.accessAllowed ? 'block' : 'none';\n",
              "\n",
              "      async function convertToInteractive(key) {\n",
              "        const element = document.querySelector('#df-285fb8a2-ef1b-4bd7-855a-ef195d94b069');\n",
              "        const dataTable =\n",
              "          await google.colab.kernel.invokeFunction('convertToInteractive',\n",
              "                                                    [key], {});\n",
              "        if (!dataTable) return;\n",
              "\n",
              "        const docLinkHtml = 'Like what you see? Visit the ' +\n",
              "          '<a target=\"_blank\" href=https://colab.research.google.com/notebooks/data_table.ipynb>data table notebook</a>'\n",
              "          + ' to learn more about interactive tables.';\n",
              "        element.innerHTML = '';\n",
              "        dataTable['output_type'] = 'display_data';\n",
              "        await google.colab.output.renderOutput(dataTable, element);\n",
              "        const docLink = document.createElement('div');\n",
              "        docLink.innerHTML = docLinkHtml;\n",
              "        element.appendChild(docLink);\n",
              "      }\n",
              "    </script>\n",
              "  </div>\n",
              "\n",
              "\n",
              "<div id=\"df-2d8414a3-b7c5-47f5-832b-f6ed8434b970\">\n",
              "  <button class=\"colab-df-quickchart\" onclick=\"quickchart('df-2d8414a3-b7c5-47f5-832b-f6ed8434b970')\"\n",
              "            title=\"Suggest charts\"\n",
              "            style=\"display:none;\">\n",
              "\n",
              "<svg xmlns=\"http://www.w3.org/2000/svg\" height=\"24px\"viewBox=\"0 0 24 24\"\n",
              "     width=\"24px\">\n",
              "    <g>\n",
              "        <path d=\"M19 3H5c-1.1 0-2 .9-2 2v14c0 1.1.9 2 2 2h14c1.1 0 2-.9 2-2V5c0-1.1-.9-2-2-2zM9 17H7v-7h2v7zm4 0h-2V7h2v10zm4 0h-2v-4h2v4z\"/>\n",
              "    </g>\n",
              "</svg>\n",
              "  </button>\n",
              "\n",
              "<style>\n",
              "  .colab-df-quickchart {\n",
              "      --bg-color: #E8F0FE;\n",
              "      --fill-color: #1967D2;\n",
              "      --hover-bg-color: #E2EBFA;\n",
              "      --hover-fill-color: #174EA6;\n",
              "      --disabled-fill-color: #AAA;\n",
              "      --disabled-bg-color: #DDD;\n",
              "  }\n",
              "\n",
              "  [theme=dark] .colab-df-quickchart {\n",
              "      --bg-color: #3B4455;\n",
              "      --fill-color: #D2E3FC;\n",
              "      --hover-bg-color: #434B5C;\n",
              "      --hover-fill-color: #FFFFFF;\n",
              "      --disabled-bg-color: #3B4455;\n",
              "      --disabled-fill-color: #666;\n",
              "  }\n",
              "\n",
              "  .colab-df-quickchart {\n",
              "    background-color: var(--bg-color);\n",
              "    border: none;\n",
              "    border-radius: 50%;\n",
              "    cursor: pointer;\n",
              "    display: none;\n",
              "    fill: var(--fill-color);\n",
              "    height: 32px;\n",
              "    padding: 0;\n",
              "    width: 32px;\n",
              "  }\n",
              "\n",
              "  .colab-df-quickchart:hover {\n",
              "    background-color: var(--hover-bg-color);\n",
              "    box-shadow: 0 1px 2px rgba(60, 64, 67, 0.3), 0 1px 3px 1px rgba(60, 64, 67, 0.15);\n",
              "    fill: var(--button-hover-fill-color);\n",
              "  }\n",
              "\n",
              "  .colab-df-quickchart-complete:disabled,\n",
              "  .colab-df-quickchart-complete:disabled:hover {\n",
              "    background-color: var(--disabled-bg-color);\n",
              "    fill: var(--disabled-fill-color);\n",
              "    box-shadow: none;\n",
              "  }\n",
              "\n",
              "  .colab-df-spinner {\n",
              "    border: 2px solid var(--fill-color);\n",
              "    border-color: transparent;\n",
              "    border-bottom-color: var(--fill-color);\n",
              "    animation:\n",
              "      spin 1s steps(1) infinite;\n",
              "  }\n",
              "\n",
              "  @keyframes spin {\n",
              "    0% {\n",
              "      border-color: transparent;\n",
              "      border-bottom-color: var(--fill-color);\n",
              "      border-left-color: var(--fill-color);\n",
              "    }\n",
              "    20% {\n",
              "      border-color: transparent;\n",
              "      border-left-color: var(--fill-color);\n",
              "      border-top-color: var(--fill-color);\n",
              "    }\n",
              "    30% {\n",
              "      border-color: transparent;\n",
              "      border-left-color: var(--fill-color);\n",
              "      border-top-color: var(--fill-color);\n",
              "      border-right-color: var(--fill-color);\n",
              "    }\n",
              "    40% {\n",
              "      border-color: transparent;\n",
              "      border-right-color: var(--fill-color);\n",
              "      border-top-color: var(--fill-color);\n",
              "    }\n",
              "    60% {\n",
              "      border-color: transparent;\n",
              "      border-right-color: var(--fill-color);\n",
              "    }\n",
              "    80% {\n",
              "      border-color: transparent;\n",
              "      border-right-color: var(--fill-color);\n",
              "      border-bottom-color: var(--fill-color);\n",
              "    }\n",
              "    90% {\n",
              "      border-color: transparent;\n",
              "      border-bottom-color: var(--fill-color);\n",
              "    }\n",
              "  }\n",
              "</style>\n",
              "\n",
              "  <script>\n",
              "    async function quickchart(key) {\n",
              "      const quickchartButtonEl =\n",
              "        document.querySelector('#' + key + ' button');\n",
              "      quickchartButtonEl.disabled = true;  // To prevent multiple clicks.\n",
              "      quickchartButtonEl.classList.add('colab-df-spinner');\n",
              "      try {\n",
              "        const charts = await google.colab.kernel.invokeFunction(\n",
              "            'suggestCharts', [key], {});\n",
              "      } catch (error) {\n",
              "        console.error('Error during call to suggestCharts:', error);\n",
              "      }\n",
              "      quickchartButtonEl.classList.remove('colab-df-spinner');\n",
              "      quickchartButtonEl.classList.add('colab-df-quickchart-complete');\n",
              "    }\n",
              "    (() => {\n",
              "      let quickchartButtonEl =\n",
              "        document.querySelector('#df-2d8414a3-b7c5-47f5-832b-f6ed8434b970 button');\n",
              "      quickchartButtonEl.style.display =\n",
              "        google.colab.kernel.accessAllowed ? 'block' : 'none';\n",
              "    })();\n",
              "  </script>\n",
              "</div>\n",
              "\n",
              "  <div id=\"id_9c45b613-2cb4-45fc-a678-d128195b06c0\">\n",
              "    <style>\n",
              "      .colab-df-generate {\n",
              "        background-color: #E8F0FE;\n",
              "        border: none;\n",
              "        border-radius: 50%;\n",
              "        cursor: pointer;\n",
              "        display: none;\n",
              "        fill: #1967D2;\n",
              "        height: 32px;\n",
              "        padding: 0 0 0 0;\n",
              "        width: 32px;\n",
              "      }\n",
              "\n",
              "      .colab-df-generate:hover {\n",
              "        background-color: #E2EBFA;\n",
              "        box-shadow: 0px 1px 2px rgba(60, 64, 67, 0.3), 0px 1px 3px 1px rgba(60, 64, 67, 0.15);\n",
              "        fill: #174EA6;\n",
              "      }\n",
              "\n",
              "      [theme=dark] .colab-df-generate {\n",
              "        background-color: #3B4455;\n",
              "        fill: #D2E3FC;\n",
              "      }\n",
              "\n",
              "      [theme=dark] .colab-df-generate:hover {\n",
              "        background-color: #434B5C;\n",
              "        box-shadow: 0px 1px 3px 1px rgba(0, 0, 0, 0.15);\n",
              "        filter: drop-shadow(0px 1px 2px rgba(0, 0, 0, 0.3));\n",
              "        fill: #FFFFFF;\n",
              "      }\n",
              "    </style>\n",
              "    <button class=\"colab-df-generate\" onclick=\"generateWithVariable('x_test')\"\n",
              "            title=\"Generate code using this dataframe.\"\n",
              "            style=\"display:none;\">\n",
              "\n",
              "  <svg xmlns=\"http://www.w3.org/2000/svg\" height=\"24px\"viewBox=\"0 0 24 24\"\n",
              "       width=\"24px\">\n",
              "    <path d=\"M7,19H8.4L18.45,9,17,7.55,7,17.6ZM5,21V16.75L18.45,3.32a2,2,0,0,1,2.83,0l1.4,1.43a1.91,1.91,0,0,1,.58,1.4,1.91,1.91,0,0,1-.58,1.4L9.25,21ZM18.45,9,17,7.55Zm-12,3A5.31,5.31,0,0,0,4.9,8.1,5.31,5.31,0,0,0,1,6.5,5.31,5.31,0,0,0,4.9,4.9,5.31,5.31,0,0,0,6.5,1,5.31,5.31,0,0,0,8.1,4.9,5.31,5.31,0,0,0,12,6.5,5.46,5.46,0,0,0,6.5,12Z\"/>\n",
              "  </svg>\n",
              "    </button>\n",
              "    <script>\n",
              "      (() => {\n",
              "      const buttonEl =\n",
              "        document.querySelector('#id_9c45b613-2cb4-45fc-a678-d128195b06c0 button.colab-df-generate');\n",
              "      buttonEl.style.display =\n",
              "        google.colab.kernel.accessAllowed ? 'block' : 'none';\n",
              "\n",
              "      buttonEl.onclick = () => {\n",
              "        google.colab.notebook.generateWithVariable('x_test');\n",
              "      }\n",
              "      })();\n",
              "    </script>\n",
              "  </div>\n",
              "\n",
              "    </div>\n",
              "  </div>\n"
            ],
            "application/vnd.google.colaboratory.intrinsic+json": {
              "type": "dataframe",
              "variable_name": "x_test",
              "summary": "{\n  \"name\": \"x_test\",\n  \"rows\": 678,\n  \"fields\": [\n    {\n      \"column\": 0,\n      \"properties\": {\n        \"dtype\": \"number\",\n        \"std\": 0.4204286106368693,\n        \"min\": 0.0,\n        \"max\": 1.0,\n        \"num_unique_values\": 3,\n        \"samples\": [\n          1.0,\n          0.5,\n          0.0\n        ],\n        \"semantic_type\": \"\",\n        \"description\": \"\"\n      }\n    },\n    {\n      \"column\": 1,\n      \"properties\": {\n        \"dtype\": \"number\",\n        \"std\": 0.29556293016735297,\n        \"min\": 0.0,\n        \"max\": 1.0,\n        \"num_unique_values\": 14,\n        \"samples\": [\n          0.3076923076923077,\n          0.5384615384615385,\n          0.8461538461538463\n        ],\n        \"semantic_type\": \"\",\n        \"description\": \"\"\n      }\n    },\n    {\n      \"column\": 2,\n      \"properties\": {\n        \"dtype\": \"number\",\n        \"std\": 0.05886702504578983,\n        \"min\": 2.493572816066584e-06,\n        \"max\": 1.0,\n        \"num_unique_values\": 665,\n        \"samples\": [\n          0.12876435986245452,\n          0.09877166603080562,\n          0.0002867608738476577\n        ],\n        \"semantic_type\": \"\",\n        \"description\": \"\"\n      }\n    },\n    {\n      \"column\": 3,\n      \"properties\": {\n        \"dtype\": \"number\",\n        \"std\": 0.2817130239573273,\n        \"min\": 0.0,\n        \"max\": 0.9971751412429378,\n        \"num_unique_values\": 365,\n        \"samples\": [\n          0.8926553672316384,\n          0.6822033898305084,\n          0.9675141242937854\n        ],\n        \"semantic_type\": \"\",\n        \"description\": \"\"\n      }\n    },\n    {\n      \"column\": 4,\n      \"properties\": {\n        \"dtype\": \"number\",\n        \"std\": 0.27655588195211195,\n        \"min\": 0.0,\n        \"max\": 1.0,\n        \"num_unique_values\": 48,\n        \"samples\": [\n          0.22916666666666666,\n          0.29166666666666663,\n          0.08333333333333333\n        ],\n        \"semantic_type\": \"\",\n        \"description\": \"\"\n      }\n    },\n    {\n      \"column\": 5,\n      \"properties\": {\n        \"dtype\": \"number\",\n        \"std\": 0.11268521514436701,\n        \"min\": 0.0012176213460409757,\n        \"max\": 0.9795391434603223,\n        \"num_unique_values\": 376,\n        \"samples\": [\n          0.4108946450940373,\n          0.4900641222176477,\n          0.16399344762038248\n        ],\n        \"semantic_type\": \"\",\n        \"description\": \"\"\n      }\n    },\n    {\n      \"column\": 6,\n      \"properties\": {\n        \"dtype\": \"number\",\n        \"std\": 0.14833272782963192,\n        \"min\": 0.0,\n        \"max\": 1.0,\n        \"num_unique_values\": 375,\n        \"samples\": [\n          0.854153619451096,\n          0.9384928675221547,\n          0.6783313890423854\n        ],\n        \"semantic_type\": \"\",\n        \"description\": \"\"\n      }\n    },\n    {\n      \"column\": 7,\n      \"properties\": {\n        \"dtype\": \"number\",\n        \"std\": 0.10875800258874414,\n        \"min\": 0.0,\n        \"max\": 1.0,\n        \"num_unique_values\": 367,\n        \"samples\": [\n          0.0019107730236280125,\n          0.002039098255499321,\n          1.7201773709290714e-05\n        ],\n        \"semantic_type\": \"\",\n        \"description\": \"\"\n      }\n    },\n    {\n      \"column\": 8,\n      \"properties\": {\n        \"dtype\": \"number\",\n        \"std\": 0.22100304983721053,\n        \"min\": 0.0,\n        \"max\": 1.0,\n        \"num_unique_values\": 73,\n        \"samples\": [\n          0.35802469135802467,\n          0.8518518518518519,\n          0.4938271604938271\n        ],\n        \"semantic_type\": \"\",\n        \"description\": \"\"\n      }\n    },\n    {\n      \"column\": \"prediction\",\n      \"properties\": {\n        \"dtype\": \"number\",\n        \"std\": 0.4932453115574113,\n        \"min\": 0.0,\n        \"max\": 1.0,\n        \"num_unique_values\": 2,\n        \"samples\": [\n          0.0,\n          1.0\n        ],\n        \"semantic_type\": \"\",\n        \"description\": \"\"\n      }\n    },\n    {\n      \"column\": \"pred_threshold\",\n      \"properties\": {\n        \"dtype\": \"number\",\n        \"std\": 0.49246953356226963,\n        \"min\": 0.0,\n        \"max\": 1.0,\n        \"num_unique_values\": 2,\n        \"samples\": [\n          0.0,\n          1.0\n        ],\n        \"semantic_type\": \"\",\n        \"description\": \"\"\n      }\n    }\n  ]\n}"
            }
          },
          "metadata": {},
          "execution_count": 67
        }
      ],
      "source": [
        "# Use 0.4 as threshold for LR model\n",
        "predict(model, x_test, 0.4)"
      ]
    },
    {
      "cell_type": "markdown",
      "id": "29eb6a12",
      "metadata": {
        "papermill": {
          "duration": 0.043886,
          "end_time": "2024-05-22T14:17:11.164331",
          "exception": false,
          "start_time": "2024-05-22T14:17:11.120445",
          "status": "completed"
        },
        "tags": [],
        "id": "29eb6a12"
      },
      "source": [
        "The 'prediction' column is for standard threshold (0.5) and the 'pred_threshold' stands for our results with the changed threshold."
      ]
    },
    {
      "cell_type": "code",
      "execution_count": 68,
      "id": "9c76e096",
      "metadata": {
        "execution": {
          "iopub.execute_input": "2024-05-22T14:17:11.218394Z",
          "iopub.status.busy": "2024-05-22T14:17:11.217947Z",
          "iopub.status.idle": "2024-05-22T14:17:11.223869Z",
          "shell.execute_reply": "2024-05-22T14:17:11.222813Z"
        },
        "papermill": {
          "duration": 0.035452,
          "end_time": "2024-05-22T14:17:11.226212",
          "exception": false,
          "start_time": "2024-05-22T14:17:11.190760",
          "status": "completed"
        },
        "tags": [],
        "id": "9c76e096"
      },
      "outputs": [],
      "source": [
        "y_test = pd.DataFrame(y_test)"
      ]
    },
    {
      "cell_type": "code",
      "execution_count": 69,
      "id": "df2ab302",
      "metadata": {
        "execution": {
          "iopub.execute_input": "2024-05-22T14:17:11.281299Z",
          "iopub.status.busy": "2024-05-22T14:17:11.280807Z",
          "iopub.status.idle": "2024-05-22T14:17:11.287488Z",
          "shell.execute_reply": "2024-05-22T14:17:11.286370Z"
        },
        "papermill": {
          "duration": 0.0367,
          "end_time": "2024-05-22T14:17:11.289978",
          "exception": false,
          "start_time": "2024-05-22T14:17:11.253278",
          "status": "completed"
        },
        "tags": [],
        "id": "df2ab302"
      },
      "outputs": [],
      "source": [
        "x_test[\"real\"] = y_test[\"is_fraud\"]"
      ]
    },
    {
      "cell_type": "code",
      "execution_count": 70,
      "id": "fdd64fee",
      "metadata": {
        "execution": {
          "iopub.execute_input": "2024-05-22T14:17:11.343733Z",
          "iopub.status.busy": "2024-05-22T14:17:11.343278Z",
          "iopub.status.idle": "2024-05-22T14:17:11.363367Z",
          "shell.execute_reply": "2024-05-22T14:17:11.362247Z"
        },
        "papermill": {
          "duration": 0.049961,
          "end_time": "2024-05-22T14:17:11.365889",
          "exception": false,
          "start_time": "2024-05-22T14:17:11.315928",
          "status": "completed"
        },
        "tags": [],
        "colab": {
          "base_uri": "https://localhost:8080/",
          "height": 226
        },
        "id": "fdd64fee",
        "outputId": "9648898a-0bc9-448b-c9af-3ba406008ab9"
      },
      "outputs": [
        {
          "output_type": "execute_result",
          "data": {
            "text/plain": [
              "        0         1         2         3         4         5         6  \\\n",
              "134   1.0  0.846154  0.096712  0.176554  0.770833  0.470698  0.876108   \n",
              "1764  0.5  0.153846  0.007713  0.538136  0.770833  0.444756  0.880166   \n",
              "2465  0.0  0.461538  0.006381  0.933616  0.708333  0.465079  0.868340   \n",
              "1987  0.0  0.384615  0.009305  0.816384  0.770833  0.444160  0.914594   \n",
              "1295  1.0  0.692308  0.000888  0.354520  0.541667  0.331922  0.861803   \n",
              "\n",
              "             7         8  prediction  pred_threshold  real  \n",
              "134   0.001887  0.395062         1.0             1.0   1.0  \n",
              "1764  0.000499  0.790123         0.0             0.0   0.0  \n",
              "2465  0.026105  0.592593         0.0             0.0   0.0  \n",
              "1987  0.000275  0.283951         0.0             0.0   0.0  \n",
              "1295  0.001926  0.395062         1.0             1.0   1.0  "
            ],
            "text/html": [
              "\n",
              "  <div id=\"df-82c438fc-3b6e-4809-887c-8c5ae482fe0e\" class=\"colab-df-container\">\n",
              "    <div>\n",
              "<style scoped>\n",
              "    .dataframe tbody tr th:only-of-type {\n",
              "        vertical-align: middle;\n",
              "    }\n",
              "\n",
              "    .dataframe tbody tr th {\n",
              "        vertical-align: top;\n",
              "    }\n",
              "\n",
              "    .dataframe thead th {\n",
              "        text-align: right;\n",
              "    }\n",
              "</style>\n",
              "<table border=\"1\" class=\"dataframe\">\n",
              "  <thead>\n",
              "    <tr style=\"text-align: right;\">\n",
              "      <th></th>\n",
              "      <th>0</th>\n",
              "      <th>1</th>\n",
              "      <th>2</th>\n",
              "      <th>3</th>\n",
              "      <th>4</th>\n",
              "      <th>5</th>\n",
              "      <th>6</th>\n",
              "      <th>7</th>\n",
              "      <th>8</th>\n",
              "      <th>prediction</th>\n",
              "      <th>pred_threshold</th>\n",
              "      <th>real</th>\n",
              "    </tr>\n",
              "  </thead>\n",
              "  <tbody>\n",
              "    <tr>\n",
              "      <th>134</th>\n",
              "      <td>1.0</td>\n",
              "      <td>0.846154</td>\n",
              "      <td>0.096712</td>\n",
              "      <td>0.176554</td>\n",
              "      <td>0.770833</td>\n",
              "      <td>0.470698</td>\n",
              "      <td>0.876108</td>\n",
              "      <td>0.001887</td>\n",
              "      <td>0.395062</td>\n",
              "      <td>1.0</td>\n",
              "      <td>1.0</td>\n",
              "      <td>1.0</td>\n",
              "    </tr>\n",
              "    <tr>\n",
              "      <th>1764</th>\n",
              "      <td>0.5</td>\n",
              "      <td>0.153846</td>\n",
              "      <td>0.007713</td>\n",
              "      <td>0.538136</td>\n",
              "      <td>0.770833</td>\n",
              "      <td>0.444756</td>\n",
              "      <td>0.880166</td>\n",
              "      <td>0.000499</td>\n",
              "      <td>0.790123</td>\n",
              "      <td>0.0</td>\n",
              "      <td>0.0</td>\n",
              "      <td>0.0</td>\n",
              "    </tr>\n",
              "    <tr>\n",
              "      <th>2465</th>\n",
              "      <td>0.0</td>\n",
              "      <td>0.461538</td>\n",
              "      <td>0.006381</td>\n",
              "      <td>0.933616</td>\n",
              "      <td>0.708333</td>\n",
              "      <td>0.465079</td>\n",
              "      <td>0.868340</td>\n",
              "      <td>0.026105</td>\n",
              "      <td>0.592593</td>\n",
              "      <td>0.0</td>\n",
              "      <td>0.0</td>\n",
              "      <td>0.0</td>\n",
              "    </tr>\n",
              "    <tr>\n",
              "      <th>1987</th>\n",
              "      <td>0.0</td>\n",
              "      <td>0.384615</td>\n",
              "      <td>0.009305</td>\n",
              "      <td>0.816384</td>\n",
              "      <td>0.770833</td>\n",
              "      <td>0.444160</td>\n",
              "      <td>0.914594</td>\n",
              "      <td>0.000275</td>\n",
              "      <td>0.283951</td>\n",
              "      <td>0.0</td>\n",
              "      <td>0.0</td>\n",
              "      <td>0.0</td>\n",
              "    </tr>\n",
              "    <tr>\n",
              "      <th>1295</th>\n",
              "      <td>1.0</td>\n",
              "      <td>0.692308</td>\n",
              "      <td>0.000888</td>\n",
              "      <td>0.354520</td>\n",
              "      <td>0.541667</td>\n",
              "      <td>0.331922</td>\n",
              "      <td>0.861803</td>\n",
              "      <td>0.001926</td>\n",
              "      <td>0.395062</td>\n",
              "      <td>1.0</td>\n",
              "      <td>1.0</td>\n",
              "      <td>1.0</td>\n",
              "    </tr>\n",
              "  </tbody>\n",
              "</table>\n",
              "</div>\n",
              "    <div class=\"colab-df-buttons\">\n",
              "\n",
              "  <div class=\"colab-df-container\">\n",
              "    <button class=\"colab-df-convert\" onclick=\"convertToInteractive('df-82c438fc-3b6e-4809-887c-8c5ae482fe0e')\"\n",
              "            title=\"Convert this dataframe to an interactive table.\"\n",
              "            style=\"display:none;\">\n",
              "\n",
              "  <svg xmlns=\"http://www.w3.org/2000/svg\" height=\"24px\" viewBox=\"0 -960 960 960\">\n",
              "    <path d=\"M120-120v-720h720v720H120Zm60-500h600v-160H180v160Zm220 220h160v-160H400v160Zm0 220h160v-160H400v160ZM180-400h160v-160H180v160Zm440 0h160v-160H620v160ZM180-180h160v-160H180v160Zm440 0h160v-160H620v160Z\"/>\n",
              "  </svg>\n",
              "    </button>\n",
              "\n",
              "  <style>\n",
              "    .colab-df-container {\n",
              "      display:flex;\n",
              "      gap: 12px;\n",
              "    }\n",
              "\n",
              "    .colab-df-convert {\n",
              "      background-color: #E8F0FE;\n",
              "      border: none;\n",
              "      border-radius: 50%;\n",
              "      cursor: pointer;\n",
              "      display: none;\n",
              "      fill: #1967D2;\n",
              "      height: 32px;\n",
              "      padding: 0 0 0 0;\n",
              "      width: 32px;\n",
              "    }\n",
              "\n",
              "    .colab-df-convert:hover {\n",
              "      background-color: #E2EBFA;\n",
              "      box-shadow: 0px 1px 2px rgba(60, 64, 67, 0.3), 0px 1px 3px 1px rgba(60, 64, 67, 0.15);\n",
              "      fill: #174EA6;\n",
              "    }\n",
              "\n",
              "    .colab-df-buttons div {\n",
              "      margin-bottom: 4px;\n",
              "    }\n",
              "\n",
              "    [theme=dark] .colab-df-convert {\n",
              "      background-color: #3B4455;\n",
              "      fill: #D2E3FC;\n",
              "    }\n",
              "\n",
              "    [theme=dark] .colab-df-convert:hover {\n",
              "      background-color: #434B5C;\n",
              "      box-shadow: 0px 1px 3px 1px rgba(0, 0, 0, 0.15);\n",
              "      filter: drop-shadow(0px 1px 2px rgba(0, 0, 0, 0.3));\n",
              "      fill: #FFFFFF;\n",
              "    }\n",
              "  </style>\n",
              "\n",
              "    <script>\n",
              "      const buttonEl =\n",
              "        document.querySelector('#df-82c438fc-3b6e-4809-887c-8c5ae482fe0e button.colab-df-convert');\n",
              "      buttonEl.style.display =\n",
              "        google.colab.kernel.accessAllowed ? 'block' : 'none';\n",
              "\n",
              "      async function convertToInteractive(key) {\n",
              "        const element = document.querySelector('#df-82c438fc-3b6e-4809-887c-8c5ae482fe0e');\n",
              "        const dataTable =\n",
              "          await google.colab.kernel.invokeFunction('convertToInteractive',\n",
              "                                                    [key], {});\n",
              "        if (!dataTable) return;\n",
              "\n",
              "        const docLinkHtml = 'Like what you see? Visit the ' +\n",
              "          '<a target=\"_blank\" href=https://colab.research.google.com/notebooks/data_table.ipynb>data table notebook</a>'\n",
              "          + ' to learn more about interactive tables.';\n",
              "        element.innerHTML = '';\n",
              "        dataTable['output_type'] = 'display_data';\n",
              "        await google.colab.output.renderOutput(dataTable, element);\n",
              "        const docLink = document.createElement('div');\n",
              "        docLink.innerHTML = docLinkHtml;\n",
              "        element.appendChild(docLink);\n",
              "      }\n",
              "    </script>\n",
              "  </div>\n",
              "\n",
              "\n",
              "<div id=\"df-9a6e5566-46e3-43c8-8edc-e7d0b252d655\">\n",
              "  <button class=\"colab-df-quickchart\" onclick=\"quickchart('df-9a6e5566-46e3-43c8-8edc-e7d0b252d655')\"\n",
              "            title=\"Suggest charts\"\n",
              "            style=\"display:none;\">\n",
              "\n",
              "<svg xmlns=\"http://www.w3.org/2000/svg\" height=\"24px\"viewBox=\"0 0 24 24\"\n",
              "     width=\"24px\">\n",
              "    <g>\n",
              "        <path d=\"M19 3H5c-1.1 0-2 .9-2 2v14c0 1.1.9 2 2 2h14c1.1 0 2-.9 2-2V5c0-1.1-.9-2-2-2zM9 17H7v-7h2v7zm4 0h-2V7h2v10zm4 0h-2v-4h2v4z\"/>\n",
              "    </g>\n",
              "</svg>\n",
              "  </button>\n",
              "\n",
              "<style>\n",
              "  .colab-df-quickchart {\n",
              "      --bg-color: #E8F0FE;\n",
              "      --fill-color: #1967D2;\n",
              "      --hover-bg-color: #E2EBFA;\n",
              "      --hover-fill-color: #174EA6;\n",
              "      --disabled-fill-color: #AAA;\n",
              "      --disabled-bg-color: #DDD;\n",
              "  }\n",
              "\n",
              "  [theme=dark] .colab-df-quickchart {\n",
              "      --bg-color: #3B4455;\n",
              "      --fill-color: #D2E3FC;\n",
              "      --hover-bg-color: #434B5C;\n",
              "      --hover-fill-color: #FFFFFF;\n",
              "      --disabled-bg-color: #3B4455;\n",
              "      --disabled-fill-color: #666;\n",
              "  }\n",
              "\n",
              "  .colab-df-quickchart {\n",
              "    background-color: var(--bg-color);\n",
              "    border: none;\n",
              "    border-radius: 50%;\n",
              "    cursor: pointer;\n",
              "    display: none;\n",
              "    fill: var(--fill-color);\n",
              "    height: 32px;\n",
              "    padding: 0;\n",
              "    width: 32px;\n",
              "  }\n",
              "\n",
              "  .colab-df-quickchart:hover {\n",
              "    background-color: var(--hover-bg-color);\n",
              "    box-shadow: 0 1px 2px rgba(60, 64, 67, 0.3), 0 1px 3px 1px rgba(60, 64, 67, 0.15);\n",
              "    fill: var(--button-hover-fill-color);\n",
              "  }\n",
              "\n",
              "  .colab-df-quickchart-complete:disabled,\n",
              "  .colab-df-quickchart-complete:disabled:hover {\n",
              "    background-color: var(--disabled-bg-color);\n",
              "    fill: var(--disabled-fill-color);\n",
              "    box-shadow: none;\n",
              "  }\n",
              "\n",
              "  .colab-df-spinner {\n",
              "    border: 2px solid var(--fill-color);\n",
              "    border-color: transparent;\n",
              "    border-bottom-color: var(--fill-color);\n",
              "    animation:\n",
              "      spin 1s steps(1) infinite;\n",
              "  }\n",
              "\n",
              "  @keyframes spin {\n",
              "    0% {\n",
              "      border-color: transparent;\n",
              "      border-bottom-color: var(--fill-color);\n",
              "      border-left-color: var(--fill-color);\n",
              "    }\n",
              "    20% {\n",
              "      border-color: transparent;\n",
              "      border-left-color: var(--fill-color);\n",
              "      border-top-color: var(--fill-color);\n",
              "    }\n",
              "    30% {\n",
              "      border-color: transparent;\n",
              "      border-left-color: var(--fill-color);\n",
              "      border-top-color: var(--fill-color);\n",
              "      border-right-color: var(--fill-color);\n",
              "    }\n",
              "    40% {\n",
              "      border-color: transparent;\n",
              "      border-right-color: var(--fill-color);\n",
              "      border-top-color: var(--fill-color);\n",
              "    }\n",
              "    60% {\n",
              "      border-color: transparent;\n",
              "      border-right-color: var(--fill-color);\n",
              "    }\n",
              "    80% {\n",
              "      border-color: transparent;\n",
              "      border-right-color: var(--fill-color);\n",
              "      border-bottom-color: var(--fill-color);\n",
              "    }\n",
              "    90% {\n",
              "      border-color: transparent;\n",
              "      border-bottom-color: var(--fill-color);\n",
              "    }\n",
              "  }\n",
              "</style>\n",
              "\n",
              "  <script>\n",
              "    async function quickchart(key) {\n",
              "      const quickchartButtonEl =\n",
              "        document.querySelector('#' + key + ' button');\n",
              "      quickchartButtonEl.disabled = true;  // To prevent multiple clicks.\n",
              "      quickchartButtonEl.classList.add('colab-df-spinner');\n",
              "      try {\n",
              "        const charts = await google.colab.kernel.invokeFunction(\n",
              "            'suggestCharts', [key], {});\n",
              "      } catch (error) {\n",
              "        console.error('Error during call to suggestCharts:', error);\n",
              "      }\n",
              "      quickchartButtonEl.classList.remove('colab-df-spinner');\n",
              "      quickchartButtonEl.classList.add('colab-df-quickchart-complete');\n",
              "    }\n",
              "    (() => {\n",
              "      let quickchartButtonEl =\n",
              "        document.querySelector('#df-9a6e5566-46e3-43c8-8edc-e7d0b252d655 button');\n",
              "      quickchartButtonEl.style.display =\n",
              "        google.colab.kernel.accessAllowed ? 'block' : 'none';\n",
              "    })();\n",
              "  </script>\n",
              "</div>\n",
              "\n",
              "    </div>\n",
              "  </div>\n"
            ],
            "application/vnd.google.colaboratory.intrinsic+json": {
              "type": "dataframe",
              "variable_name": "x_test",
              "summary": "{\n  \"name\": \"x_test\",\n  \"rows\": 678,\n  \"fields\": [\n    {\n      \"column\": 0,\n      \"properties\": {\n        \"dtype\": \"number\",\n        \"std\": 0.4204286106368693,\n        \"min\": 0.0,\n        \"max\": 1.0,\n        \"num_unique_values\": 3,\n        \"samples\": [\n          1.0,\n          0.5,\n          0.0\n        ],\n        \"semantic_type\": \"\",\n        \"description\": \"\"\n      }\n    },\n    {\n      \"column\": 1,\n      \"properties\": {\n        \"dtype\": \"number\",\n        \"std\": 0.29556293016735297,\n        \"min\": 0.0,\n        \"max\": 1.0,\n        \"num_unique_values\": 14,\n        \"samples\": [\n          0.3076923076923077,\n          0.5384615384615385,\n          0.8461538461538463\n        ],\n        \"semantic_type\": \"\",\n        \"description\": \"\"\n      }\n    },\n    {\n      \"column\": 2,\n      \"properties\": {\n        \"dtype\": \"number\",\n        \"std\": 0.05886702504578983,\n        \"min\": 2.493572816066584e-06,\n        \"max\": 1.0,\n        \"num_unique_values\": 665,\n        \"samples\": [\n          0.12876435986245452,\n          0.09877166603080562,\n          0.0002867608738476577\n        ],\n        \"semantic_type\": \"\",\n        \"description\": \"\"\n      }\n    },\n    {\n      \"column\": 3,\n      \"properties\": {\n        \"dtype\": \"number\",\n        \"std\": 0.2817130239573273,\n        \"min\": 0.0,\n        \"max\": 0.9971751412429378,\n        \"num_unique_values\": 365,\n        \"samples\": [\n          0.8926553672316384,\n          0.6822033898305084,\n          0.9675141242937854\n        ],\n        \"semantic_type\": \"\",\n        \"description\": \"\"\n      }\n    },\n    {\n      \"column\": 4,\n      \"properties\": {\n        \"dtype\": \"number\",\n        \"std\": 0.27655588195211195,\n        \"min\": 0.0,\n        \"max\": 1.0,\n        \"num_unique_values\": 48,\n        \"samples\": [\n          0.22916666666666666,\n          0.29166666666666663,\n          0.08333333333333333\n        ],\n        \"semantic_type\": \"\",\n        \"description\": \"\"\n      }\n    },\n    {\n      \"column\": 5,\n      \"properties\": {\n        \"dtype\": \"number\",\n        \"std\": 0.11268521514436701,\n        \"min\": 0.0012176213460409757,\n        \"max\": 0.9795391434603223,\n        \"num_unique_values\": 376,\n        \"samples\": [\n          0.4108946450940373,\n          0.4900641222176477,\n          0.16399344762038248\n        ],\n        \"semantic_type\": \"\",\n        \"description\": \"\"\n      }\n    },\n    {\n      \"column\": 6,\n      \"properties\": {\n        \"dtype\": \"number\",\n        \"std\": 0.14833272782963192,\n        \"min\": 0.0,\n        \"max\": 1.0,\n        \"num_unique_values\": 375,\n        \"samples\": [\n          0.854153619451096,\n          0.9384928675221547,\n          0.6783313890423854\n        ],\n        \"semantic_type\": \"\",\n        \"description\": \"\"\n      }\n    },\n    {\n      \"column\": 7,\n      \"properties\": {\n        \"dtype\": \"number\",\n        \"std\": 0.10875800258874414,\n        \"min\": 0.0,\n        \"max\": 1.0,\n        \"num_unique_values\": 367,\n        \"samples\": [\n          0.0019107730236280125,\n          0.002039098255499321,\n          1.7201773709290714e-05\n        ],\n        \"semantic_type\": \"\",\n        \"description\": \"\"\n      }\n    },\n    {\n      \"column\": 8,\n      \"properties\": {\n        \"dtype\": \"number\",\n        \"std\": 0.22100304983721053,\n        \"min\": 0.0,\n        \"max\": 1.0,\n        \"num_unique_values\": 73,\n        \"samples\": [\n          0.35802469135802467,\n          0.8518518518518519,\n          0.4938271604938271\n        ],\n        \"semantic_type\": \"\",\n        \"description\": \"\"\n      }\n    },\n    {\n      \"column\": \"prediction\",\n      \"properties\": {\n        \"dtype\": \"number\",\n        \"std\": 0.4932453115574113,\n        \"min\": 0.0,\n        \"max\": 1.0,\n        \"num_unique_values\": 2,\n        \"samples\": [\n          0.0,\n          1.0\n        ],\n        \"semantic_type\": \"\",\n        \"description\": \"\"\n      }\n    },\n    {\n      \"column\": \"pred_threshold\",\n      \"properties\": {\n        \"dtype\": \"number\",\n        \"std\": 0.49246953356226963,\n        \"min\": 0.0,\n        \"max\": 1.0,\n        \"num_unique_values\": 2,\n        \"samples\": [\n          0.0,\n          1.0\n        ],\n        \"semantic_type\": \"\",\n        \"description\": \"\"\n      }\n    },\n    {\n      \"column\": \"real\",\n      \"properties\": {\n        \"dtype\": \"number\",\n        \"std\": 0.49940815418252227,\n        \"min\": 0.0,\n        \"max\": 1.0,\n        \"num_unique_values\": 2,\n        \"samples\": [\n          0.0,\n          1.0\n        ],\n        \"semantic_type\": \"\",\n        \"description\": \"\"\n      }\n    }\n  ]\n}"
            }
          },
          "metadata": {},
          "execution_count": 70
        }
      ],
      "source": [
        "x_test.head(5)"
      ]
    },
    {
      "cell_type": "code",
      "execution_count": 71,
      "id": "bc366599",
      "metadata": {
        "execution": {
          "iopub.execute_input": "2024-05-22T14:17:11.420342Z",
          "iopub.status.busy": "2024-05-22T14:17:11.419868Z",
          "iopub.status.idle": "2024-05-22T14:17:11.443374Z",
          "shell.execute_reply": "2024-05-22T14:17:11.442267Z"
        },
        "papermill": {
          "duration": 0.054202,
          "end_time": "2024-05-22T14:17:11.446562",
          "exception": false,
          "start_time": "2024-05-22T14:17:11.392360",
          "status": "completed"
        },
        "tags": [],
        "colab": {
          "base_uri": "https://localhost:8080/"
        },
        "id": "bc366599",
        "outputId": "21655a10-d06a-46ee-cbbf-7daf03d126a0"
      },
      "outputs": [
        {
          "output_type": "stream",
          "name": "stdout",
          "text": [
            "              precision    recall  f1-score   support\n",
            "\n",
            "         0.0       0.83      0.73      0.78       318\n",
            "         1.0       0.79      0.86      0.82       360\n",
            "\n",
            "    accuracy                           0.80       678\n",
            "   macro avg       0.81      0.80      0.80       678\n",
            "weighted avg       0.80      0.80      0.80       678\n",
            "\n"
          ]
        }
      ],
      "source": [
        "# With 0.5 threshold\n",
        "print(classification_report(x_test['real'], x_test['prediction']))"
      ]
    },
    {
      "cell_type": "code",
      "execution_count": 72,
      "id": "479af74b",
      "metadata": {
        "execution": {
          "iopub.execute_input": "2024-05-22T14:17:11.502289Z",
          "iopub.status.busy": "2024-05-22T14:17:11.501479Z",
          "iopub.status.idle": "2024-05-22T14:17:11.525690Z",
          "shell.execute_reply": "2024-05-22T14:17:11.524362Z"
        },
        "papermill": {
          "duration": 0.055644,
          "end_time": "2024-05-22T14:17:11.528580",
          "exception": false,
          "start_time": "2024-05-22T14:17:11.472936",
          "status": "completed"
        },
        "tags": [],
        "colab": {
          "base_uri": "https://localhost:8080/"
        },
        "id": "479af74b",
        "outputId": "bb416630-0d8d-4f29-bee6-df61be079268"
      },
      "outputs": [
        {
          "output_type": "stream",
          "name": "stdout",
          "text": [
            "              precision    recall  f1-score   support\n",
            "\n",
            "         0.0       0.83      0.73      0.78       318\n",
            "         1.0       0.78      0.87      0.82       360\n",
            "\n",
            "    accuracy                           0.80       678\n",
            "   macro avg       0.81      0.80      0.80       678\n",
            "weighted avg       0.81      0.80      0.80       678\n",
            "\n"
          ]
        }
      ],
      "source": [
        "# With 0.4 threshold\n",
        "print(classification_report(x_test['real'], x_test['pred_threshold']))"
      ]
    },
    {
      "cell_type": "markdown",
      "id": "4b5677c5",
      "metadata": {
        "papermill": {
          "duration": 0.027729,
          "end_time": "2024-05-22T14:17:11.583356",
          "exception": false,
          "start_time": "2024-05-22T14:17:11.555627",
          "status": "completed"
        },
        "tags": [],
        "id": "4b5677c5"
      },
      "source": [
        "We can see an improvement in the recall for frauds, which is now 0.94, but also some other metrics such as precision got a little bit worse.\n",
        "\n",
        "The F1-score overall got better!"
      ]
    },
    {
      "cell_type": "code",
      "execution_count": 73,
      "id": "80fcd441",
      "metadata": {
        "execution": {
          "iopub.execute_input": "2024-05-22T14:17:11.638251Z",
          "iopub.status.busy": "2024-05-22T14:17:11.637735Z",
          "iopub.status.idle": "2024-05-22T14:17:11.644067Z",
          "shell.execute_reply": "2024-05-22T14:17:11.642942Z"
        },
        "papermill": {
          "duration": 0.036594,
          "end_time": "2024-05-22T14:17:11.646563",
          "exception": false,
          "start_time": "2024-05-22T14:17:11.609969",
          "status": "completed"
        },
        "tags": [],
        "id": "80fcd441"
      },
      "outputs": [],
      "source": [
        "# Let's define now a function to get the confusion matrix\n",
        "def confusion_matrix_plot(test_set, pred_label, model):\n",
        "    cm = confusion_matrix(x_test['real'], x_test[pred_label], labels=model.classes_)\n",
        "    disp = ConfusionMatrixDisplay(confusion_matrix=cm,\n",
        "                              display_labels=model.classes_)\n",
        "    disp.plot()\n",
        "    plt.show()"
      ]
    },
    {
      "cell_type": "code",
      "execution_count": 74,
      "id": "93018652",
      "metadata": {
        "execution": {
          "iopub.execute_input": "2024-05-22T14:17:11.701402Z",
          "iopub.status.busy": "2024-05-22T14:17:11.700327Z",
          "iopub.status.idle": "2024-05-22T14:17:11.910570Z",
          "shell.execute_reply": "2024-05-22T14:17:11.909423Z"
        },
        "papermill": {
          "duration": 0.240468,
          "end_time": "2024-05-22T14:17:11.913212",
          "exception": false,
          "start_time": "2024-05-22T14:17:11.672744",
          "status": "completed"
        },
        "tags": [],
        "colab": {
          "base_uri": "https://localhost:8080/",
          "height": 449
        },
        "id": "93018652",
        "outputId": "e04ee661-c59f-4821-c4c6-b21d737acd1a"
      },
      "outputs": [
        {
          "output_type": "display_data",
          "data": {
            "text/plain": [
              "<Figure size 640x480 with 2 Axes>"
            ],
            "image/png": "[encoded data removed]"
          },
          "metadata": {}
        }
      ],
      "source": [
        "confusion_matrix_plot(x_test, 'prediction', model)"
      ]
    },
    {
      "cell_type": "code",
      "execution_count": 75,
      "id": "f6f9bb5a",
      "metadata": {
        "execution": {
          "iopub.execute_input": "2024-05-22T14:17:11.972348Z",
          "iopub.status.busy": "2024-05-22T14:17:11.971834Z",
          "iopub.status.idle": "2024-05-22T14:17:12.242977Z",
          "shell.execute_reply": "2024-05-22T14:17:12.241697Z"
        },
        "papermill": {
          "duration": 0.303382,
          "end_time": "2024-05-22T14:17:12.245875",
          "exception": false,
          "start_time": "2024-05-22T14:17:11.942493",
          "status": "completed"
        },
        "tags": [],
        "colab": {
          "base_uri": "https://localhost:8080/",
          "height": 449
        },
        "id": "f6f9bb5a",
        "outputId": "4b427fda-7d99-4eb0-b2f4-8a2664d4462f"
      },
      "outputs": [
        {
          "output_type": "display_data",
          "data": {
            "text/plain": [
              "<Figure size 640x480 with 2 Axes>"
            ],
            "image/png": "[encoded data removed]"
          },
          "metadata": {}
        }
      ],
      "source": [
        "confusion_matrix_plot(x_test, 'pred_threshold', model)"
      ]
    },
    {
      "cell_type": "markdown",
      "id": "ccbd04f3",
      "metadata": {
        "papermill": {
          "duration": 0.026746,
          "end_time": "2024-05-22T14:17:12.300325",
          "exception": false,
          "start_time": "2024-05-22T14:17:12.273579",
          "status": "completed"
        },
        "tags": [],
        "id": "ccbd04f3"
      },
      "source": [
        "This way, we got way better at predicting fraud transactions, but worse to predict non fraud."
      ]
    },
    {
      "cell_type": "markdown",
      "id": "ec8cecb6",
      "metadata": {
        "papermill": {
          "duration": 0.02886,
          "end_time": "2024-05-22T14:17:12.356437",
          "exception": false,
          "start_time": "2024-05-22T14:17:12.327577",
          "status": "completed"
        },
        "tags": [],
        "id": "ec8cecb6"
      },
      "source": [
        "# SVM Classifier Model"
      ]
    },
    {
      "cell_type": "markdown",
      "id": "48ad33fe",
      "metadata": {
        "papermill": {
          "duration": 0.026928,
          "end_time": "2024-05-22T14:17:12.411154",
          "exception": false,
          "start_time": "2024-05-22T14:17:12.384226",
          "status": "completed"
        },
        "tags": [],
        "id": "48ad33fe"
      },
      "source": [
        "Let's try now with SVC model"
      ]
    },
    {
      "cell_type": "code",
      "execution_count": 76,
      "id": "b1e3bc5f",
      "metadata": {
        "execution": {
          "iopub.execute_input": "2024-05-22T14:17:12.469404Z",
          "iopub.status.busy": "2024-05-22T14:17:12.468905Z",
          "iopub.status.idle": "2024-05-22T14:17:12.474340Z",
          "shell.execute_reply": "2024-05-22T14:17:12.473228Z"
        },
        "papermill": {
          "duration": 0.037494,
          "end_time": "2024-05-22T14:17:12.476742",
          "exception": false,
          "start_time": "2024-05-22T14:17:12.439248",
          "status": "completed"
        },
        "tags": [],
        "id": "b1e3bc5f"
      },
      "outputs": [],
      "source": [
        "from sklearn.svm import SVC"
      ]
    },
    {
      "cell_type": "code",
      "execution_count": 77,
      "id": "a8d58dff",
      "metadata": {
        "execution": {
          "iopub.execute_input": "2024-05-22T14:17:12.535768Z",
          "iopub.status.busy": "2024-05-22T14:17:12.535300Z",
          "iopub.status.idle": "2024-05-22T14:17:12.540504Z",
          "shell.execute_reply": "2024-05-22T14:17:12.539475Z"
        },
        "papermill": {
          "duration": 0.03676,
          "end_time": "2024-05-22T14:17:12.543005",
          "exception": false,
          "start_time": "2024-05-22T14:17:12.506245",
          "status": "completed"
        },
        "tags": [],
        "id": "a8d58dff"
      },
      "outputs": [],
      "source": [
        "model_SVM = SVC(probability = True, random_state=42)"
      ]
    },
    {
      "cell_type": "code",
      "execution_count": 78,
      "id": "54b6c5e0",
      "metadata": {
        "execution": {
          "iopub.execute_input": "2024-05-22T14:17:12.601993Z",
          "iopub.status.busy": "2024-05-22T14:17:12.601531Z",
          "iopub.status.idle": "2024-05-22T14:17:46.172654Z",
          "shell.execute_reply": "2024-05-22T14:17:46.171496Z"
        },
        "papermill": {
          "duration": 33.630877,
          "end_time": "2024-05-22T14:17:46.202583",
          "exception": false,
          "start_time": "2024-05-22T14:17:12.571706",
          "status": "completed"
        },
        "tags": [],
        "colab": {
          "base_uri": "https://localhost:8080/",
          "height": 74
        },
        "id": "54b6c5e0",
        "outputId": "9f64ebfb-229c-4c2e-df8a-b70a5d50d088"
      },
      "outputs": [
        {
          "output_type": "execute_result",
          "data": {
            "text/plain": [
              "SVC(probability=True, random_state=42)"
            ],
            "text/html": [
              "<style>#sk-container-id-2 {color: black;background-color: white;}#sk-container-id-2 pre{padding: 0;}#sk-container-id-2 div.sk-toggleable {background-color: white;}#sk-container-id-2 label.sk-toggleable__label {cursor: pointer;display: block;width: 100%;margin-bottom: 0;padding: 0.3em;box-sizing: border-box;text-align: center;}#sk-container-id-2 label.sk-toggleable__label-arrow:before {content: \"▸\";float: left;margin-right: 0.25em;color: #696969;}#sk-container-id-2 label.sk-toggleable__label-arrow:hover:before {color: black;}#sk-container-id-2 div.sk-estimator:hover label.sk-toggleable__label-arrow:before {color: black;}#sk-container-id-2 div.sk-toggleable__content {max-height: 0;max-width: 0;overflow: hidden;text-align: left;background-color: #f0f8ff;}#sk-container-id-2 div.sk-toggleable__content pre {margin: 0.2em;color: black;border-radius: 0.25em;background-color: #f0f8ff;}#sk-container-id-2 input.sk-toggleable__control:checked~div.sk-toggleable__content {max-height: 200px;max-width: 100%;overflow: auto;}#sk-container-id-2 input.sk-toggleable__control:checked~label.sk-toggleable__label-arrow:before {content: \"▾\";}#sk-container-id-2 div.sk-estimator input.sk-toggleable__control:checked~label.sk-toggleable__label {background-color: #d4ebff;}#sk-container-id-2 div.sk-label input.sk-toggleable__control:checked~label.sk-toggleable__label {background-color: #d4ebff;}#sk-container-id-2 input.sk-hidden--visually {border: 0;clip: rect(1px 1px 1px 1px);clip: rect(1px, 1px, 1px, 1px);height: 1px;margin: -1px;overflow: hidden;padding: 0;position: absolute;width: 1px;}#sk-container-id-2 div.sk-estimator {font-family: monospace;background-color: #f0f8ff;border: 1px dotted black;border-radius: 0.25em;box-sizing: border-box;margin-bottom: 0.5em;}#sk-container-id-2 div.sk-estimator:hover {background-color: #d4ebff;}#sk-container-id-2 div.sk-parallel-item::after {content: \"\";width: 100%;border-bottom: 1px solid gray;flex-grow: 1;}#sk-container-id-2 div.sk-label:hover label.sk-toggleable__label {background-color: #d4ebff;}#sk-container-id-2 div.sk-serial::before {content: \"\";position: absolute;border-left: 1px solid gray;box-sizing: border-box;top: 0;bottom: 0;left: 50%;z-index: 0;}#sk-container-id-2 div.sk-serial {display: flex;flex-direction: column;align-items: center;background-color: white;padding-right: 0.2em;padding-left: 0.2em;position: relative;}#sk-container-id-2 div.sk-item {position: relative;z-index: 1;}#sk-container-id-2 div.sk-parallel {display: flex;align-items: stretch;justify-content: center;background-color: white;position: relative;}#sk-container-id-2 div.sk-item::before, #sk-container-id-2 div.sk-parallel-item::before {content: \"\";position: absolute;border-left: 1px solid gray;box-sizing: border-box;top: 0;bottom: 0;left: 50%;z-index: -1;}#sk-container-id-2 div.sk-parallel-item {display: flex;flex-direction: column;z-index: 1;position: relative;background-color: white;}#sk-container-id-2 div.sk-parallel-item:first-child::after {align-self: flex-end;width: 50%;}#sk-container-id-2 div.sk-parallel-item:last-child::after {align-self: flex-start;width: 50%;}#sk-container-id-2 div.sk-parallel-item:only-child::after {width: 0;}#sk-container-id-2 div.sk-dashed-wrapped {border: 1px dashed gray;margin: 0 0.4em 0.5em 0.4em;box-sizing: border-box;padding-bottom: 0.4em;background-color: white;}#sk-container-id-2 div.sk-label label {font-family: monospace;font-weight: bold;display: inline-block;line-height: 1.2em;}#sk-container-id-2 div.sk-label-container {text-align: center;}#sk-container-id-2 div.sk-container {/* jupyter's `normalize.less` sets `[hidden] { display: none; }` but bootstrap.min.css set `[hidden] { display: none !important; }` so we also need the `!important` here to be able to override the default hidden behavior on the sphinx rendered scikit-learn.org. See: https://github.com/scikit-learn/scikit-learn/issues/21755 */display: inline-block !important;position: relative;}#sk-container-id-2 div.sk-text-repr-fallback {display: none;}</style><div id=\"sk-container-id-2\" class=\"sk-top-container\"><div class=\"sk-text-repr-fallback\"><pre>SVC(probability=True, random_state=42)</pre><b>In a Jupyter environment, please rerun this cell to show the HTML representation or trust the notebook. <br />On GitHub, the HTML representation is unable to render, please try loading this page with nbviewer.org.</b></div><div class=\"sk-container\" hidden><div class=\"sk-item\"><div class=\"sk-estimator sk-toggleable\"><input class=\"sk-toggleable__control sk-hidden--visually\" id=\"sk-estimator-id-2\" type=\"checkbox\" checked><label for=\"sk-estimator-id-2\" class=\"sk-toggleable__label sk-toggleable__label-arrow\">SVC</label><div class=\"sk-toggleable__content\"><pre>SVC(probability=True, random_state=42)</pre></div></div></div></div></div>"
            ]
          },
          "metadata": {},
          "execution_count": 78
        }
      ],
      "source": [
        "model_SVM.fit(x_train, y_train)"
      ]
    },
    {
      "cell_type": "code",
      "execution_count": 79,
      "id": "f9e7e63d",
      "metadata": {
        "execution": {
          "iopub.execute_input": "2024-05-22T14:17:46.260882Z",
          "iopub.status.busy": "2024-05-22T14:17:46.260034Z",
          "iopub.status.idle": "2024-05-22T14:17:46.266826Z",
          "shell.execute_reply": "2024-05-22T14:17:46.265673Z"
        },
        "papermill": {
          "duration": 0.038556,
          "end_time": "2024-05-22T14:17:46.269328",
          "exception": false,
          "start_time": "2024-05-22T14:17:46.230772",
          "status": "completed"
        },
        "tags": [],
        "id": "f9e7e63d"
      },
      "outputs": [],
      "source": [
        "# Dropping our last predictions\n",
        "x_test = x_test.drop(columns = {'prediction','pred_threshold' ,'real'})"
      ]
    },
    {
      "cell_type": "code",
      "execution_count": 80,
      "id": "233e81f1",
      "metadata": {
        "execution": {
          "iopub.execute_input": "2024-05-22T14:17:46.327950Z",
          "iopub.status.busy": "2024-05-22T14:17:46.327433Z",
          "iopub.status.idle": "2024-05-22T14:17:48.983360Z",
          "shell.execute_reply": "2024-05-22T14:17:48.982022Z"
        },
        "papermill": {
          "duration": 2.689044,
          "end_time": "2024-05-22T14:17:48.986047",
          "exception": false,
          "start_time": "2024-05-22T14:17:46.297003",
          "status": "completed"
        },
        "tags": [],
        "colab": {
          "base_uri": "https://localhost:8080/",
          "height": 443
        },
        "id": "233e81f1",
        "outputId": "95328b18-89c5-4ac9-8018-13c5b26c076c"
      },
      "outputs": [
        {
          "output_type": "execute_result",
          "data": {
            "text/plain": [
              "        0         1         2         3         4         5         6  \\\n",
              "134   1.0  0.846154  0.096712  0.176554  0.770833  0.470698  0.876108   \n",
              "1764  0.5  0.153846  0.007713  0.538136  0.770833  0.444756  0.880166   \n",
              "2465  0.0  0.461538  0.006381  0.933616  0.708333  0.465079  0.868340   \n",
              "1987  0.0  0.384615  0.009305  0.816384  0.770833  0.444160  0.914594   \n",
              "1295  1.0  0.692308  0.000888  0.354520  0.541667  0.331922  0.861803   \n",
              "...   ...       ...       ...       ...       ...       ...       ...   \n",
              "1052  1.0  0.307692  0.043106  0.112994  0.687500  0.485445  0.910094   \n",
              "759   1.0  0.153846  0.001086  0.008475  0.645833  0.329130  0.604999   \n",
              "2069  0.0  0.538462  0.020042  0.751412  0.458333  0.625805  0.740617   \n",
              "3166  1.0  0.153846  0.006138  0.015537  0.687500  0.482813  0.896552   \n",
              "857   1.0  0.846154  0.140351  0.004237  0.458333  0.544042  0.745471   \n",
              "\n",
              "             7         8  prediction  pred_threshold  \n",
              "134   0.001887  0.395062         1.0             1.0  \n",
              "1764  0.000499  0.790123         0.0             0.0  \n",
              "2465  0.026105  0.592593         0.0             0.0  \n",
              "1987  0.000275  0.283951         0.0             0.0  \n",
              "1295  0.001926  0.395062         1.0             1.0  \n",
              "...        ...       ...         ...             ...  \n",
              "1052  0.000171  0.172840         1.0             1.0  \n",
              "759   0.220639  0.469136         1.0             1.0  \n",
              "2069  0.000039  0.061728         0.0             0.0  \n",
              "3166  0.000074  0.604938         1.0             1.0  \n",
              "857   0.000995  0.864198         1.0             1.0  \n",
              "\n",
              "[678 rows x 11 columns]"
            ],
            "text/html": [
              "\n",
              "  <div id=\"df-a5b24231-6e65-46ec-b346-ea50842a982f\" class=\"colab-df-container\">\n",
              "    <div>\n",
              "<style scoped>\n",
              "    .dataframe tbody tr th:only-of-type {\n",
              "        vertical-align: middle;\n",
              "    }\n",
              "\n",
              "    .dataframe tbody tr th {\n",
              "        vertical-align: top;\n",
              "    }\n",
              "\n",
              "    .dataframe thead th {\n",
              "        text-align: right;\n",
              "    }\n",
              "</style>\n",
              "<table border=\"1\" class=\"dataframe\">\n",
              "  <thead>\n",
              "    <tr style=\"text-align: right;\">\n",
              "      <th></th>\n",
              "      <th>0</th>\n",
              "      <th>1</th>\n",
              "      <th>2</th>\n",
              "      <th>3</th>\n",
              "      <th>4</th>\n",
              "      <th>5</th>\n",
              "      <th>6</th>\n",
              "      <th>7</th>\n",
              "      <th>8</th>\n",
              "      <th>prediction</th>\n",
              "      <th>pred_threshold</th>\n",
              "    </tr>\n",
              "  </thead>\n",
              "  <tbody>\n",
              "    <tr>\n",
              "      <th>134</th>\n",
              "      <td>1.0</td>\n",
              "      <td>0.846154</td>\n",
              "      <td>0.096712</td>\n",
              "      <td>0.176554</td>\n",
              "      <td>0.770833</td>\n",
              "      <td>0.470698</td>\n",
              "      <td>0.876108</td>\n",
              "      <td>0.001887</td>\n",
              "      <td>0.395062</td>\n",
              "      <td>1.0</td>\n",
              "      <td>1.0</td>\n",
              "    </tr>\n",
              "    <tr>\n",
              "      <th>1764</th>\n",
              "      <td>0.5</td>\n",
              "      <td>0.153846</td>\n",
              "      <td>0.007713</td>\n",
              "      <td>0.538136</td>\n",
              "      <td>0.770833</td>\n",
              "      <td>0.444756</td>\n",
              "      <td>0.880166</td>\n",
              "      <td>0.000499</td>\n",
              "      <td>0.790123</td>\n",
              "      <td>0.0</td>\n",
              "      <td>0.0</td>\n",
              "    </tr>\n",
              "    <tr>\n",
              "      <th>2465</th>\n",
              "      <td>0.0</td>\n",
              "      <td>0.461538</td>\n",
              "      <td>0.006381</td>\n",
              "      <td>0.933616</td>\n",
              "      <td>0.708333</td>\n",
              "      <td>0.465079</td>\n",
              "      <td>0.868340</td>\n",
              "      <td>0.026105</td>\n",
              "      <td>0.592593</td>\n",
              "      <td>0.0</td>\n",
              "      <td>0.0</td>\n",
              "    </tr>\n",
              "    <tr>\n",
              "      <th>1987</th>\n",
              "      <td>0.0</td>\n",
              "      <td>0.384615</td>\n",
              "      <td>0.009305</td>\n",
              "      <td>0.816384</td>\n",
              "      <td>0.770833</td>\n",
              "      <td>0.444160</td>\n",
              "      <td>0.914594</td>\n",
              "      <td>0.000275</td>\n",
              "      <td>0.283951</td>\n",
              "      <td>0.0</td>\n",
              "      <td>0.0</td>\n",
              "    </tr>\n",
              "    <tr>\n",
              "      <th>1295</th>\n",
              "      <td>1.0</td>\n",
              "      <td>0.692308</td>\n",
              "      <td>0.000888</td>\n",
              "      <td>0.354520</td>\n",
              "      <td>0.541667</td>\n",
              "      <td>0.331922</td>\n",
              "      <td>0.861803</td>\n",
              "      <td>0.001926</td>\n",
              "      <td>0.395062</td>\n",
              "      <td>1.0</td>\n",
              "      <td>1.0</td>\n",
              "    </tr>\n",
              "    <tr>\n",
              "      <th>...</th>\n",
              "      <td>...</td>\n",
              "      <td>...</td>\n",
              "      <td>...</td>\n",
              "      <td>...</td>\n",
              "      <td>...</td>\n",
              "      <td>...</td>\n",
              "      <td>...</td>\n",
              "      <td>...</td>\n",
              "      <td>...</td>\n",
              "      <td>...</td>\n",
              "      <td>...</td>\n",
              "    </tr>\n",
              "    <tr>\n",
              "      <th>1052</th>\n",
              "      <td>1.0</td>\n",
              "      <td>0.307692</td>\n",
              "      <td>0.043106</td>\n",
              "      <td>0.112994</td>\n",
              "      <td>0.687500</td>\n",
              "      <td>0.485445</td>\n",
              "      <td>0.910094</td>\n",
              "      <td>0.000171</td>\n",
              "      <td>0.172840</td>\n",
              "      <td>1.0</td>\n",
              "      <td>1.0</td>\n",
              "    </tr>\n",
              "    <tr>\n",
              "      <th>759</th>\n",
              "      <td>1.0</td>\n",
              "      <td>0.153846</td>\n",
              "      <td>0.001086</td>\n",
              "      <td>0.008475</td>\n",
              "      <td>0.645833</td>\n",
              "      <td>0.329130</td>\n",
              "      <td>0.604999</td>\n",
              "      <td>0.220639</td>\n",
              "      <td>0.469136</td>\n",
              "      <td>1.0</td>\n",
              "      <td>1.0</td>\n",
              "    </tr>\n",
              "    <tr>\n",
              "      <th>2069</th>\n",
              "      <td>0.0</td>\n",
              "      <td>0.538462</td>\n",
              "      <td>0.020042</td>\n",
              "      <td>0.751412</td>\n",
              "      <td>0.458333</td>\n",
              "      <td>0.625805</td>\n",
              "      <td>0.740617</td>\n",
              "      <td>0.000039</td>\n",
              "      <td>0.061728</td>\n",
              "      <td>0.0</td>\n",
              "      <td>0.0</td>\n",
              "    </tr>\n",
              "    <tr>\n",
              "      <th>3166</th>\n",
              "      <td>1.0</td>\n",
              "      <td>0.153846</td>\n",
              "      <td>0.006138</td>\n",
              "      <td>0.015537</td>\n",
              "      <td>0.687500</td>\n",
              "      <td>0.482813</td>\n",
              "      <td>0.896552</td>\n",
              "      <td>0.000074</td>\n",
              "      <td>0.604938</td>\n",
              "      <td>1.0</td>\n",
              "      <td>1.0</td>\n",
              "    </tr>\n",
              "    <tr>\n",
              "      <th>857</th>\n",
              "      <td>1.0</td>\n",
              "      <td>0.846154</td>\n",
              "      <td>0.140351</td>\n",
              "      <td>0.004237</td>\n",
              "      <td>0.458333</td>\n",
              "      <td>0.544042</td>\n",
              "      <td>0.745471</td>\n",
              "      <td>0.000995</td>\n",
              "      <td>0.864198</td>\n",
              "      <td>1.0</td>\n",
              "      <td>1.0</td>\n",
              "    </tr>\n",
              "  </tbody>\n",
              "</table>\n",
              "<p>678 rows × 11 columns</p>\n",
              "</div>\n",
              "    <div class=\"colab-df-buttons\">\n",
              "\n",
              "  <div class=\"colab-df-container\">\n",
              "    <button class=\"colab-df-convert\" onclick=\"convertToInteractive('df-a5b24231-6e65-46ec-b346-ea50842a982f')\"\n",
              "            title=\"Convert this dataframe to an interactive table.\"\n",
              "            style=\"display:none;\">\n",
              "\n",
              "  <svg xmlns=\"http://www.w3.org/2000/svg\" height=\"24px\" viewBox=\"0 -960 960 960\">\n",
              "    <path d=\"M120-120v-720h720v720H120Zm60-500h600v-160H180v160Zm220 220h160v-160H400v160Zm0 220h160v-160H400v160ZM180-400h160v-160H180v160Zm440 0h160v-160H620v160ZM180-180h160v-160H180v160Zm440 0h160v-160H620v160Z\"/>\n",
              "  </svg>\n",
              "    </button>\n",
              "\n",
              "  <style>\n",
              "    .colab-df-container {\n",
              "      display:flex;\n",
              "      gap: 12px;\n",
              "    }\n",
              "\n",
              "    .colab-df-convert {\n",
              "      background-color: #E8F0FE;\n",
              "      border: none;\n",
              "      border-radius: 50%;\n",
              "      cursor: pointer;\n",
              "      display: none;\n",
              "      fill: #1967D2;\n",
              "      height: 32px;\n",
              "      padding: 0 0 0 0;\n",
              "      width: 32px;\n",
              "    }\n",
              "\n",
              "    .colab-df-convert:hover {\n",
              "      background-color: #E2EBFA;\n",
              "      box-shadow: 0px 1px 2px rgba(60, 64, 67, 0.3), 0px 1px 3px 1px rgba(60, 64, 67, 0.15);\n",
              "      fill: #174EA6;\n",
              "    }\n",
              "\n",
              "    .colab-df-buttons div {\n",
              "      margin-bottom: 4px;\n",
              "    }\n",
              "\n",
              "    [theme=dark] .colab-df-convert {\n",
              "      background-color: #3B4455;\n",
              "      fill: #D2E3FC;\n",
              "    }\n",
              "\n",
              "    [theme=dark] .colab-df-convert:hover {\n",
              "      background-color: #434B5C;\n",
              "      box-shadow: 0px 1px 3px 1px rgba(0, 0, 0, 0.15);\n",
              "      filter: drop-shadow(0px 1px 2px rgba(0, 0, 0, 0.3));\n",
              "      fill: #FFFFFF;\n",
              "    }\n",
              "  </style>\n",
              "\n",
              "    <script>\n",
              "      const buttonEl =\n",
              "        document.querySelector('#df-a5b24231-6e65-46ec-b346-ea50842a982f button.colab-df-convert');\n",
              "      buttonEl.style.display =\n",
              "        google.colab.kernel.accessAllowed ? 'block' : 'none';\n",
              "\n",
              "      async function convertToInteractive(key) {\n",
              "        const element = document.querySelector('#df-a5b24231-6e65-46ec-b346-ea50842a982f');\n",
              "        const dataTable =\n",
              "          await google.colab.kernel.invokeFunction('convertToInteractive',\n",
              "                                                    [key], {});\n",
              "        if (!dataTable) return;\n",
              "\n",
              "        const docLinkHtml = 'Like what you see? Visit the ' +\n",
              "          '<a target=\"_blank\" href=https://colab.research.google.com/notebooks/data_table.ipynb>data table notebook</a>'\n",
              "          + ' to learn more about interactive tables.';\n",
              "        element.innerHTML = '';\n",
              "        dataTable['output_type'] = 'display_data';\n",
              "        await google.colab.output.renderOutput(dataTable, element);\n",
              "        const docLink = document.createElement('div');\n",
              "        docLink.innerHTML = docLinkHtml;\n",
              "        element.appendChild(docLink);\n",
              "      }\n",
              "    </script>\n",
              "  </div>\n",
              "\n",
              "\n",
              "<div id=\"df-79d286ac-00ec-4f2b-9763-b034cb881df5\">\n",
              "  <button class=\"colab-df-quickchart\" onclick=\"quickchart('df-79d286ac-00ec-4f2b-9763-b034cb881df5')\"\n",
              "            title=\"Suggest charts\"\n",
              "            style=\"display:none;\">\n",
              "\n",
              "<svg xmlns=\"http://www.w3.org/2000/svg\" height=\"24px\"viewBox=\"0 0 24 24\"\n",
              "     width=\"24px\">\n",
              "    <g>\n",
              "        <path d=\"M19 3H5c-1.1 0-2 .9-2 2v14c0 1.1.9 2 2 2h14c1.1 0 2-.9 2-2V5c0-1.1-.9-2-2-2zM9 17H7v-7h2v7zm4 0h-2V7h2v10zm4 0h-2v-4h2v4z\"/>\n",
              "    </g>\n",
              "</svg>\n",
              "  </button>\n",
              "\n",
              "<style>\n",
              "  .colab-df-quickchart {\n",
              "      --bg-color: #E8F0FE;\n",
              "      --fill-color: #1967D2;\n",
              "      --hover-bg-color: #E2EBFA;\n",
              "      --hover-fill-color: #174EA6;\n",
              "      --disabled-fill-color: #AAA;\n",
              "      --disabled-bg-color: #DDD;\n",
              "  }\n",
              "\n",
              "  [theme=dark] .colab-df-quickchart {\n",
              "      --bg-color: #3B4455;\n",
              "      --fill-color: #D2E3FC;\n",
              "      --hover-bg-color: #434B5C;\n",
              "      --hover-fill-color: #FFFFFF;\n",
              "      --disabled-bg-color: #3B4455;\n",
              "      --disabled-fill-color: #666;\n",
              "  }\n",
              "\n",
              "  .colab-df-quickchart {\n",
              "    background-color: var(--bg-color);\n",
              "    border: none;\n",
              "    border-radius: 50%;\n",
              "    cursor: pointer;\n",
              "    display: none;\n",
              "    fill: var(--fill-color);\n",
              "    height: 32px;\n",
              "    padding: 0;\n",
              "    width: 32px;\n",
              "  }\n",
              "\n",
              "  .colab-df-quickchart:hover {\n",
              "    background-color: var(--hover-bg-color);\n",
              "    box-shadow: 0 1px 2px rgba(60, 64, 67, 0.3), 0 1px 3px 1px rgba(60, 64, 67, 0.15);\n",
              "    fill: var(--button-hover-fill-color);\n",
              "  }\n",
              "\n",
              "  .colab-df-quickchart-complete:disabled,\n",
              "  .colab-df-quickchart-complete:disabled:hover {\n",
              "    background-color: var(--disabled-bg-color);\n",
              "    fill: var(--disabled-fill-color);\n",
              "    box-shadow: none;\n",
              "  }\n",
              "\n",
              "  .colab-df-spinner {\n",
              "    border: 2px solid var(--fill-color);\n",
              "    border-color: transparent;\n",
              "    border-bottom-color: var(--fill-color);\n",
              "    animation:\n",
              "      spin 1s steps(1) infinite;\n",
              "  }\n",
              "\n",
              "  @keyframes spin {\n",
              "    0% {\n",
              "      border-color: transparent;\n",
              "      border-bottom-color: var(--fill-color);\n",
              "      border-left-color: var(--fill-color);\n",
              "    }\n",
              "    20% {\n",
              "      border-color: transparent;\n",
              "      border-left-color: var(--fill-color);\n",
              "      border-top-color: var(--fill-color);\n",
              "    }\n",
              "    30% {\n",
              "      border-color: transparent;\n",
              "      border-left-color: var(--fill-color);\n",
              "      border-top-color: var(--fill-color);\n",
              "      border-right-color: var(--fill-color);\n",
              "    }\n",
              "    40% {\n",
              "      border-color: transparent;\n",
              "      border-right-color: var(--fill-color);\n",
              "      border-top-color: var(--fill-color);\n",
              "    }\n",
              "    60% {\n",
              "      border-color: transparent;\n",
              "      border-right-color: var(--fill-color);\n",
              "    }\n",
              "    80% {\n",
              "      border-color: transparent;\n",
              "      border-right-color: var(--fill-color);\n",
              "      border-bottom-color: var(--fill-color);\n",
              "    }\n",
              "    90% {\n",
              "      border-color: transparent;\n",
              "      border-bottom-color: var(--fill-color);\n",
              "    }\n",
              "  }\n",
              "</style>\n",
              "\n",
              "  <script>\n",
              "    async function quickchart(key) {\n",
              "      const quickchartButtonEl =\n",
              "        document.querySelector('#' + key + ' button');\n",
              "      quickchartButtonEl.disabled = true;  // To prevent multiple clicks.\n",
              "      quickchartButtonEl.classList.add('colab-df-spinner');\n",
              "      try {\n",
              "        const charts = await google.colab.kernel.invokeFunction(\n",
              "            'suggestCharts', [key], {});\n",
              "      } catch (error) {\n",
              "        console.error('Error during call to suggestCharts:', error);\n",
              "      }\n",
              "      quickchartButtonEl.classList.remove('colab-df-spinner');\n",
              "      quickchartButtonEl.classList.add('colab-df-quickchart-complete');\n",
              "    }\n",
              "    (() => {\n",
              "      let quickchartButtonEl =\n",
              "        document.querySelector('#df-79d286ac-00ec-4f2b-9763-b034cb881df5 button');\n",
              "      quickchartButtonEl.style.display =\n",
              "        google.colab.kernel.accessAllowed ? 'block' : 'none';\n",
              "    })();\n",
              "  </script>\n",
              "</div>\n",
              "\n",
              "  <div id=\"id_25ad44e7-f560-4c5b-9c6b-bbaa51a57abe\">\n",
              "    <style>\n",
              "      .colab-df-generate {\n",
              "        background-color: #E8F0FE;\n",
              "        border: none;\n",
              "        border-radius: 50%;\n",
              "        cursor: pointer;\n",
              "        display: none;\n",
              "        fill: #1967D2;\n",
              "        height: 32px;\n",
              "        padding: 0 0 0 0;\n",
              "        width: 32px;\n",
              "      }\n",
              "\n",
              "      .colab-df-generate:hover {\n",
              "        background-color: #E2EBFA;\n",
              "        box-shadow: 0px 1px 2px rgba(60, 64, 67, 0.3), 0px 1px 3px 1px rgba(60, 64, 67, 0.15);\n",
              "        fill: #174EA6;\n",
              "      }\n",
              "\n",
              "      [theme=dark] .colab-df-generate {\n",
              "        background-color: #3B4455;\n",
              "        fill: #D2E3FC;\n",
              "      }\n",
              "\n",
              "      [theme=dark] .colab-df-generate:hover {\n",
              "        background-color: #434B5C;\n",
              "        box-shadow: 0px 1px 3px 1px rgba(0, 0, 0, 0.15);\n",
              "        filter: drop-shadow(0px 1px 2px rgba(0, 0, 0, 0.3));\n",
              "        fill: #FFFFFF;\n",
              "      }\n",
              "    </style>\n",
              "    <button class=\"colab-df-generate\" onclick=\"generateWithVariable('x_test')\"\n",
              "            title=\"Generate code using this dataframe.\"\n",
              "            style=\"display:none;\">\n",
              "\n",
              "  <svg xmlns=\"http://www.w3.org/2000/svg\" height=\"24px\"viewBox=\"0 0 24 24\"\n",
              "       width=\"24px\">\n",
              "    <path d=\"M7,19H8.4L18.45,9,17,7.55,7,17.6ZM5,21V16.75L18.45,3.32a2,2,0,0,1,2.83,0l1.4,1.43a1.91,1.91,0,0,1,.58,1.4,1.91,1.91,0,0,1-.58,1.4L9.25,21ZM18.45,9,17,7.55Zm-12,3A5.31,5.31,0,0,0,4.9,8.1,5.31,5.31,0,0,0,1,6.5,5.31,5.31,0,0,0,4.9,4.9,5.31,5.31,0,0,0,6.5,1,5.31,5.31,0,0,0,8.1,4.9,5.31,5.31,0,0,0,12,6.5,5.46,5.46,0,0,0,6.5,12Z\"/>\n",
              "  </svg>\n",
              "    </button>\n",
              "    <script>\n",
              "      (() => {\n",
              "      const buttonEl =\n",
              "        document.querySelector('#id_25ad44e7-f560-4c5b-9c6b-bbaa51a57abe button.colab-df-generate');\n",
              "      buttonEl.style.display =\n",
              "        google.colab.kernel.accessAllowed ? 'block' : 'none';\n",
              "\n",
              "      buttonEl.onclick = () => {\n",
              "        google.colab.notebook.generateWithVariable('x_test');\n",
              "      }\n",
              "      })();\n",
              "    </script>\n",
              "  </div>\n",
              "\n",
              "    </div>\n",
              "  </div>\n"
            ],
            "application/vnd.google.colaboratory.intrinsic+json": {
              "type": "dataframe",
              "variable_name": "x_test",
              "summary": "{\n  \"name\": \"x_test\",\n  \"rows\": 678,\n  \"fields\": [\n    {\n      \"column\": 0,\n      \"properties\": {\n        \"dtype\": \"number\",\n        \"std\": 0.4204286106368693,\n        \"min\": 0.0,\n        \"max\": 1.0,\n        \"num_unique_values\": 3,\n        \"samples\": [\n          1.0,\n          0.5,\n          0.0\n        ],\n        \"semantic_type\": \"\",\n        \"description\": \"\"\n      }\n    },\n    {\n      \"column\": 1,\n      \"properties\": {\n        \"dtype\": \"number\",\n        \"std\": 0.29556293016735297,\n        \"min\": 0.0,\n        \"max\": 1.0,\n        \"num_unique_values\": 14,\n        \"samples\": [\n          0.3076923076923077,\n          0.5384615384615385,\n          0.8461538461538463\n        ],\n        \"semantic_type\": \"\",\n        \"description\": \"\"\n      }\n    },\n    {\n      \"column\": 2,\n      \"properties\": {\n        \"dtype\": \"number\",\n        \"std\": 0.05886702504578983,\n        \"min\": 2.493572816066584e-06,\n        \"max\": 1.0,\n        \"num_unique_values\": 665,\n        \"samples\": [\n          0.12876435986245452,\n          0.09877166603080562,\n          0.0002867608738476577\n        ],\n        \"semantic_type\": \"\",\n        \"description\": \"\"\n      }\n    },\n    {\n      \"column\": 3,\n      \"properties\": {\n        \"dtype\": \"number\",\n        \"std\": 0.2817130239573273,\n        \"min\": 0.0,\n        \"max\": 0.9971751412429378,\n        \"num_unique_values\": 365,\n        \"samples\": [\n          0.8926553672316384,\n          0.6822033898305084,\n          0.9675141242937854\n        ],\n        \"semantic_type\": \"\",\n        \"description\": \"\"\n      }\n    },\n    {\n      \"column\": 4,\n      \"properties\": {\n        \"dtype\": \"number\",\n        \"std\": 0.27655588195211195,\n        \"min\": 0.0,\n        \"max\": 1.0,\n        \"num_unique_values\": 48,\n        \"samples\": [\n          0.22916666666666666,\n          0.29166666666666663,\n          0.08333333333333333\n        ],\n        \"semantic_type\": \"\",\n        \"description\": \"\"\n      }\n    },\n    {\n      \"column\": 5,\n      \"properties\": {\n        \"dtype\": \"number\",\n        \"std\": 0.11268521514436701,\n        \"min\": 0.0012176213460409757,\n        \"max\": 0.9795391434603223,\n        \"num_unique_values\": 376,\n        \"samples\": [\n          0.4108946450940373,\n          0.4900641222176477,\n          0.16399344762038248\n        ],\n        \"semantic_type\": \"\",\n        \"description\": \"\"\n      }\n    },\n    {\n      \"column\": 6,\n      \"properties\": {\n        \"dtype\": \"number\",\n        \"std\": 0.14833272782963192,\n        \"min\": 0.0,\n        \"max\": 1.0,\n        \"num_unique_values\": 375,\n        \"samples\": [\n          0.854153619451096,\n          0.9384928675221547,\n          0.6783313890423854\n        ],\n        \"semantic_type\": \"\",\n        \"description\": \"\"\n      }\n    },\n    {\n      \"column\": 7,\n      \"properties\": {\n        \"dtype\": \"number\",\n        \"std\": 0.10875800258874414,\n        \"min\": 0.0,\n        \"max\": 1.0,\n        \"num_unique_values\": 367,\n        \"samples\": [\n          0.0019107730236280125,\n          0.002039098255499321,\n          1.7201773709290714e-05\n        ],\n        \"semantic_type\": \"\",\n        \"description\": \"\"\n      }\n    },\n    {\n      \"column\": 8,\n      \"properties\": {\n        \"dtype\": \"number\",\n        \"std\": 0.22100304983721053,\n        \"min\": 0.0,\n        \"max\": 1.0,\n        \"num_unique_values\": 73,\n        \"samples\": [\n          0.35802469135802467,\n          0.8518518518518519,\n          0.4938271604938271\n        ],\n        \"semantic_type\": \"\",\n        \"description\": \"\"\n      }\n    },\n    {\n      \"column\": \"prediction\",\n      \"properties\": {\n        \"dtype\": \"number\",\n        \"std\": 0.4929912737423545,\n        \"min\": 0.0,\n        \"max\": 1.0,\n        \"num_unique_values\": 2,\n        \"samples\": [\n          0.0,\n          1.0\n        ],\n        \"semantic_type\": \"\",\n        \"description\": \"\"\n      }\n    },\n    {\n      \"column\": \"pred_threshold\",\n      \"properties\": {\n        \"dtype\": \"number\",\n        \"std\": 0.49349480394337353,\n        \"min\": 0.0,\n        \"max\": 1.0,\n        \"num_unique_values\": 2,\n        \"samples\": [\n          0.0,\n          1.0\n        ],\n        \"semantic_type\": \"\",\n        \"description\": \"\"\n      }\n    }\n  ]\n}"
            }
          },
          "metadata": {},
          "execution_count": 80
        }
      ],
      "source": [
        "# Use 0.4 as threshold for LR model\n",
        "predict(model_SVM, x_test, 0.4)"
      ]
    },
    {
      "cell_type": "code",
      "execution_count": 81,
      "id": "e808451e",
      "metadata": {
        "execution": {
          "iopub.execute_input": "2024-05-22T14:17:49.044511Z",
          "iopub.status.busy": "2024-05-22T14:17:49.044014Z",
          "iopub.status.idle": "2024-05-22T14:17:49.084654Z",
          "shell.execute_reply": "2024-05-22T14:17:49.083239Z"
        },
        "papermill": {
          "duration": 0.073102,
          "end_time": "2024-05-22T14:17:49.087653",
          "exception": false,
          "start_time": "2024-05-22T14:17:49.014551",
          "status": "completed"
        },
        "tags": [],
        "colab": {
          "base_uri": "https://localhost:8080/"
        },
        "id": "e808451e",
        "outputId": "7f544ea7-1c17-4a1a-f906-89ad0f3ba3f8"
      },
      "outputs": [
        {
          "output_type": "stream",
          "name": "stdout",
          "text": [
            "              precision    recall  f1-score   support\n",
            "\n",
            "         0.0       0.85      0.75      0.80       318\n",
            "         1.0       0.80      0.88      0.84       360\n",
            "\n",
            "    accuracy                           0.82       678\n",
            "   macro avg       0.83      0.82      0.82       678\n",
            "weighted avg       0.82      0.82      0.82       678\n",
            "\n",
            "              precision    recall  f1-score   support\n",
            "\n",
            "         0.0       0.85      0.75      0.80       318\n",
            "         1.0       0.80      0.88      0.84       360\n",
            "\n",
            "    accuracy                           0.82       678\n",
            "   macro avg       0.83      0.82      0.82       678\n",
            "weighted avg       0.82      0.82      0.82       678\n",
            "\n"
          ]
        }
      ],
      "source": [
        "x_test[\"real\"] = y_test[\"is_fraud\"]\n",
        "\n",
        "# With 0.5 threshold\n",
        "print(classification_report(x_test['real'], x_test['prediction']))\n",
        "# With 0.4 threshold\n",
        "print(classification_report(x_test['real'], x_test['pred_threshold']))"
      ]
    },
    {
      "cell_type": "markdown",
      "id": "872e0362",
      "metadata": {
        "papermill": {
          "duration": 0.027688,
          "end_time": "2024-05-22T14:17:49.145773",
          "exception": false,
          "start_time": "2024-05-22T14:17:49.118085",
          "status": "completed"
        },
        "tags": [],
        "id": "872e0362"
      },
      "source": [
        "In this case, we've got more balanced metrics, and a little improvement in recall. The f1-score is somewhat similar to LR."
      ]
    },
    {
      "cell_type": "code",
      "execution_count": 82,
      "id": "5f3f0b07",
      "metadata": {
        "execution": {
          "iopub.execute_input": "2024-05-22T14:17:49.204808Z",
          "iopub.status.busy": "2024-05-22T14:17:49.204342Z",
          "iopub.status.idle": "2024-05-22T14:17:49.464616Z",
          "shell.execute_reply": "2024-05-22T14:17:49.463254Z"
        },
        "papermill": {
          "duration": 0.292637,
          "end_time": "2024-05-22T14:17:49.467396",
          "exception": false,
          "start_time": "2024-05-22T14:17:49.174759",
          "status": "completed"
        },
        "tags": [],
        "colab": {
          "base_uri": "https://localhost:8080/",
          "height": 449
        },
        "id": "5f3f0b07",
        "outputId": "a4776e2b-6a55-4a12-b7fb-7b066a847ed2"
      },
      "outputs": [
        {
          "output_type": "display_data",
          "data": {
            "text/plain": [
              "<Figure size 640x480 with 2 Axes>"
            ],
            "image/png": "[encoded data removed]"
          },
          "metadata": {}
        }
      ],
      "source": [
        "confusion_matrix_plot(x_test, 'pred_threshold', model_SVM)"
      ]
    },
    {
      "cell_type": "markdown",
      "id": "b3cdc93d",
      "metadata": {
        "papermill": {
          "duration": 0.02769,
          "end_time": "2024-05-22T14:17:49.523397",
          "exception": false,
          "start_time": "2024-05-22T14:17:49.495707",
          "status": "completed"
        },
        "tags": [],
        "id": "b3cdc93d"
      },
      "source": [
        "# XGBoost Model"
      ]
    },
    {
      "cell_type": "markdown",
      "id": "c2ad12cc",
      "metadata": {
        "papermill": {
          "duration": 0.028332,
          "end_time": "2024-05-22T14:17:49.581772",
          "exception": false,
          "start_time": "2024-05-22T14:17:49.553440",
          "status": "completed"
        },
        "tags": [],
        "id": "c2ad12cc"
      },
      "source": [
        "Finally, I will implement XGBoost model and compare with LR and SVC."
      ]
    },
    {
      "cell_type": "code",
      "execution_count": 83,
      "id": "0f7f5881",
      "metadata": {
        "execution": {
          "iopub.execute_input": "2024-05-22T14:17:49.641983Z",
          "iopub.status.busy": "2024-05-22T14:17:49.641459Z",
          "iopub.status.idle": "2024-05-22T14:17:49.986541Z",
          "shell.execute_reply": "2024-05-22T14:17:49.985412Z"
        },
        "papermill": {
          "duration": 0.379084,
          "end_time": "2024-05-22T14:17:49.989727",
          "exception": false,
          "start_time": "2024-05-22T14:17:49.610643",
          "status": "completed"
        },
        "tags": [],
        "id": "0f7f5881"
      },
      "outputs": [],
      "source": [
        "from xgboost import XGBClassifier"
      ]
    },
    {
      "cell_type": "code",
      "execution_count": 84,
      "id": "1ad10f28",
      "metadata": {
        "execution": {
          "iopub.execute_input": "2024-05-22T14:17:50.050171Z",
          "iopub.status.busy": "2024-05-22T14:17:50.048986Z",
          "iopub.status.idle": "2024-05-22T14:17:50.054553Z",
          "shell.execute_reply": "2024-05-22T14:17:50.053334Z"
        },
        "papermill": {
          "duration": 0.038242,
          "end_time": "2024-05-22T14:17:50.057356",
          "exception": false,
          "start_time": "2024-05-22T14:17:50.019114",
          "status": "completed"
        },
        "tags": [],
        "id": "1ad10f28"
      },
      "outputs": [],
      "source": [
        "# XGBoost classifier model\n",
        "xgb = XGBClassifier(objective='binary:logistic')"
      ]
    },
    {
      "cell_type": "code",
      "execution_count": 85,
      "id": "11091d1a",
      "metadata": {
        "execution": {
          "iopub.execute_input": "2024-05-22T14:17:50.120766Z",
          "iopub.status.busy": "2024-05-22T14:17:50.120321Z",
          "iopub.status.idle": "2024-05-22T14:17:50.401466Z",
          "shell.execute_reply": "2024-05-22T14:17:50.400238Z"
        },
        "papermill": {
          "duration": 0.31728,
          "end_time": "2024-05-22T14:17:50.404589",
          "exception": false,
          "start_time": "2024-05-22T14:17:50.087309",
          "status": "completed"
        },
        "tags": [],
        "colab": {
          "base_uri": "https://localhost:8080/",
          "height": 248
        },
        "id": "11091d1a",
        "outputId": "8b4817c7-249e-4236-eeaf-b81a5119cc58"
      },
      "outputs": [
        {
          "output_type": "execute_result",
          "data": {
            "text/plain": [
              "XGBClassifier(base_score=None, booster=None, callbacks=None,\n",
              "              colsample_bylevel=None, colsample_bynode=None,\n",
              "              colsample_bytree=None, device=None, early_stopping_rounds=None,\n",
              "              enable_categorical=False, eval_metric=None, feature_types=None,\n",
              "              gamma=None, grow_policy=None, importance_type=None,\n",
              "              interaction_constraints=None, learning_rate=None, max_bin=None,\n",
              "              max_cat_threshold=None, max_cat_to_onehot=None,\n",
              "              max_delta_step=None, max_depth=None, max_leaves=None,\n",
              "              min_child_weight=None, missing=nan, monotone_constraints=None,\n",
              "              multi_strategy=None, n_estimators=None, n_jobs=None,\n",
              "              num_parallel_tree=None, random_state=None, ...)"
            ],
            "text/html": [
              "<style>#sk-container-id-3 {color: black;background-color: white;}#sk-container-id-3 pre{padding: 0;}#sk-container-id-3 div.sk-toggleable {background-color: white;}#sk-container-id-3 label.sk-toggleable__label {cursor: pointer;display: block;width: 100%;margin-bottom: 0;padding: 0.3em;box-sizing: border-box;text-align: center;}#sk-container-id-3 label.sk-toggleable__label-arrow:before {content: \"▸\";float: left;margin-right: 0.25em;color: #696969;}#sk-container-id-3 label.sk-toggleable__label-arrow:hover:before {color: black;}#sk-container-id-3 div.sk-estimator:hover label.sk-toggleable__label-arrow:before {color: black;}#sk-container-id-3 div.sk-toggleable__content {max-height: 0;max-width: 0;overflow: hidden;text-align: left;background-color: #f0f8ff;}#sk-container-id-3 div.sk-toggleable__content pre {margin: 0.2em;color: black;border-radius: 0.25em;background-color: #f0f8ff;}#sk-container-id-3 input.sk-toggleable__control:checked~div.sk-toggleable__content {max-height: 200px;max-width: 100%;overflow: auto;}#sk-container-id-3 input.sk-toggleable__control:checked~label.sk-toggleable__label-arrow:before {content: \"▾\";}#sk-container-id-3 div.sk-estimator input.sk-toggleable__control:checked~label.sk-toggleable__label {background-color: #d4ebff;}#sk-container-id-3 div.sk-label input.sk-toggleable__control:checked~label.sk-toggleable__label {background-color: #d4ebff;}#sk-container-id-3 input.sk-hidden--visually {border: 0;clip: rect(1px 1px 1px 1px);clip: rect(1px, 1px, 1px, 1px);height: 1px;margin: -1px;overflow: hidden;padding: 0;position: absolute;width: 1px;}#sk-container-id-3 div.sk-estimator {font-family: monospace;background-color: #f0f8ff;border: 1px dotted black;border-radius: 0.25em;box-sizing: border-box;margin-bottom: 0.5em;}#sk-container-id-3 div.sk-estimator:hover {background-color: #d4ebff;}#sk-container-id-3 div.sk-parallel-item::after {content: \"\";width: 100%;border-bottom: 1px solid gray;flex-grow: 1;}#sk-container-id-3 div.sk-label:hover label.sk-toggleable__label {background-color: #d4ebff;}#sk-container-id-3 div.sk-serial::before {content: \"\";position: absolute;border-left: 1px solid gray;box-sizing: border-box;top: 0;bottom: 0;left: 50%;z-index: 0;}#sk-container-id-3 div.sk-serial {display: flex;flex-direction: column;align-items: center;background-color: white;padding-right: 0.2em;padding-left: 0.2em;position: relative;}#sk-container-id-3 div.sk-item {position: relative;z-index: 1;}#sk-container-id-3 div.sk-parallel {display: flex;align-items: stretch;justify-content: center;background-color: white;position: relative;}#sk-container-id-3 div.sk-item::before, #sk-container-id-3 div.sk-parallel-item::before {content: \"\";position: absolute;border-left: 1px solid gray;box-sizing: border-box;top: 0;bottom: 0;left: 50%;z-index: -1;}#sk-container-id-3 div.sk-parallel-item {display: flex;flex-direction: column;z-index: 1;position: relative;background-color: white;}#sk-container-id-3 div.sk-parallel-item:first-child::after {align-self: flex-end;width: 50%;}#sk-container-id-3 div.sk-parallel-item:last-child::after {align-self: flex-start;width: 50%;}#sk-container-id-3 div.sk-parallel-item:only-child::after {width: 0;}#sk-container-id-3 div.sk-dashed-wrapped {border: 1px dashed gray;margin: 0 0.4em 0.5em 0.4em;box-sizing: border-box;padding-bottom: 0.4em;background-color: white;}#sk-container-id-3 div.sk-label label {font-family: monospace;font-weight: bold;display: inline-block;line-height: 1.2em;}#sk-container-id-3 div.sk-label-container {text-align: center;}#sk-container-id-3 div.sk-container {/* jupyter's `normalize.less` sets `[hidden] { display: none; }` but bootstrap.min.css set `[hidden] { display: none !important; }` so we also need the `!important` here to be able to override the default hidden behavior on the sphinx rendered scikit-learn.org. See: https://github.com/scikit-learn/scikit-learn/issues/21755 */display: inline-block !important;position: relative;}#sk-container-id-3 div.sk-text-repr-fallback {display: none;}</style><div id=\"sk-container-id-3\" class=\"sk-top-container\"><div class=\"sk-text-repr-fallback\"><pre>XGBClassifier(base_score=None, booster=None, callbacks=None,\n",
              "              colsample_bylevel=None, colsample_bynode=None,\n",
              "              colsample_bytree=None, device=None, early_stopping_rounds=None,\n",
              "              enable_categorical=False, eval_metric=None, feature_types=None,\n",
              "              gamma=None, grow_policy=None, importance_type=None,\n",
              "              interaction_constraints=None, learning_rate=None, max_bin=None,\n",
              "              max_cat_threshold=None, max_cat_to_onehot=None,\n",
              "              max_delta_step=None, max_depth=None, max_leaves=None,\n",
              "              min_child_weight=None, missing=nan, monotone_constraints=None,\n",
              "              multi_strategy=None, n_estimators=None, n_jobs=None,\n",
              "              num_parallel_tree=None, random_state=None, ...)</pre><b>In a Jupyter environment, please rerun this cell to show the HTML representation or trust the notebook. <br />On GitHub, the HTML representation is unable to render, please try loading this page with nbviewer.org.</b></div><div class=\"sk-container\" hidden><div class=\"sk-item\"><div class=\"sk-estimator sk-toggleable\"><input class=\"sk-toggleable__control sk-hidden--visually\" id=\"sk-estimator-id-3\" type=\"checkbox\" checked><label for=\"sk-estimator-id-3\" class=\"sk-toggleable__label sk-toggleable__label-arrow\">XGBClassifier</label><div class=\"sk-toggleable__content\"><pre>XGBClassifier(base_score=None, booster=None, callbacks=None,\n",
              "              colsample_bylevel=None, colsample_bynode=None,\n",
              "              colsample_bytree=None, device=None, early_stopping_rounds=None,\n",
              "              enable_categorical=False, eval_metric=None, feature_types=None,\n",
              "              gamma=None, grow_policy=None, importance_type=None,\n",
              "              interaction_constraints=None, learning_rate=None, max_bin=None,\n",
              "              max_cat_threshold=None, max_cat_to_onehot=None,\n",
              "              max_delta_step=None, max_depth=None, max_leaves=None,\n",
              "              min_child_weight=None, missing=nan, monotone_constraints=None,\n",
              "              multi_strategy=None, n_estimators=None, n_jobs=None,\n",
              "              num_parallel_tree=None, random_state=None, ...)</pre></div></div></div></div></div>"
            ]
          },
          "metadata": {},
          "execution_count": 85
        }
      ],
      "source": [
        "xgb.fit(x_train, y_train)"
      ]
    },
    {
      "cell_type": "code",
      "execution_count": 86,
      "id": "50cca10d",
      "metadata": {
        "execution": {
          "iopub.execute_input": "2024-05-22T14:17:50.464109Z",
          "iopub.status.busy": "2024-05-22T14:17:50.463552Z",
          "iopub.status.idle": "2024-05-22T14:17:50.470502Z",
          "shell.execute_reply": "2024-05-22T14:17:50.469208Z"
        },
        "papermill": {
          "duration": 0.039765,
          "end_time": "2024-05-22T14:17:50.473244",
          "exception": false,
          "start_time": "2024-05-22T14:17:50.433479",
          "status": "completed"
        },
        "tags": [],
        "id": "50cca10d"
      },
      "outputs": [],
      "source": [
        "# Drop again our last predictions\n",
        "x_test = x_test.drop(columns = {'prediction','pred_threshold' ,'real'})"
      ]
    },
    {
      "cell_type": "code",
      "execution_count": 87,
      "id": "936d128d",
      "metadata": {
        "execution": {
          "iopub.execute_input": "2024-05-22T14:17:50.532506Z",
          "iopub.status.busy": "2024-05-22T14:17:50.532020Z",
          "iopub.status.idle": "2024-05-22T14:17:50.573063Z",
          "shell.execute_reply": "2024-05-22T14:17:50.571911Z"
        },
        "papermill": {
          "duration": 0.074436,
          "end_time": "2024-05-22T14:17:50.576184",
          "exception": false,
          "start_time": "2024-05-22T14:17:50.501748",
          "status": "completed"
        },
        "tags": [],
        "colab": {
          "base_uri": "https://localhost:8080/",
          "height": 443
        },
        "id": "936d128d",
        "outputId": "d9fb701a-3fd9-4993-f257-87272f62869c"
      },
      "outputs": [
        {
          "output_type": "execute_result",
          "data": {
            "text/plain": [
              "        0         1         2         3         4         5         6  \\\n",
              "134   1.0  0.846154  0.096712  0.176554  0.770833  0.470698  0.876108   \n",
              "1764  0.5  0.153846  0.007713  0.538136  0.770833  0.444756  0.880166   \n",
              "2465  0.0  0.461538  0.006381  0.933616  0.708333  0.465079  0.868340   \n",
              "1987  0.0  0.384615  0.009305  0.816384  0.770833  0.444160  0.914594   \n",
              "1295  1.0  0.692308  0.000888  0.354520  0.541667  0.331922  0.861803   \n",
              "...   ...       ...       ...       ...       ...       ...       ...   \n",
              "1052  1.0  0.307692  0.043106  0.112994  0.687500  0.485445  0.910094   \n",
              "759   1.0  0.153846  0.001086  0.008475  0.645833  0.329130  0.604999   \n",
              "2069  0.0  0.538462  0.020042  0.751412  0.458333  0.625805  0.740617   \n",
              "3166  1.0  0.153846  0.006138  0.015537  0.687500  0.482813  0.896552   \n",
              "857   1.0  0.846154  0.140351  0.004237  0.458333  0.544042  0.745471   \n",
              "\n",
              "             7         8  prediction  pred_threshold  \n",
              "134   0.001887  0.395062           1             1.0  \n",
              "1764  0.000499  0.790123           0             0.0  \n",
              "2465  0.026105  0.592593           0             0.0  \n",
              "1987  0.000275  0.283951           0             0.0  \n",
              "1295  0.001926  0.395062           1             1.0  \n",
              "...        ...       ...         ...             ...  \n",
              "1052  0.000171  0.172840           1             1.0  \n",
              "759   0.220639  0.469136           1             1.0  \n",
              "2069  0.000039  0.061728           0             0.0  \n",
              "3166  0.000074  0.604938           0             0.0  \n",
              "857   0.000995  0.864198           1             1.0  \n",
              "\n",
              "[678 rows x 11 columns]"
            ],
            "text/html": [
              "\n",
              "  <div id=\"df-0894592e-6bd0-4c10-86fa-4c504923f758\" class=\"colab-df-container\">\n",
              "    <div>\n",
              "<style scoped>\n",
              "    .dataframe tbody tr th:only-of-type {\n",
              "        vertical-align: middle;\n",
              "    }\n",
              "\n",
              "    .dataframe tbody tr th {\n",
              "        vertical-align: top;\n",
              "    }\n",
              "\n",
              "    .dataframe thead th {\n",
              "        text-align: right;\n",
              "    }\n",
              "</style>\n",
              "<table border=\"1\" class=\"dataframe\">\n",
              "  <thead>\n",
              "    <tr style=\"text-align: right;\">\n",
              "      <th></th>\n",
              "      <th>0</th>\n",
              "      <th>1</th>\n",
              "      <th>2</th>\n",
              "      <th>3</th>\n",
              "      <th>4</th>\n",
              "      <th>5</th>\n",
              "      <th>6</th>\n",
              "      <th>7</th>\n",
              "      <th>8</th>\n",
              "      <th>prediction</th>\n",
              "      <th>pred_threshold</th>\n",
              "    </tr>\n",
              "  </thead>\n",
              "  <tbody>\n",
              "    <tr>\n",
              "      <th>134</th>\n",
              "      <td>1.0</td>\n",
              "      <td>0.846154</td>\n",
              "      <td>0.096712</td>\n",
              "      <td>0.176554</td>\n",
              "      <td>0.770833</td>\n",
              "      <td>0.470698</td>\n",
              "      <td>0.876108</td>\n",
              "      <td>0.001887</td>\n",
              "      <td>0.395062</td>\n",
              "      <td>1</td>\n",
              "      <td>1.0</td>\n",
              "    </tr>\n",
              "    <tr>\n",
              "      <th>1764</th>\n",
              "      <td>0.5</td>\n",
              "      <td>0.153846</td>\n",
              "      <td>0.007713</td>\n",
              "      <td>0.538136</td>\n",
              "      <td>0.770833</td>\n",
              "      <td>0.444756</td>\n",
              "      <td>0.880166</td>\n",
              "      <td>0.000499</td>\n",
              "      <td>0.790123</td>\n",
              "      <td>0</td>\n",
              "      <td>0.0</td>\n",
              "    </tr>\n",
              "    <tr>\n",
              "      <th>2465</th>\n",
              "      <td>0.0</td>\n",
              "      <td>0.461538</td>\n",
              "      <td>0.006381</td>\n",
              "      <td>0.933616</td>\n",
              "      <td>0.708333</td>\n",
              "      <td>0.465079</td>\n",
              "      <td>0.868340</td>\n",
              "      <td>0.026105</td>\n",
              "      <td>0.592593</td>\n",
              "      <td>0</td>\n",
              "      <td>0.0</td>\n",
              "    </tr>\n",
              "    <tr>\n",
              "      <th>1987</th>\n",
              "      <td>0.0</td>\n",
              "      <td>0.384615</td>\n",
              "      <td>0.009305</td>\n",
              "      <td>0.816384</td>\n",
              "      <td>0.770833</td>\n",
              "      <td>0.444160</td>\n",
              "      <td>0.914594</td>\n",
              "      <td>0.000275</td>\n",
              "      <td>0.283951</td>\n",
              "      <td>0</td>\n",
              "      <td>0.0</td>\n",
              "    </tr>\n",
              "    <tr>\n",
              "      <th>1295</th>\n",
              "      <td>1.0</td>\n",
              "      <td>0.692308</td>\n",
              "      <td>0.000888</td>\n",
              "      <td>0.354520</td>\n",
              "      <td>0.541667</td>\n",
              "      <td>0.331922</td>\n",
              "      <td>0.861803</td>\n",
              "      <td>0.001926</td>\n",
              "      <td>0.395062</td>\n",
              "      <td>1</td>\n",
              "      <td>1.0</td>\n",
              "    </tr>\n",
              "    <tr>\n",
              "      <th>...</th>\n",
              "      <td>...</td>\n",
              "      <td>...</td>\n",
              "      <td>...</td>\n",
              "      <td>...</td>\n",
              "      <td>...</td>\n",
              "      <td>...</td>\n",
              "      <td>...</td>\n",
              "      <td>...</td>\n",
              "      <td>...</td>\n",
              "      <td>...</td>\n",
              "      <td>...</td>\n",
              "    </tr>\n",
              "    <tr>\n",
              "      <th>1052</th>\n",
              "      <td>1.0</td>\n",
              "      <td>0.307692</td>\n",
              "      <td>0.043106</td>\n",
              "      <td>0.112994</td>\n",
              "      <td>0.687500</td>\n",
              "      <td>0.485445</td>\n",
              "      <td>0.910094</td>\n",
              "      <td>0.000171</td>\n",
              "      <td>0.172840</td>\n",
              "      <td>1</td>\n",
              "      <td>1.0</td>\n",
              "    </tr>\n",
              "    <tr>\n",
              "      <th>759</th>\n",
              "      <td>1.0</td>\n",
              "      <td>0.153846</td>\n",
              "      <td>0.001086</td>\n",
              "      <td>0.008475</td>\n",
              "      <td>0.645833</td>\n",
              "      <td>0.329130</td>\n",
              "      <td>0.604999</td>\n",
              "      <td>0.220639</td>\n",
              "      <td>0.469136</td>\n",
              "      <td>1</td>\n",
              "      <td>1.0</td>\n",
              "    </tr>\n",
              "    <tr>\n",
              "      <th>2069</th>\n",
              "      <td>0.0</td>\n",
              "      <td>0.538462</td>\n",
              "      <td>0.020042</td>\n",
              "      <td>0.751412</td>\n",
              "      <td>0.458333</td>\n",
              "      <td>0.625805</td>\n",
              "      <td>0.740617</td>\n",
              "      <td>0.000039</td>\n",
              "      <td>0.061728</td>\n",
              "      <td>0</td>\n",
              "      <td>0.0</td>\n",
              "    </tr>\n",
              "    <tr>\n",
              "      <th>3166</th>\n",
              "      <td>1.0</td>\n",
              "      <td>0.153846</td>\n",
              "      <td>0.006138</td>\n",
              "      <td>0.015537</td>\n",
              "      <td>0.687500</td>\n",
              "      <td>0.482813</td>\n",
              "      <td>0.896552</td>\n",
              "      <td>0.000074</td>\n",
              "      <td>0.604938</td>\n",
              "      <td>0</td>\n",
              "      <td>0.0</td>\n",
              "    </tr>\n",
              "    <tr>\n",
              "      <th>857</th>\n",
              "      <td>1.0</td>\n",
              "      <td>0.846154</td>\n",
              "      <td>0.140351</td>\n",
              "      <td>0.004237</td>\n",
              "      <td>0.458333</td>\n",
              "      <td>0.544042</td>\n",
              "      <td>0.745471</td>\n",
              "      <td>0.000995</td>\n",
              "      <td>0.864198</td>\n",
              "      <td>1</td>\n",
              "      <td>1.0</td>\n",
              "    </tr>\n",
              "  </tbody>\n",
              "</table>\n",
              "<p>678 rows × 11 columns</p>\n",
              "</div>\n",
              "    <div class=\"colab-df-buttons\">\n",
              "\n",
              "  <div class=\"colab-df-container\">\n",
              "    <button class=\"colab-df-convert\" onclick=\"convertToInteractive('df-0894592e-6bd0-4c10-86fa-4c504923f758')\"\n",
              "            title=\"Convert this dataframe to an interactive table.\"\n",
              "            style=\"display:none;\">\n",
              "\n",
              "  <svg xmlns=\"http://www.w3.org/2000/svg\" height=\"24px\" viewBox=\"0 -960 960 960\">\n",
              "    <path d=\"M120-120v-720h720v720H120Zm60-500h600v-160H180v160Zm220 220h160v-160H400v160Zm0 220h160v-160H400v160ZM180-400h160v-160H180v160Zm440 0h160v-160H620v160ZM180-180h160v-160H180v160Zm440 0h160v-160H620v160Z\"/>\n",
              "  </svg>\n",
              "    </button>\n",
              "\n",
              "  <style>\n",
              "    .colab-df-container {\n",
              "      display:flex;\n",
              "      gap: 12px;\n",
              "    }\n",
              "\n",
              "    .colab-df-convert {\n",
              "      background-color: #E8F0FE;\n",
              "      border: none;\n",
              "      border-radius: 50%;\n",
              "      cursor: pointer;\n",
              "      display: none;\n",
              "      fill: #1967D2;\n",
              "      height: 32px;\n",
              "      padding: 0 0 0 0;\n",
              "      width: 32px;\n",
              "    }\n",
              "\n",
              "    .colab-df-convert:hover {\n",
              "      background-color: #E2EBFA;\n",
              "      box-shadow: 0px 1px 2px rgba(60, 64, 67, 0.3), 0px 1px 3px 1px rgba(60, 64, 67, 0.15);\n",
              "      fill: #174EA6;\n",
              "    }\n",
              "\n",
              "    .colab-df-buttons div {\n",
              "      margin-bottom: 4px;\n",
              "    }\n",
              "\n",
              "    [theme=dark] .colab-df-convert {\n",
              "      background-color: #3B4455;\n",
              "      fill: #D2E3FC;\n",
              "    }\n",
              "\n",
              "    [theme=dark] .colab-df-convert:hover {\n",
              "      background-color: #434B5C;\n",
              "      box-shadow: 0px 1px 3px 1px rgba(0, 0, 0, 0.15);\n",
              "      filter: drop-shadow(0px 1px 2px rgba(0, 0, 0, 0.3));\n",
              "      fill: #FFFFFF;\n",
              "    }\n",
              "  </style>\n",
              "\n",
              "    <script>\n",
              "      const buttonEl =\n",
              "        document.querySelector('#df-0894592e-6bd0-4c10-86fa-4c504923f758 button.colab-df-convert');\n",
              "      buttonEl.style.display =\n",
              "        google.colab.kernel.accessAllowed ? 'block' : 'none';\n",
              "\n",
              "      async function convertToInteractive(key) {\n",
              "        const element = document.querySelector('#df-0894592e-6bd0-4c10-86fa-4c504923f758');\n",
              "        const dataTable =\n",
              "          await google.colab.kernel.invokeFunction('convertToInteractive',\n",
              "                                                    [key], {});\n",
              "        if (!dataTable) return;\n",
              "\n",
              "        const docLinkHtml = 'Like what you see? Visit the ' +\n",
              "          '<a target=\"_blank\" href=https://colab.research.google.com/notebooks/data_table.ipynb>data table notebook</a>'\n",
              "          + ' to learn more about interactive tables.';\n",
              "        element.innerHTML = '';\n",
              "        dataTable['output_type'] = 'display_data';\n",
              "        await google.colab.output.renderOutput(dataTable, element);\n",
              "        const docLink = document.createElement('div');\n",
              "        docLink.innerHTML = docLinkHtml;\n",
              "        element.appendChild(docLink);\n",
              "      }\n",
              "    </script>\n",
              "  </div>\n",
              "\n",
              "\n",
              "<div id=\"df-0300cdd1-84ec-4d32-9148-1cef09d5fb83\">\n",
              "  <button class=\"colab-df-quickchart\" onclick=\"quickchart('df-0300cdd1-84ec-4d32-9148-1cef09d5fb83')\"\n",
              "            title=\"Suggest charts\"\n",
              "            style=\"display:none;\">\n",
              "\n",
              "<svg xmlns=\"http://www.w3.org/2000/svg\" height=\"24px\"viewBox=\"0 0 24 24\"\n",
              "     width=\"24px\">\n",
              "    <g>\n",
              "        <path d=\"M19 3H5c-1.1 0-2 .9-2 2v14c0 1.1.9 2 2 2h14c1.1 0 2-.9 2-2V5c0-1.1-.9-2-2-2zM9 17H7v-7h2v7zm4 0h-2V7h2v10zm4 0h-2v-4h2v4z\"/>\n",
              "    </g>\n",
              "</svg>\n",
              "  </button>\n",
              "\n",
              "<style>\n",
              "  .colab-df-quickchart {\n",
              "      --bg-color: #E8F0FE;\n",
              "      --fill-color: #1967D2;\n",
              "      --hover-bg-color: #E2EBFA;\n",
              "      --hover-fill-color: #174EA6;\n",
              "      --disabled-fill-color: #AAA;\n",
              "      --disabled-bg-color: #DDD;\n",
              "  }\n",
              "\n",
              "  [theme=dark] .colab-df-quickchart {\n",
              "      --bg-color: #3B4455;\n",
              "      --fill-color: #D2E3FC;\n",
              "      --hover-bg-color: #434B5C;\n",
              "      --hover-fill-color: #FFFFFF;\n",
              "      --disabled-bg-color: #3B4455;\n",
              "      --disabled-fill-color: #666;\n",
              "  }\n",
              "\n",
              "  .colab-df-quickchart {\n",
              "    background-color: var(--bg-color);\n",
              "    border: none;\n",
              "    border-radius: 50%;\n",
              "    cursor: pointer;\n",
              "    display: none;\n",
              "    fill: var(--fill-color);\n",
              "    height: 32px;\n",
              "    padding: 0;\n",
              "    width: 32px;\n",
              "  }\n",
              "\n",
              "  .colab-df-quickchart:hover {\n",
              "    background-color: var(--hover-bg-color);\n",
              "    box-shadow: 0 1px 2px rgba(60, 64, 67, 0.3), 0 1px 3px 1px rgba(60, 64, 67, 0.15);\n",
              "    fill: var(--button-hover-fill-color);\n",
              "  }\n",
              "\n",
              "  .colab-df-quickchart-complete:disabled,\n",
              "  .colab-df-quickchart-complete:disabled:hover {\n",
              "    background-color: var(--disabled-bg-color);\n",
              "    fill: var(--disabled-fill-color);\n",
              "    box-shadow: none;\n",
              "  }\n",
              "\n",
              "  .colab-df-spinner {\n",
              "    border: 2px solid var(--fill-color);\n",
              "    border-color: transparent;\n",
              "    border-bottom-color: var(--fill-color);\n",
              "    animation:\n",
              "      spin 1s steps(1) infinite;\n",
              "  }\n",
              "\n",
              "  @keyframes spin {\n",
              "    0% {\n",
              "      border-color: transparent;\n",
              "      border-bottom-color: var(--fill-color);\n",
              "      border-left-color: var(--fill-color);\n",
              "    }\n",
              "    20% {\n",
              "      border-color: transparent;\n",
              "      border-left-color: var(--fill-color);\n",
              "      border-top-color: var(--fill-color);\n",
              "    }\n",
              "    30% {\n",
              "      border-color: transparent;\n",
              "      border-left-color: var(--fill-color);\n",
              "      border-top-color: var(--fill-color);\n",
              "      border-right-color: var(--fill-color);\n",
              "    }\n",
              "    40% {\n",
              "      border-color: transparent;\n",
              "      border-right-color: var(--fill-color);\n",
              "      border-top-color: var(--fill-color);\n",
              "    }\n",
              "    60% {\n",
              "      border-color: transparent;\n",
              "      border-right-color: var(--fill-color);\n",
              "    }\n",
              "    80% {\n",
              "      border-color: transparent;\n",
              "      border-right-color: var(--fill-color);\n",
              "      border-bottom-color: var(--fill-color);\n",
              "    }\n",
              "    90% {\n",
              "      border-color: transparent;\n",
              "      border-bottom-color: var(--fill-color);\n",
              "    }\n",
              "  }\n",
              "</style>\n",
              "\n",
              "  <script>\n",
              "    async function quickchart(key) {\n",
              "      const quickchartButtonEl =\n",
              "        document.querySelector('#' + key + ' button');\n",
              "      quickchartButtonEl.disabled = true;  // To prevent multiple clicks.\n",
              "      quickchartButtonEl.classList.add('colab-df-spinner');\n",
              "      try {\n",
              "        const charts = await google.colab.kernel.invokeFunction(\n",
              "            'suggestCharts', [key], {});\n",
              "      } catch (error) {\n",
              "        console.error('Error during call to suggestCharts:', error);\n",
              "      }\n",
              "      quickchartButtonEl.classList.remove('colab-df-spinner');\n",
              "      quickchartButtonEl.classList.add('colab-df-quickchart-complete');\n",
              "    }\n",
              "    (() => {\n",
              "      let quickchartButtonEl =\n",
              "        document.querySelector('#df-0300cdd1-84ec-4d32-9148-1cef09d5fb83 button');\n",
              "      quickchartButtonEl.style.display =\n",
              "        google.colab.kernel.accessAllowed ? 'block' : 'none';\n",
              "    })();\n",
              "  </script>\n",
              "</div>\n",
              "\n",
              "  <div id=\"id_bcff04fd-e494-4ade-b54b-c087d7ad8272\">\n",
              "    <style>\n",
              "      .colab-df-generate {\n",
              "        background-color: #E8F0FE;\n",
              "        border: none;\n",
              "        border-radius: 50%;\n",
              "        cursor: pointer;\n",
              "        display: none;\n",
              "        fill: #1967D2;\n",
              "        height: 32px;\n",
              "        padding: 0 0 0 0;\n",
              "        width: 32px;\n",
              "      }\n",
              "\n",
              "      .colab-df-generate:hover {\n",
              "        background-color: #E2EBFA;\n",
              "        box-shadow: 0px 1px 2px rgba(60, 64, 67, 0.3), 0px 1px 3px 1px rgba(60, 64, 67, 0.15);\n",
              "        fill: #174EA6;\n",
              "      }\n",
              "\n",
              "      [theme=dark] .colab-df-generate {\n",
              "        background-color: #3B4455;\n",
              "        fill: #D2E3FC;\n",
              "      }\n",
              "\n",
              "      [theme=dark] .colab-df-generate:hover {\n",
              "        background-color: #434B5C;\n",
              "        box-shadow: 0px 1px 3px 1px rgba(0, 0, 0, 0.15);\n",
              "        filter: drop-shadow(0px 1px 2px rgba(0, 0, 0, 0.3));\n",
              "        fill: #FFFFFF;\n",
              "      }\n",
              "    </style>\n",
              "    <button class=\"colab-df-generate\" onclick=\"generateWithVariable('x_test')\"\n",
              "            title=\"Generate code using this dataframe.\"\n",
              "            style=\"display:none;\">\n",
              "\n",
              "  <svg xmlns=\"http://www.w3.org/2000/svg\" height=\"24px\"viewBox=\"0 0 24 24\"\n",
              "       width=\"24px\">\n",
              "    <path d=\"M7,19H8.4L18.45,9,17,7.55,7,17.6ZM5,21V16.75L18.45,3.32a2,2,0,0,1,2.83,0l1.4,1.43a1.91,1.91,0,0,1,.58,1.4,1.91,1.91,0,0,1-.58,1.4L9.25,21ZM18.45,9,17,7.55Zm-12,3A5.31,5.31,0,0,0,4.9,8.1,5.31,5.31,0,0,0,1,6.5,5.31,5.31,0,0,0,4.9,4.9,5.31,5.31,0,0,0,6.5,1,5.31,5.31,0,0,0,8.1,4.9,5.31,5.31,0,0,0,12,6.5,5.46,5.46,0,0,0,6.5,12Z\"/>\n",
              "  </svg>\n",
              "    </button>\n",
              "    <script>\n",
              "      (() => {\n",
              "      const buttonEl =\n",
              "        document.querySelector('#id_bcff04fd-e494-4ade-b54b-c087d7ad8272 button.colab-df-generate');\n",
              "      buttonEl.style.display =\n",
              "        google.colab.kernel.accessAllowed ? 'block' : 'none';\n",
              "\n",
              "      buttonEl.onclick = () => {\n",
              "        google.colab.notebook.generateWithVariable('x_test');\n",
              "      }\n",
              "      })();\n",
              "    </script>\n",
              "  </div>\n",
              "\n",
              "    </div>\n",
              "  </div>\n"
            ],
            "application/vnd.google.colaboratory.intrinsic+json": {
              "type": "dataframe",
              "variable_name": "x_test",
              "summary": "{\n  \"name\": \"x_test\",\n  \"rows\": 678,\n  \"fields\": [\n    {\n      \"column\": 0,\n      \"properties\": {\n        \"dtype\": \"number\",\n        \"std\": 0.4204286106368693,\n        \"min\": 0.0,\n        \"max\": 1.0,\n        \"num_unique_values\": 3,\n        \"samples\": [\n          1.0,\n          0.5,\n          0.0\n        ],\n        \"semantic_type\": \"\",\n        \"description\": \"\"\n      }\n    },\n    {\n      \"column\": 1,\n      \"properties\": {\n        \"dtype\": \"number\",\n        \"std\": 0.29556293016735297,\n        \"min\": 0.0,\n        \"max\": 1.0,\n        \"num_unique_values\": 14,\n        \"samples\": [\n          0.3076923076923077,\n          0.5384615384615385,\n          0.8461538461538463\n        ],\n        \"semantic_type\": \"\",\n        \"description\": \"\"\n      }\n    },\n    {\n      \"column\": 2,\n      \"properties\": {\n        \"dtype\": \"number\",\n        \"std\": 0.05886702504578983,\n        \"min\": 2.493572816066584e-06,\n        \"max\": 1.0,\n        \"num_unique_values\": 665,\n        \"samples\": [\n          0.12876435986245452,\n          0.09877166603080562,\n          0.0002867608738476577\n        ],\n        \"semantic_type\": \"\",\n        \"description\": \"\"\n      }\n    },\n    {\n      \"column\": 3,\n      \"properties\": {\n        \"dtype\": \"number\",\n        \"std\": 0.2817130239573273,\n        \"min\": 0.0,\n        \"max\": 0.9971751412429378,\n        \"num_unique_values\": 365,\n        \"samples\": [\n          0.8926553672316384,\n          0.6822033898305084,\n          0.9675141242937854\n        ],\n        \"semantic_type\": \"\",\n        \"description\": \"\"\n      }\n    },\n    {\n      \"column\": 4,\n      \"properties\": {\n        \"dtype\": \"number\",\n        \"std\": 0.27655588195211195,\n        \"min\": 0.0,\n        \"max\": 1.0,\n        \"num_unique_values\": 48,\n        \"samples\": [\n          0.22916666666666666,\n          0.29166666666666663,\n          0.08333333333333333\n        ],\n        \"semantic_type\": \"\",\n        \"description\": \"\"\n      }\n    },\n    {\n      \"column\": 5,\n      \"properties\": {\n        \"dtype\": \"number\",\n        \"std\": 0.11268521514436701,\n        \"min\": 0.0012176213460409757,\n        \"max\": 0.9795391434603223,\n        \"num_unique_values\": 376,\n        \"samples\": [\n          0.4108946450940373,\n          0.4900641222176477,\n          0.16399344762038248\n        ],\n        \"semantic_type\": \"\",\n        \"description\": \"\"\n      }\n    },\n    {\n      \"column\": 6,\n      \"properties\": {\n        \"dtype\": \"number\",\n        \"std\": 0.14833272782963192,\n        \"min\": 0.0,\n        \"max\": 1.0,\n        \"num_unique_values\": 375,\n        \"samples\": [\n          0.854153619451096,\n          0.9384928675221547,\n          0.6783313890423854\n        ],\n        \"semantic_type\": \"\",\n        \"description\": \"\"\n      }\n    },\n    {\n      \"column\": 7,\n      \"properties\": {\n        \"dtype\": \"number\",\n        \"std\": 0.10875800258874414,\n        \"min\": 0.0,\n        \"max\": 1.0,\n        \"num_unique_values\": 367,\n        \"samples\": [\n          0.0019107730236280125,\n          0.002039098255499321,\n          1.7201773709290714e-05\n        ],\n        \"semantic_type\": \"\",\n        \"description\": \"\"\n      }\n    },\n    {\n      \"column\": 8,\n      \"properties\": {\n        \"dtype\": \"number\",\n        \"std\": 0.22100304983721053,\n        \"min\": 0.0,\n        \"max\": 1.0,\n        \"num_unique_values\": 73,\n        \"samples\": [\n          0.35802469135802467,\n          0.8518518518518519,\n          0.4938271604938271\n        ],\n        \"semantic_type\": \"\",\n        \"description\": \"\"\n      }\n    },\n    {\n      \"column\": \"prediction\",\n      \"properties\": {\n        \"dtype\": \"number\",\n        \"std\": 0,\n        \"min\": 0,\n        \"max\": 1,\n        \"num_unique_values\": 2,\n        \"samples\": [\n          0,\n          1\n        ],\n        \"semantic_type\": \"\",\n        \"description\": \"\"\n      }\n    },\n    {\n      \"column\": \"pred_threshold\",\n      \"properties\": {\n        \"dtype\": \"number\",\n        \"std\": 0.4996632897189567,\n        \"min\": 0.0,\n        \"max\": 1.0,\n        \"num_unique_values\": 2,\n        \"samples\": [\n          0.0,\n          1.0\n        ],\n        \"semantic_type\": \"\",\n        \"description\": \"\"\n      }\n    }\n  ]\n}"
            }
          },
          "metadata": {},
          "execution_count": 87
        }
      ],
      "source": [
        "# Experimenting 0.3 threshold for XGBoost model\n",
        "predict(xgb, x_test, 0.3)"
      ]
    },
    {
      "cell_type": "code",
      "execution_count": 88,
      "id": "b05a8088",
      "metadata": {
        "execution": {
          "iopub.execute_input": "2024-05-22T14:17:50.636878Z",
          "iopub.status.busy": "2024-05-22T14:17:50.636417Z",
          "iopub.status.idle": "2024-05-22T14:17:50.676140Z",
          "shell.execute_reply": "2024-05-22T14:17:50.674657Z"
        },
        "papermill": {
          "duration": 0.072816,
          "end_time": "2024-05-22T14:17:50.678761",
          "exception": false,
          "start_time": "2024-05-22T14:17:50.605945",
          "status": "completed"
        },
        "tags": [],
        "colab": {
          "base_uri": "https://localhost:8080/"
        },
        "id": "b05a8088",
        "outputId": "0c9fe684-b2f5-44a4-89b0-ddb527abc425"
      },
      "outputs": [
        {
          "output_type": "stream",
          "name": "stdout",
          "text": [
            "              precision    recall  f1-score   support\n",
            "\n",
            "         0.0       0.95      0.99      0.97       318\n",
            "         1.0       0.99      0.96      0.97       360\n",
            "\n",
            "    accuracy                           0.97       678\n",
            "   macro avg       0.97      0.97      0.97       678\n",
            "weighted avg       0.97      0.97      0.97       678\n",
            "\n",
            "              precision    recall  f1-score   support\n",
            "\n",
            "         0.0       0.96      0.97      0.96       318\n",
            "         1.0       0.97      0.96      0.97       360\n",
            "\n",
            "    accuracy                           0.97       678\n",
            "   macro avg       0.97      0.97      0.97       678\n",
            "weighted avg       0.97      0.97      0.97       678\n",
            "\n"
          ]
        }
      ],
      "source": [
        "x_test[\"real\"] = y_test[\"is_fraud\"]\n",
        "print(classification_report(x_test['real'], x_test['prediction']))\n",
        "print(classification_report(x_test['real'], x_test['pred_threshold']))"
      ]
    },
    {
      "cell_type": "markdown",
      "id": "a13719e3",
      "metadata": {
        "papermill": {
          "duration": 0.028276,
          "end_time": "2024-05-22T14:17:50.736032",
          "exception": false,
          "start_time": "2024-05-22T14:17:50.707756",
          "status": "completed"
        },
        "tags": [],
        "id": "a13719e3"
      },
      "source": [
        "XGBoost got overall some much better results than the previous models, and we see also that in this case, reducing threshold to 0.3 got to a little bit worse model, which means that there is a different ROC (Receiver Operating Curve) behavior to this model"
      ]
    },
    {
      "cell_type": "code",
      "execution_count": 89,
      "id": "68f95a26",
      "metadata": {
        "execution": {
          "iopub.execute_input": "2024-05-22T14:17:50.795291Z",
          "iopub.status.busy": "2024-05-22T14:17:50.794819Z",
          "iopub.status.idle": "2024-05-22T14:17:51.053094Z",
          "shell.execute_reply": "2024-05-22T14:17:51.051982Z"
        },
        "papermill": {
          "duration": 0.291244,
          "end_time": "2024-05-22T14:17:51.055608",
          "exception": false,
          "start_time": "2024-05-22T14:17:50.764364",
          "status": "completed"
        },
        "tags": [],
        "colab": {
          "base_uri": "https://localhost:8080/",
          "height": 449
        },
        "id": "68f95a26",
        "outputId": "b83ef723-8e07-4794-9785-4eed98ec04fd"
      },
      "outputs": [
        {
          "output_type": "display_data",
          "data": {
            "text/plain": [
              "<Figure size 640x480 with 2 Axes>"
            ],
            "image/png": "[encoded data removed]"
          },
          "metadata": {}
        }
      ],
      "source": [
        "confusion_matrix_plot(x_test, 'prediction', xgb)"
      ]
    }
  ],
  "metadata": {
    "kaggle": {
      "accelerator": "none",
      "dataSources": [
        {
          "datasetId": 817870,
          "sourceId": 1399887,
          "sourceType": "datasetVersion"
        }
      ],
      "dockerImageVersionId": 30698,
      "isGpuEnabled": false,
      "isInternetEnabled": true,
      "language": "python",
      "sourceType": "notebook"
    },
    "kernelspec": {
      "display_name": "Python 3",
      "language": "python",
      "name": "python3"
    },
    "language_info": {
      "codemirror_mode": {
        "name": "ipython",
        "version": 3
      },
      "file_extension": ".py",
      "mimetype": "text/x-python",
      "name": "python",
      "nbconvert_exporter": "python",
      "pygments_lexer": "ipython3",
      "version": "3.10.13"
    },
    "papermill": {
      "default_parameters": {},
      "duration": 89.197695,
      "end_time": "2024-05-22T14:17:52.412026",
      "environment_variables": {},
      "exception": null,
      "input_path": "__notebook__.ipynb",
      "output_path": "__notebook__.ipynb",
      "parameters": {},
      "start_time": "2024-05-22T14:16:23.214331",
      "version": "2.5.0"
    },
    "colab": {
      "provenance": [],
      "include_colab_link": true
    }
  },
  "nbformat": 4,
  "nbformat_minor": 5
}